{
  "cells": [
    {
      "cell_type": "markdown",
      "metadata": {
        "id": "view-in-github",
        "colab_type": "text"
      },
      "source": [
        "<a href=\"https://colab.research.google.com/github/rsnatorres/analise_dados_ramon/blob/main/2024_12_analise_mercado_imobiliario_itbi_bh.ipynb\" target=\"_parent\"><img src=\"https://colab.research.google.com/assets/colab-badge.svg\" alt=\"Open In Colab\"/></a>"
      ]
    },
    {
      "cell_type": "markdown",
      "id": "7601e585-3866-4aa3-bcd3-fde66bcb48fd",
      "metadata": {
        "id": "7601e585-3866-4aa3-bcd3-fde66bcb48fd"
      },
      "source": [
        "# Intro"
      ]
    },
    {
      "cell_type": "code",
      "execution_count": null,
      "id": "459e1d81-aa96-4d99-a63f-6e74b04a350e",
      "metadata": {
        "tags": [],
        "id": "459e1d81-aa96-4d99-a63f-6e74b04a350e"
      },
      "outputs": [],
      "source": [
        "import pandas as pd\n",
        "import numpy as np\n",
        "import os"
      ]
    },
    {
      "cell_type": "markdown",
      "id": "9346cd73-1ba2-4c6e-8ffa-c6e09181568d",
      "metadata": {
        "id": "9346cd73-1ba2-4c6e-8ffa-c6e09181568d"
      },
      "source": [
        "# Carregamento"
      ]
    },
    {
      "cell_type": "markdown",
      "id": "beb34dfe-d58e-4169-9119-0fd28f2769d1",
      "metadata": {
        "id": "beb34dfe-d58e-4169-9119-0fd28f2769d1"
      },
      "source": [
        "Dados do ITBI são encontrados no sitio:\n",
        "- https://dados.pbh.gov.br/dataset/itbi-relatorios\n",
        "\n",
        "Dados de inflação no Sistema Gerador de Séries Temporais do BACEN"
      ]
    },
    {
      "cell_type": "code",
      "execution_count": null,
      "id": "4d392f3f-69f4-4fb1-8b0b-a90df2e5489b",
      "metadata": {
        "tags": [],
        "id": "4d392f3f-69f4-4fb1-8b0b-a90df2e5489b"
      },
      "outputs": [],
      "source": [
        "directory = r'D:\\OneDrive\\DADOS\\ITBI\\dados_itbi'\n",
        "csv_files = [file for file in os.listdir(directory) if file.endswith('.csv')]"
      ]
    },
    {
      "cell_type": "code",
      "execution_count": null,
      "id": "57cb7dd9-9f12-4169-acd5-08b8b1e8b41a",
      "metadata": {
        "tags": [],
        "id": "57cb7dd9-9f12-4169-acd5-08b8b1e8b41a"
      },
      "outputs": [],
      "source": [
        "dataframes = []\n",
        "\n",
        "for csv_file in csv_files:\n",
        "    file_path = os.path.join(directory, csv_file)\n",
        "    df = pd.read_csv(file_path, sep = ';')\n",
        "    df.columns = df.columns.str.strip()\n",
        "    dataframes.append(df)\n",
        "\n",
        "df = pd.concat(dataframes, ignore_index=True)"
      ]
    },
    {
      "cell_type": "code",
      "execution_count": null,
      "id": "84544f36-2749-4289-a3d8-ff2987e24c47",
      "metadata": {
        "tags": [],
        "id": "84544f36-2749-4289-a3d8-ff2987e24c47",
        "outputId": "94d02368-8789-43cd-dce1-bf8ebabf73ee"
      },
      "outputs": [
        {
          "name": "stdout",
          "output_type": "stream",
          "text": [
            "<class 'pandas.core.frame.DataFrame'>\n",
            "RangeIndex: 464856 entries, 0 to 464855\n",
            "Data columns (total 20 columns):\n",
            " #   Column                             Non-Null Count   Dtype  \n",
            "---  ------                             --------------   -----  \n",
            " 0   Endereco                           464856 non-null  object \n",
            " 1   Bairro                             464856 non-null  object \n",
            " 2   Ano de Construcao Unidade          452506 non-null  float64\n",
            " 3   Area Terreno Total                 464856 non-null  object \n",
            " 4   Area Construida Adquirida          464856 non-null  object \n",
            " 5   Area Adquirida Unidades Somadas    452506 non-null  object \n",
            " 6   Padrao Acabamento Unidade          452506 non-null  object \n",
            " 7   Fracao Ideal Adquirida             464856 non-null  object \n",
            " 8   Tipo Construtivo Preponderante     464856 non-null  object \n",
            " 9   Descricao Tipo Ocupacao Unidade    452506 non-null  object \n",
            " 10  Valor Declarado                    464856 non-null  object \n",
            " 11  Valor Base Calculo                 464856 non-null  object \n",
            " 12  Zona Uso ITBI                      455091 non-null  object \n",
            " 13  Data Quitacao Transacao            452506 non-null  object \n",
            " 14  Ano de Construcao (Unidade)        12350 non-null   float64\n",
            " 15  Area Adquirida (Unidades Somadas)  12350 non-null   object \n",
            " 16  Padrao Acabamento (Unidade)        12350 non-null   object \n",
            " 17  Descrição Tipo Ocupacao (Unidade)  12350 non-null   object \n",
            " 18  Zona Uso                           9765 non-null    object \n",
            " 19  Data Quitacao                      12350 non-null   object \n",
            "dtypes: float64(2), object(18)\n",
            "memory usage: 70.9+ MB\n"
          ]
        }
      ],
      "source": [
        "df.info()"
      ]
    },
    {
      "cell_type": "code",
      "execution_count": null,
      "id": "dea414ec-d5fc-4b55-9c2c-d09e415f1e1e",
      "metadata": {
        "tags": [],
        "id": "dea414ec-d5fc-4b55-9c2c-d09e415f1e1e",
        "outputId": "650b6f10-1c07-4513-9630-eb57e85d8cf3"
      },
      "outputs": [
        {
          "data": {
            "text/html": [
              "<div>\n",
              "<style scoped>\n",
              "    .dataframe tbody tr th:only-of-type {\n",
              "        vertical-align: middle;\n",
              "    }\n",
              "\n",
              "    .dataframe tbody tr th {\n",
              "        vertical-align: top;\n",
              "    }\n",
              "\n",
              "    .dataframe thead th {\n",
              "        text-align: right;\n",
              "    }\n",
              "</style>\n",
              "<table border=\"1\" class=\"dataframe\">\n",
              "  <thead>\n",
              "    <tr style=\"text-align: right;\">\n",
              "      <th></th>\n",
              "      <th>Endereco</th>\n",
              "      <th>Bairro</th>\n",
              "      <th>Ano de Construcao Unidade</th>\n",
              "      <th>Area Terreno Total</th>\n",
              "      <th>Area Construida Adquirida</th>\n",
              "      <th>Area Adquirida Unidades Somadas</th>\n",
              "      <th>Padrao Acabamento Unidade</th>\n",
              "      <th>Fracao Ideal Adquirida</th>\n",
              "      <th>Tipo Construtivo Preponderante</th>\n",
              "      <th>Descricao Tipo Ocupacao Unidade</th>\n",
              "      <th>Valor Declarado</th>\n",
              "      <th>Valor Base Calculo</th>\n",
              "      <th>Zona Uso ITBI</th>\n",
              "      <th>Data Quitacao Transacao</th>\n",
              "      <th>Ano de Construcao (Unidade)</th>\n",
              "      <th>Area Adquirida (Unidades Somadas)</th>\n",
              "      <th>Padrao Acabamento (Unidade)</th>\n",
              "      <th>Descrição Tipo Ocupacao (Unidade)</th>\n",
              "      <th>Zona Uso</th>\n",
              "      <th>Data Quitacao</th>\n",
              "    </tr>\n",
              "  </thead>\n",
              "  <tbody>\n",
              "    <tr>\n",
              "      <th>0</th>\n",
              "      <td>AVE AFONSO PENA 3924 - GARAGE 60 - CRUZEIRO - ...</td>\n",
              "      <td>CRUZEIRO</td>\n",
              "      <td>1976.0</td>\n",
              "      <td>1.119,00</td>\n",
              "      <td>28,53</td>\n",
              "      <td>28,53</td>\n",
              "      <td>P3</td>\n",
              "      <td>0,00447</td>\n",
              "      <td>VC</td>\n",
              "      <td>NAO RESIDENCIAL</td>\n",
              "      <td>1.000,00</td>\n",
              "      <td>11.411,56</td>\n",
              "      <td>ZA</td>\n",
              "      <td>02/01/2008</td>\n",
              "      <td>NaN</td>\n",
              "      <td>NaN</td>\n",
              "      <td>NaN</td>\n",
              "      <td>NaN</td>\n",
              "      <td>NaN</td>\n",
              "      <td>NaN</td>\n",
              "    </tr>\n",
              "    <tr>\n",
              "      <th>1</th>\n",
              "      <td>AVE AMAZONAS 718 - APT 704 - CENTRO - 30180-00...</td>\n",
              "      <td>CENTRO</td>\n",
              "      <td>1960.0</td>\n",
              "      <td>1.030,00</td>\n",
              "      <td>126,99</td>\n",
              "      <td>126,99</td>\n",
              "      <td>P2</td>\n",
              "      <td>0,007197</td>\n",
              "      <td>AP</td>\n",
              "      <td>RESIDENCIAL</td>\n",
              "      <td>85.000,00</td>\n",
              "      <td>85.000,00</td>\n",
              "      <td>ZHIP</td>\n",
              "      <td>02/01/2008</td>\n",
              "      <td>NaN</td>\n",
              "      <td>NaN</td>\n",
              "      <td>NaN</td>\n",
              "      <td>NaN</td>\n",
              "      <td>NaN</td>\n",
              "      <td>NaN</td>\n",
              "    </tr>\n",
              "  </tbody>\n",
              "</table>\n",
              "</div>"
            ],
            "text/plain": [
              "                                            Endereco    Bairro  \\\n",
              "0  AVE AFONSO PENA 3924 - GARAGE 60 - CRUZEIRO - ...  CRUZEIRO   \n",
              "1  AVE AMAZONAS 718 - APT 704 - CENTRO - 30180-00...    CENTRO   \n",
              "\n",
              "   Ano de Construcao Unidade Area Terreno Total Area Construida Adquirida  \\\n",
              "0                     1976.0           1.119,00                     28,53   \n",
              "1                     1960.0           1.030,00                    126,99   \n",
              "\n",
              "  Area Adquirida Unidades Somadas Padrao Acabamento Unidade  \\\n",
              "0                           28,53                        P3   \n",
              "1                          126,99                        P2   \n",
              "\n",
              "  Fracao Ideal Adquirida Tipo Construtivo Preponderante  \\\n",
              "0                0,00447                             VC   \n",
              "1               0,007197                             AP   \n",
              "\n",
              "  Descricao Tipo Ocupacao Unidade Valor Declarado Valor Base Calculo  \\\n",
              "0                 NAO RESIDENCIAL        1.000,00          11.411,56   \n",
              "1                     RESIDENCIAL       85.000,00          85.000,00   \n",
              "\n",
              "  Zona Uso ITBI Data Quitacao Transacao  Ano de Construcao (Unidade)  \\\n",
              "0            ZA              02/01/2008                          NaN   \n",
              "1          ZHIP              02/01/2008                          NaN   \n",
              "\n",
              "  Area Adquirida (Unidades Somadas) Padrao Acabamento (Unidade)  \\\n",
              "0                               NaN                         NaN   \n",
              "1                               NaN                         NaN   \n",
              "\n",
              "  Descrição Tipo Ocupacao (Unidade) Zona Uso Data Quitacao  \n",
              "0                               NaN      NaN           NaN  \n",
              "1                               NaN      NaN           NaN  "
            ]
          },
          "execution_count": 574,
          "metadata": {},
          "output_type": "execute_result"
        }
      ],
      "source": [
        "df.head(2)"
      ]
    },
    {
      "cell_type": "code",
      "execution_count": null,
      "id": "84dbd233-de94-48e3-97ac-e8af647680b7",
      "metadata": {
        "tags": [],
        "id": "84dbd233-de94-48e3-97ac-e8af647680b7",
        "outputId": "d6795c81-a4e8-4b57-9589-6f3af4ea7e34"
      },
      "outputs": [
        {
          "data": {
            "text/plain": [
              "Index(['Endereco', 'Bairro', 'Ano de Construcao Unidade', 'Area Terreno Total',\n",
              "       'Area Construida Adquirida', 'Area Adquirida Unidades Somadas',\n",
              "       'Padrao Acabamento Unidade', 'Fracao Ideal Adquirida',\n",
              "       'Tipo Construtivo Preponderante', 'Descricao Tipo Ocupacao Unidade',\n",
              "       'Valor Declarado', 'Valor Base Calculo', 'Zona Uso ITBI',\n",
              "       'Data Quitacao Transacao', 'Ano de Construcao (Unidade)',\n",
              "       'Area Adquirida (Unidades Somadas)', 'Padrao Acabamento (Unidade)',\n",
              "       'Descrição Tipo Ocupacao (Unidade)', 'Zona Uso', 'Data Quitacao'],\n",
              "      dtype='object')"
            ]
          },
          "execution_count": 575,
          "metadata": {},
          "output_type": "execute_result"
        }
      ],
      "source": [
        "df.columns"
      ]
    },
    {
      "cell_type": "markdown",
      "id": "7c79615a-cd0c-4a68-8a2f-048cb3b52ea1",
      "metadata": {
        "tags": [],
        "toc-hr-collapsed": true,
        "id": "7c79615a-cd0c-4a68-8a2f-048cb3b52ea1"
      },
      "source": [
        "# Transformações"
      ]
    },
    {
      "cell_type": "code",
      "execution_count": null,
      "id": "9b8b3e02-dbb9-4ce2-9ee2-0f9f25676f46",
      "metadata": {
        "tags": [],
        "id": "9b8b3e02-dbb9-4ce2-9ee2-0f9f25676f46"
      },
      "outputs": [],
      "source": [
        "df.columns = df.columns.str.lower().str.replace(' ', '_')"
      ]
    },
    {
      "cell_type": "code",
      "execution_count": null,
      "id": "d20ab6b8-6714-4aa8-934d-3619f7fac78a",
      "metadata": {
        "tags": [],
        "id": "d20ab6b8-6714-4aa8-934d-3619f7fac78a",
        "outputId": "eb778220-8719-4846-9381-16d87211d8c7"
      },
      "outputs": [
        {
          "data": {
            "text/plain": [
              "Index(['endereco', 'bairro', 'ano_de_construcao_unidade', 'area_terreno_total',\n",
              "       'area_construida_adquirida', 'area_adquirida_unidades_somadas',\n",
              "       'padrao_acabamento_unidade', 'fracao_ideal_adquirida',\n",
              "       'tipo_construtivo_preponderante', 'descricao_tipo_ocupacao_unidade',\n",
              "       'valor_declarado', 'valor_base_calculo', 'zona_uso_itbi',\n",
              "       'data_quitacao_transacao', 'ano_de_construcao_(unidade)',\n",
              "       'area_adquirida_(unidades_somadas)', 'padrao_acabamento_(unidade)',\n",
              "       'descrição_tipo_ocupacao_(unidade)', 'zona_uso', 'data_quitacao'],\n",
              "      dtype='object')"
            ]
          },
          "execution_count": 577,
          "metadata": {},
          "output_type": "execute_result"
        }
      ],
      "source": [
        "df.columns"
      ]
    },
    {
      "cell_type": "code",
      "execution_count": null,
      "id": "620b36f0-5f1e-4167-8bc9-56a1df90cbcb",
      "metadata": {
        "tags": [],
        "id": "620b36f0-5f1e-4167-8bc9-56a1df90cbcb",
        "outputId": "1870a880-50a7-4dcf-b01b-730fa1d20faf"
      },
      "outputs": [
        {
          "data": {
            "text/plain": [
              "(0                NaN\n",
              " 1                NaN\n",
              " 2                NaN\n",
              " 3                NaN\n",
              " 4                NaN\n",
              "              ...    \n",
              " 464851    29/11/2024\n",
              " 464852    29/11/2024\n",
              " 464853    30/11/2024\n",
              " 464854    30/11/2024\n",
              " 464855    30/11/2024\n",
              " Name: data_quitacao, Length: 464856, dtype: object,\n",
              " 0         02/01/2008\n",
              " 1         02/01/2008\n",
              " 2         02/01/2008\n",
              " 3         02/01/2008\n",
              " 4         02/01/2008\n",
              "              ...    \n",
              " 464851           NaN\n",
              " 464852           NaN\n",
              " 464853           NaN\n",
              " 464854           NaN\n",
              " 464855           NaN\n",
              " Name: data_quitacao_transacao, Length: 464856, dtype: object)"
            ]
          },
          "execution_count": 578,
          "metadata": {},
          "output_type": "execute_result"
        }
      ],
      "source": [
        "df['data_quitacao'], df['data_quitacao_transacao']"
      ]
    },
    {
      "cell_type": "code",
      "execution_count": null,
      "id": "eefb2535-6d17-4168-98d6-ba440d655ee4",
      "metadata": {
        "id": "eefb2535-6d17-4168-98d6-ba440d655ee4"
      },
      "outputs": [],
      "source": []
    },
    {
      "cell_type": "code",
      "execution_count": null,
      "id": "400a8add-3023-4807-a68b-3d8efbcd9750",
      "metadata": {
        "tags": [],
        "id": "400a8add-3023-4807-a68b-3d8efbcd9750"
      },
      "outputs": [],
      "source": [
        "df['padrao_acabamento_unidade'] = df['padrao_acabamento_unidade'].combine_first(df['padrao_acabamento_(unidade)'])\n",
        "df['zona_uso_itbi'] = df['zona_uso_itbi'].combine_first(df['zona_uso'])\n",
        "df['descricao_tipo_ocupacao_unidade'] = df['descricao_tipo_ocupacao_unidade'].combine_first(df['descrição_tipo_ocupacao_(unidade)'])\n",
        "df['data_quitacao'] = df['data_quitacao'].combine_first(df['data_quitacao_transacao'])\n",
        "df['area_adquirida_unidades_somadas'] = df['area_adquirida_unidades_somadas'].combine_first(df['area_adquirida_(unidades_somadas)'])"
      ]
    },
    {
      "cell_type": "code",
      "execution_count": null,
      "id": "f0f53a12-4d22-478c-b9f0-2d6e0109c2ae",
      "metadata": {
        "tags": [],
        "id": "f0f53a12-4d22-478c-b9f0-2d6e0109c2ae"
      },
      "outputs": [],
      "source": [
        "df = df.drop(columns=['padrao_acabamento_(unidade)', 'zona_uso',\n",
        "                      'descrição_tipo_ocupacao_(unidade)', 'data_quitacao_transacao',\n",
        "                     'area_adquirida_(unidades_somadas)'])"
      ]
    },
    {
      "cell_type": "code",
      "execution_count": null,
      "id": "25c6cb09-ee4b-436d-8667-b86f91fc826d",
      "metadata": {
        "id": "25c6cb09-ee4b-436d-8667-b86f91fc826d",
        "outputId": "252b8eaf-d6ad-4899-e9ab-4d091b721822"
      },
      "outputs": [
        {
          "data": {
            "text/html": [
              "<div>\n",
              "<style scoped>\n",
              "    .dataframe tbody tr th:only-of-type {\n",
              "        vertical-align: middle;\n",
              "    }\n",
              "\n",
              "    .dataframe tbody tr th {\n",
              "        vertical-align: top;\n",
              "    }\n",
              "\n",
              "    .dataframe thead th {\n",
              "        text-align: right;\n",
              "    }\n",
              "</style>\n",
              "<table border=\"1\" class=\"dataframe\">\n",
              "  <thead>\n",
              "    <tr style=\"text-align: right;\">\n",
              "      <th></th>\n",
              "      <th>endereco</th>\n",
              "      <th>bairro</th>\n",
              "      <th>ano_de_construcao_unidade</th>\n",
              "      <th>area_terreno_total</th>\n",
              "      <th>area_construida_adquirida</th>\n",
              "      <th>area_adquirida_unidades_somadas</th>\n",
              "      <th>padrao_acabamento_unidade</th>\n",
              "      <th>fracao_ideal_adquirida</th>\n",
              "      <th>tipo_construtivo_preponderante</th>\n",
              "      <th>descricao_tipo_ocupacao_unidade</th>\n",
              "      <th>valor_declarado</th>\n",
              "      <th>valor_base_calculo</th>\n",
              "      <th>zona_uso_itbi</th>\n",
              "      <th>ano_de_construcao_(unidade)</th>\n",
              "      <th>data_quitacao</th>\n",
              "    </tr>\n",
              "  </thead>\n",
              "  <tbody>\n",
              "    <tr>\n",
              "      <th>0</th>\n",
              "      <td>AVE AFONSO PENA 3924 - GARAGE 60 - CRUZEIRO - ...</td>\n",
              "      <td>CRUZEIRO</td>\n",
              "      <td>1976.0</td>\n",
              "      <td>1.119,00</td>\n",
              "      <td>28,53</td>\n",
              "      <td>28,53</td>\n",
              "      <td>P3</td>\n",
              "      <td>0,00447</td>\n",
              "      <td>VC</td>\n",
              "      <td>NAO RESIDENCIAL</td>\n",
              "      <td>1.000,00</td>\n",
              "      <td>11.411,56</td>\n",
              "      <td>ZA</td>\n",
              "      <td>NaN</td>\n",
              "      <td>02/01/2008</td>\n",
              "    </tr>\n",
              "    <tr>\n",
              "      <th>1</th>\n",
              "      <td>AVE AMAZONAS 718 - APT 704 - CENTRO - 30180-00...</td>\n",
              "      <td>CENTRO</td>\n",
              "      <td>1960.0</td>\n",
              "      <td>1.030,00</td>\n",
              "      <td>126,99</td>\n",
              "      <td>126,99</td>\n",
              "      <td>P2</td>\n",
              "      <td>0,007197</td>\n",
              "      <td>AP</td>\n",
              "      <td>RESIDENCIAL</td>\n",
              "      <td>85.000,00</td>\n",
              "      <td>85.000,00</td>\n",
              "      <td>ZHIP</td>\n",
              "      <td>NaN</td>\n",
              "      <td>02/01/2008</td>\n",
              "    </tr>\n",
              "  </tbody>\n",
              "</table>\n",
              "</div>"
            ],
            "text/plain": [
              "                                            endereco    bairro  \\\n",
              "0  AVE AFONSO PENA 3924 - GARAGE 60 - CRUZEIRO - ...  CRUZEIRO   \n",
              "1  AVE AMAZONAS 718 - APT 704 - CENTRO - 30180-00...    CENTRO   \n",
              "\n",
              "   ano_de_construcao_unidade area_terreno_total area_construida_adquirida  \\\n",
              "0                     1976.0           1.119,00                     28,53   \n",
              "1                     1960.0           1.030,00                    126,99   \n",
              "\n",
              "  area_adquirida_unidades_somadas padrao_acabamento_unidade  \\\n",
              "0                           28,53                        P3   \n",
              "1                          126,99                        P2   \n",
              "\n",
              "  fracao_ideal_adquirida tipo_construtivo_preponderante  \\\n",
              "0                0,00447                             VC   \n",
              "1               0,007197                             AP   \n",
              "\n",
              "  descricao_tipo_ocupacao_unidade valor_declarado valor_base_calculo  \\\n",
              "0                 NAO RESIDENCIAL        1.000,00          11.411,56   \n",
              "1                     RESIDENCIAL       85.000,00          85.000,00   \n",
              "\n",
              "  zona_uso_itbi  ano_de_construcao_(unidade) data_quitacao  \n",
              "0            ZA                          NaN    02/01/2008  \n",
              "1          ZHIP                          NaN    02/01/2008  "
            ]
          },
          "execution_count": 581,
          "metadata": {},
          "output_type": "execute_result"
        }
      ],
      "source": [
        "df.head(2)"
      ]
    },
    {
      "cell_type": "code",
      "execution_count": null,
      "id": "beb81068-ee23-40e8-a27d-50aa0d9b788c",
      "metadata": {
        "tags": [],
        "id": "beb81068-ee23-40e8-a27d-50aa0d9b788c",
        "outputId": "18ff4478-1ee8-441d-a6bc-769a4f918c9b"
      },
      "outputs": [
        {
          "name": "stdout",
          "output_type": "stream",
          "text": [
            "area_terreno_total\n",
            "area_construida_adquirida\n",
            "area_adquirida_unidades_somadas\n",
            "fracao_ideal_adquirida\n",
            "valor_declarado\n",
            "valor_base_calculo\n"
          ]
        }
      ],
      "source": [
        "for col in ['area_terreno_total', 'area_construida_adquirida',\n",
        "            'area_adquirida_unidades_somadas', 'fracao_ideal_adquirida',\n",
        "            'valor_declarado', 'valor_base_calculo']:\n",
        "    print(col)\n",
        "    df[col] = pd.to_numeric(df[col].str.replace('.', '').str.replace(',','.'), errors = 'coerce')"
      ]
    },
    {
      "cell_type": "code",
      "execution_count": null,
      "id": "a6527c63-c3b3-4f78-bb0b-4cc43b7380eb",
      "metadata": {
        "tags": [],
        "id": "a6527c63-c3b3-4f78-bb0b-4cc43b7380eb"
      },
      "outputs": [],
      "source": [
        "import unicodedata"
      ]
    },
    {
      "cell_type": "code",
      "execution_count": null,
      "id": "a23ead2a-c5db-4482-bd39-ded0f1f820fd",
      "metadata": {
        "tags": [],
        "id": "a23ead2a-c5db-4482-bd39-ded0f1f820fd"
      },
      "outputs": [],
      "source": [
        "def normalize_text(text):\n",
        "    text = unicodedata.normalize('NFD', text).encode('ascii', 'ignore').decode('utf-8')\n",
        "    text = text.lower().strip()\n",
        "    return text"
      ]
    },
    {
      "cell_type": "code",
      "execution_count": null,
      "id": "49f3bea0-1ede-4f08-ac64-88e2fc04910c",
      "metadata": {
        "tags": [],
        "id": "49f3bea0-1ede-4f08-ac64-88e2fc04910c",
        "outputId": "4eb0d62d-f2e7-4c09-980f-1054ab6aa421"
      },
      "outputs": [
        {
          "data": {
            "text/plain": [
              "descricao_tipo_ocupacao_unidade\n",
              "False    464856\n",
              "Name: count, dtype: int64"
            ]
          },
          "execution_count": 585,
          "metadata": {},
          "output_type": "execute_result"
        }
      ],
      "source": [
        "df['descricao_tipo_ocupacao_unidade'].isnull().value_counts()"
      ]
    },
    {
      "cell_type": "code",
      "execution_count": null,
      "id": "1c3bad38-24ca-4ce8-ad21-51fd8cfb1426",
      "metadata": {
        "tags": [],
        "id": "1c3bad38-24ca-4ce8-ad21-51fd8cfb1426",
        "outputId": "b7b0cde9-bc62-4634-a48b-a1d8f0d29ced"
      },
      "outputs": [
        {
          "name": "stdout",
          "output_type": "stream",
          "text": [
            "endereco\n",
            "bairro\n",
            "padrao_acabamento_unidade\n",
            "tipo_construtivo_preponderante\n",
            "descricao_tipo_ocupacao_unidade\n",
            "zona_uso_itbi\n"
          ]
        }
      ],
      "source": [
        "for col in ['endereco', 'bairro', 'padrao_acabamento_unidade', 'tipo_construtivo_preponderante',\n",
        "           'descricao_tipo_ocupacao_unidade',\n",
        "            'zona_uso_itbi']:\n",
        "    print(col)\n",
        "    df[col] = df[col].apply(normalize_text)"
      ]
    },
    {
      "cell_type": "code",
      "execution_count": null,
      "id": "436d0b96-750e-4a0f-aeab-6080dafd1f07",
      "metadata": {
        "tags": [],
        "id": "436d0b96-750e-4a0f-aeab-6080dafd1f07"
      },
      "outputs": [],
      "source": [
        "df['data_quitacao'] = pd.to_datetime(df['data_quitacao'], format = '%d/%m/%Y')"
      ]
    },
    {
      "cell_type": "code",
      "execution_count": null,
      "id": "77996519-9001-4e29-b4ed-a1b78c9c5ae7",
      "metadata": {
        "tags": [],
        "id": "77996519-9001-4e29-b4ed-a1b78c9c5ae7"
      },
      "outputs": [],
      "source": [
        "df['mes_ano'] = df['data_quitacao'].dt.strftime('%m-%Y')"
      ]
    },
    {
      "cell_type": "code",
      "execution_count": null,
      "id": "a7f1014a-1daf-4308-acba-3d6479a3122d",
      "metadata": {
        "tags": [],
        "id": "a7f1014a-1daf-4308-acba-3d6479a3122d",
        "outputId": "4e063e1f-5f37-48a8-868c-e97aabca14e8"
      },
      "outputs": [
        {
          "data": {
            "text/plain": [
              "464856"
            ]
          },
          "execution_count": 589,
          "metadata": {},
          "output_type": "execute_result"
        }
      ],
      "source": [
        "len(df)"
      ]
    },
    {
      "cell_type": "code",
      "execution_count": null,
      "id": "8b1d80c6-2a13-42a6-9317-ef4f7d16aa61",
      "metadata": {
        "tags": [],
        "id": "8b1d80c6-2a13-42a6-9317-ef4f7d16aa61",
        "outputId": "69123805-66fd-4b97-c628-ce4edbff3a16"
      },
      "outputs": [
        {
          "name": "stdout",
          "output_type": "stream",
          "text": [
            "<class 'pandas.core.frame.DataFrame'>\n",
            "RangeIndex: 464856 entries, 0 to 464855\n",
            "Data columns (total 16 columns):\n",
            " #   Column                           Non-Null Count   Dtype         \n",
            "---  ------                           --------------   -----         \n",
            " 0   endereco                         464856 non-null  object        \n",
            " 1   bairro                           464856 non-null  object        \n",
            " 2   ano_de_construcao_unidade        452506 non-null  float64       \n",
            " 3   area_terreno_total               464856 non-null  float64       \n",
            " 4   area_construida_adquirida        464856 non-null  float64       \n",
            " 5   area_adquirida_unidades_somadas  464856 non-null  float64       \n",
            " 6   padrao_acabamento_unidade        464856 non-null  object        \n",
            " 7   fracao_ideal_adquirida           464856 non-null  float64       \n",
            " 8   tipo_construtivo_preponderante   464856 non-null  object        \n",
            " 9   descricao_tipo_ocupacao_unidade  464856 non-null  object        \n",
            " 10  valor_declarado                  464856 non-null  float64       \n",
            " 11  valor_base_calculo               464856 non-null  float64       \n",
            " 12  zona_uso_itbi                    464856 non-null  object        \n",
            " 13  ano_de_construcao_(unidade)      12350 non-null   float64       \n",
            " 14  data_quitacao                    464856 non-null  datetime64[ns]\n",
            " 15  mes_ano                          464856 non-null  object        \n",
            "dtypes: datetime64[ns](1), float64(8), object(7)\n",
            "memory usage: 56.7+ MB\n"
          ]
        }
      ],
      "source": [
        "df.info()"
      ]
    },
    {
      "cell_type": "code",
      "execution_count": null,
      "id": "9df8b02a-8cb9-4986-ae2d-e20f1fe40213",
      "metadata": {
        "tags": [],
        "id": "9df8b02a-8cb9-4986-ae2d-e20f1fe40213"
      },
      "outputs": [],
      "source": [
        "df['ano'] = df['data_quitacao'].dt.year"
      ]
    },
    {
      "cell_type": "code",
      "execution_count": null,
      "id": "32eea568-8d7b-4500-ac4d-d51c17d82e73",
      "metadata": {
        "tags": [],
        "id": "32eea568-8d7b-4500-ac4d-d51c17d82e73",
        "outputId": "52842e80-b0f1-4b6f-acef-0f1e68508ead"
      },
      "outputs": [
        {
          "data": {
            "text/plain": [
              "ano\n",
              "2008    36935\n",
              "2009    33356\n",
              "2010    34643\n",
              "2011    31596\n",
              "2012    30005\n",
              "2013    30976\n",
              "2014    10905\n",
              "2015    28858\n",
              "2016    25861\n",
              "2017    21394\n",
              "2018    22258\n",
              "2019    23965\n",
              "2020    22779\n",
              "2021    33490\n",
              "2022    26725\n",
              "2023    25784\n",
              "2024    25326\n",
              "Name: count, dtype: int64"
            ]
          },
          "execution_count": 592,
          "metadata": {},
          "output_type": "execute_result"
        }
      ],
      "source": [
        "df['ano'].value_counts().sort_index()"
      ]
    },
    {
      "cell_type": "code",
      "execution_count": null,
      "id": "99ac23dd-3c57-4122-a99a-4b5cdc0072f1",
      "metadata": {
        "tags": [],
        "id": "99ac23dd-3c57-4122-a99a-4b5cdc0072f1",
        "outputId": "be47844b-dcec-4a23-fe9a-af24a855ef49"
      },
      "outputs": [
        {
          "data": {
            "text/plain": [
              "10905"
            ]
          },
          "execution_count": 593,
          "metadata": {},
          "output_type": "execute_result"
        }
      ],
      "source": [
        "len(df.query(\"ano == 2014\")) # tem algum problema com os dados de 2014 # já reportei à PBH"
      ]
    },
    {
      "cell_type": "code",
      "execution_count": null,
      "id": "604681bb-4ba7-4f0a-8678-73af34fd70ba",
      "metadata": {
        "tags": [],
        "id": "604681bb-4ba7-4f0a-8678-73af34fd70ba",
        "outputId": "ace5143b-e587-4f5f-86d2-601717450026"
      },
      "outputs": [
        {
          "data": {
            "text/plain": [
              "311797"
            ]
          },
          "execution_count": 594,
          "metadata": {},
          "output_type": "execute_result"
        }
      ],
      "source": [
        "df_ap = df[df['tipo_construtivo_preponderante'] == 'ap']\n",
        "len(df_ap)"
      ]
    },
    {
      "cell_type": "code",
      "execution_count": null,
      "id": "5a457347-0782-4e70-8210-55df8de11586",
      "metadata": {
        "tags": [],
        "id": "5a457347-0782-4e70-8210-55df8de11586",
        "outputId": "3c31476b-8457-478d-ce34-362c0c03373f"
      },
      "outputs": [
        {
          "data": {
            "text/plain": [
              "ano\n",
              "2008    21166\n",
              "2009    19509\n",
              "2010    21453\n",
              "2011    19805\n",
              "2012    19575\n",
              "2013    21195\n",
              "2014     7654\n",
              "2015    19267\n",
              "2016    17447\n",
              "2017    14344\n",
              "2018    15010\n",
              "2019    16315\n",
              "2020    16479\n",
              "2021    25106\n",
              "2022    19552\n",
              "2023    19018\n",
              "2024    18902\n",
              "Name: count, dtype: int64"
            ]
          },
          "execution_count": 595,
          "metadata": {},
          "output_type": "execute_result"
        }
      ],
      "source": [
        "df_ap['ano'].value_counts().sort_index()"
      ]
    },
    {
      "cell_type": "markdown",
      "id": "1d48dbfd-e320-4329-8f7c-41b05d1642ce",
      "metadata": {
        "toc-hr-collapsed": true,
        "id": "1d48dbfd-e320-4329-8f7c-41b05d1642ce"
      },
      "source": [
        "## Deflacionamento"
      ]
    },
    {
      "cell_type": "code",
      "execution_count": null,
      "id": "c1de33ec-731a-46fc-9945-c68923bdf1de",
      "metadata": {
        "tags": [],
        "id": "c1de33ec-731a-46fc-9945-c68923bdf1de"
      },
      "outputs": [],
      "source": [
        "ipca = pd.read_csv('ipca/ipca_mensal_bacen.csv',\n",
        "               sep=';', decimal=',', header=0, encoding='latin1')\n",
        "ipca.drop(ipca.tail(1).index, inplace=True) # dropando a fonte\n",
        "ipca.rename(columns={'Data': 'data',\n",
        "        '433 - Índice nacional de preços ao consumidor-amplo (IPCA) - Var. % mensal': 'ipca'},\n",
        "    inplace=True)\n",
        "ipca['data'] = pd.to_datetime(ipca['data'], format = '%m/%Y')\n",
        "ipca['ipca'] = pd.to_numeric(ipca['ipca'].str.replace(',','.'))/100\n",
        "# DEFINIR A DATA BASE --------------------------------------------------------\n",
        "#ipca = ipca[ipca['data'] < '2024']\n",
        "# chave para depois mergiar\n",
        "ipca['mes/ano'] = ipca['data'].dt.strftime('%m/%Y')\n",
        "# preparando para utilizar cumulative product\n",
        "ipca['ipca_1'] = ipca['ipca'] + 1\n",
        "# cumulative product\n",
        "ipca['ipca_cumprod'] = ipca['ipca_1'].cumprod().round(4)\n",
        "# building the index --> para valores a preços presentes (ultima obs)\n",
        "ipca['multiplier'] = (ipca['ipca_cumprod'].iloc[-1]/ipca['ipca_cumprod']).round(2)"
      ]
    },
    {
      "cell_type": "code",
      "execution_count": null,
      "id": "8efe92f3-3efd-42d0-a894-03f1613d9e03",
      "metadata": {
        "tags": [],
        "id": "8efe92f3-3efd-42d0-a894-03f1613d9e03"
      },
      "outputs": [],
      "source": [
        "ipca['mes_ano'] = ipca['data'].dt.strftime('%m-%Y')"
      ]
    },
    {
      "cell_type": "code",
      "execution_count": null,
      "id": "89f8ff85-cc85-40b9-97dd-11135de49850",
      "metadata": {
        "tags": [],
        "id": "89f8ff85-cc85-40b9-97dd-11135de49850",
        "outputId": "2af66998-ec4c-40c3-8e9c-98946b040a28"
      },
      "outputs": [
        {
          "data": {
            "text/html": [
              "<div>\n",
              "<style scoped>\n",
              "    .dataframe tbody tr th:only-of-type {\n",
              "        vertical-align: middle;\n",
              "    }\n",
              "\n",
              "    .dataframe tbody tr th {\n",
              "        vertical-align: top;\n",
              "    }\n",
              "\n",
              "    .dataframe thead th {\n",
              "        text-align: right;\n",
              "    }\n",
              "</style>\n",
              "<table border=\"1\" class=\"dataframe\">\n",
              "  <thead>\n",
              "    <tr style=\"text-align: right;\">\n",
              "      <th></th>\n",
              "      <th>data</th>\n",
              "      <th>ipca</th>\n",
              "      <th>mes/ano</th>\n",
              "      <th>ipca_1</th>\n",
              "      <th>ipca_cumprod</th>\n",
              "      <th>multiplier</th>\n",
              "      <th>mes_ano</th>\n",
              "    </tr>\n",
              "  </thead>\n",
              "  <tbody>\n",
              "    <tr>\n",
              "      <th>0</th>\n",
              "      <td>2000-01-01</td>\n",
              "      <td>0.0062</td>\n",
              "      <td>01/2000</td>\n",
              "      <td>1.0062</td>\n",
              "      <td>1.0062</td>\n",
              "      <td>4.42</td>\n",
              "      <td>01-2000</td>\n",
              "    </tr>\n",
              "    <tr>\n",
              "      <th>1</th>\n",
              "      <td>2000-02-01</td>\n",
              "      <td>0.0013</td>\n",
              "      <td>02/2000</td>\n",
              "      <td>1.0013</td>\n",
              "      <td>1.0075</td>\n",
              "      <td>4.41</td>\n",
              "      <td>02-2000</td>\n",
              "    </tr>\n",
              "    <tr>\n",
              "      <th>2</th>\n",
              "      <td>2000-03-01</td>\n",
              "      <td>0.0022</td>\n",
              "      <td>03/2000</td>\n",
              "      <td>1.0022</td>\n",
              "      <td>1.0097</td>\n",
              "      <td>4.40</td>\n",
              "      <td>03-2000</td>\n",
              "    </tr>\n",
              "    <tr>\n",
              "      <th>3</th>\n",
              "      <td>2000-04-01</td>\n",
              "      <td>0.0042</td>\n",
              "      <td>04/2000</td>\n",
              "      <td>1.0042</td>\n",
              "      <td>1.0140</td>\n",
              "      <td>4.39</td>\n",
              "      <td>04-2000</td>\n",
              "    </tr>\n",
              "    <tr>\n",
              "      <th>4</th>\n",
              "      <td>2000-05-01</td>\n",
              "      <td>0.0001</td>\n",
              "      <td>05/2000</td>\n",
              "      <td>1.0001</td>\n",
              "      <td>1.0141</td>\n",
              "      <td>4.38</td>\n",
              "      <td>05-2000</td>\n",
              "    </tr>\n",
              "    <tr>\n",
              "      <th>...</th>\n",
              "      <td>...</td>\n",
              "      <td>...</td>\n",
              "      <td>...</td>\n",
              "      <td>...</td>\n",
              "      <td>...</td>\n",
              "      <td>...</td>\n",
              "      <td>...</td>\n",
              "    </tr>\n",
              "    <tr>\n",
              "      <th>294</th>\n",
              "      <td>2024-07-01</td>\n",
              "      <td>0.0038</td>\n",
              "      <td>07/2024</td>\n",
              "      <td>1.0038</td>\n",
              "      <td>4.3863</td>\n",
              "      <td>1.01</td>\n",
              "      <td>07-2024</td>\n",
              "    </tr>\n",
              "    <tr>\n",
              "      <th>295</th>\n",
              "      <td>2024-08-01</td>\n",
              "      <td>-0.0002</td>\n",
              "      <td>08/2024</td>\n",
              "      <td>0.9998</td>\n",
              "      <td>4.3855</td>\n",
              "      <td>1.01</td>\n",
              "      <td>08-2024</td>\n",
              "    </tr>\n",
              "    <tr>\n",
              "      <th>296</th>\n",
              "      <td>2024-09-01</td>\n",
              "      <td>0.0044</td>\n",
              "      <td>09/2024</td>\n",
              "      <td>1.0044</td>\n",
              "      <td>4.4047</td>\n",
              "      <td>1.01</td>\n",
              "      <td>09-2024</td>\n",
              "    </tr>\n",
              "    <tr>\n",
              "      <th>297</th>\n",
              "      <td>2024-10-01</td>\n",
              "      <td>0.0056</td>\n",
              "      <td>10/2024</td>\n",
              "      <td>1.0056</td>\n",
              "      <td>4.4294</td>\n",
              "      <td>1.00</td>\n",
              "      <td>10-2024</td>\n",
              "    </tr>\n",
              "    <tr>\n",
              "      <th>298</th>\n",
              "      <td>2024-11-01</td>\n",
              "      <td>0.0039</td>\n",
              "      <td>11/2024</td>\n",
              "      <td>1.0039</td>\n",
              "      <td>4.4467</td>\n",
              "      <td>1.00</td>\n",
              "      <td>11-2024</td>\n",
              "    </tr>\n",
              "  </tbody>\n",
              "</table>\n",
              "<p>299 rows × 7 columns</p>\n",
              "</div>"
            ],
            "text/plain": [
              "          data    ipca  mes/ano  ipca_1  ipca_cumprod  multiplier  mes_ano\n",
              "0   2000-01-01  0.0062  01/2000  1.0062        1.0062        4.42  01-2000\n",
              "1   2000-02-01  0.0013  02/2000  1.0013        1.0075        4.41  02-2000\n",
              "2   2000-03-01  0.0022  03/2000  1.0022        1.0097        4.40  03-2000\n",
              "3   2000-04-01  0.0042  04/2000  1.0042        1.0140        4.39  04-2000\n",
              "4   2000-05-01  0.0001  05/2000  1.0001        1.0141        4.38  05-2000\n",
              "..         ...     ...      ...     ...           ...         ...      ...\n",
              "294 2024-07-01  0.0038  07/2024  1.0038        4.3863        1.01  07-2024\n",
              "295 2024-08-01 -0.0002  08/2024  0.9998        4.3855        1.01  08-2024\n",
              "296 2024-09-01  0.0044  09/2024  1.0044        4.4047        1.01  09-2024\n",
              "297 2024-10-01  0.0056  10/2024  1.0056        4.4294        1.00  10-2024\n",
              "298 2024-11-01  0.0039  11/2024  1.0039        4.4467        1.00  11-2024\n",
              "\n",
              "[299 rows x 7 columns]"
            ]
          },
          "execution_count": 598,
          "metadata": {},
          "output_type": "execute_result"
        }
      ],
      "source": [
        "ipca"
      ]
    },
    {
      "cell_type": "code",
      "execution_count": null,
      "id": "d09e565b-bf29-427d-b5c4-5e28412d6f87",
      "metadata": {
        "tags": [],
        "id": "d09e565b-bf29-427d-b5c4-5e28412d6f87",
        "outputId": "9b12bdeb-ed59-474e-c646-0453dbebf9b4"
      },
      "outputs": [
        {
          "data": {
            "text/html": [
              "<div>\n",
              "<style scoped>\n",
              "    .dataframe tbody tr th:only-of-type {\n",
              "        vertical-align: middle;\n",
              "    }\n",
              "\n",
              "    .dataframe tbody tr th {\n",
              "        vertical-align: top;\n",
              "    }\n",
              "\n",
              "    .dataframe thead th {\n",
              "        text-align: right;\n",
              "    }\n",
              "</style>\n",
              "<table border=\"1\" class=\"dataframe\">\n",
              "  <thead>\n",
              "    <tr style=\"text-align: right;\">\n",
              "      <th></th>\n",
              "      <th>data</th>\n",
              "      <th>ipca</th>\n",
              "      <th>mes/ano</th>\n",
              "      <th>ipca_1</th>\n",
              "      <th>ipca_cumprod</th>\n",
              "      <th>multiplier</th>\n",
              "      <th>mes_ano</th>\n",
              "    </tr>\n",
              "  </thead>\n",
              "  <tbody>\n",
              "    <tr>\n",
              "      <th>120</th>\n",
              "      <td>2010-01-01</td>\n",
              "      <td>0.0075</td>\n",
              "      <td>01/2010</td>\n",
              "      <td>1.0075</td>\n",
              "      <td>1.9138</td>\n",
              "      <td>2.32</td>\n",
              "      <td>01-2010</td>\n",
              "    </tr>\n",
              "  </tbody>\n",
              "</table>\n",
              "</div>"
            ],
            "text/plain": [
              "          data    ipca  mes/ano  ipca_1  ipca_cumprod  multiplier  mes_ano\n",
              "120 2010-01-01  0.0075  01/2010  1.0075        1.9138        2.32  01-2010"
            ]
          },
          "execution_count": 599,
          "metadata": {},
          "output_type": "execute_result"
        }
      ],
      "source": [
        "ipca.query(\"mes_ano == '01-2010'\")"
      ]
    },
    {
      "cell_type": "code",
      "execution_count": null,
      "id": "99cd184a-9e9f-41ce-829c-833ab2cd013d",
      "metadata": {
        "tags": [],
        "id": "99cd184a-9e9f-41ce-829c-833ab2cd013d",
        "outputId": "36bec96f-8839-4799-cf5c-c29fe7dad9d4"
      },
      "outputs": [
        {
          "data": {
            "text/plain": [
              "(dtype('O'), dtype('O'))"
            ]
          },
          "execution_count": 600,
          "metadata": {},
          "output_type": "execute_result"
        }
      ],
      "source": [
        "df['mes_ano'].dtype, ipca['mes_ano'].dtype"
      ]
    },
    {
      "cell_type": "code",
      "execution_count": null,
      "id": "3d27d72d-864c-4cb6-8a98-527b8a5c1a21",
      "metadata": {
        "tags": [],
        "id": "3d27d72d-864c-4cb6-8a98-527b8a5c1a21"
      },
      "outputs": [],
      "source": [
        "df = df.merge(ipca[['mes_ano', 'multiplier']], on='mes_ano', how='left')"
      ]
    },
    {
      "cell_type": "code",
      "execution_count": null,
      "id": "fb475e1c-d50f-49c1-bf2b-743240634f01",
      "metadata": {
        "tags": [],
        "id": "fb475e1c-d50f-49c1-bf2b-743240634f01",
        "outputId": "3b6c90c6-96d7-4c9e-d0f7-b7357c5032c6"
      },
      "outputs": [
        {
          "data": {
            "text/html": [
              "<div>\n",
              "<style scoped>\n",
              "    .dataframe tbody tr th:only-of-type {\n",
              "        vertical-align: middle;\n",
              "    }\n",
              "\n",
              "    .dataframe tbody tr th {\n",
              "        vertical-align: top;\n",
              "    }\n",
              "\n",
              "    .dataframe thead th {\n",
              "        text-align: right;\n",
              "    }\n",
              "</style>\n",
              "<table border=\"1\" class=\"dataframe\">\n",
              "  <thead>\n",
              "    <tr style=\"text-align: right;\">\n",
              "      <th></th>\n",
              "      <th>mes_ano</th>\n",
              "      <th>valor_base_calculo</th>\n",
              "      <th>multiplier</th>\n",
              "    </tr>\n",
              "  </thead>\n",
              "  <tbody>\n",
              "    <tr>\n",
              "      <th>0</th>\n",
              "      <td>01-2008</td>\n",
              "      <td>11411.56</td>\n",
              "      <td>2.57</td>\n",
              "    </tr>\n",
              "    <tr>\n",
              "      <th>1</th>\n",
              "      <td>01-2008</td>\n",
              "      <td>85000.00</td>\n",
              "      <td>2.57</td>\n",
              "    </tr>\n",
              "    <tr>\n",
              "      <th>2</th>\n",
              "      <td>01-2008</td>\n",
              "      <td>121500.00</td>\n",
              "      <td>2.57</td>\n",
              "    </tr>\n",
              "    <tr>\n",
              "      <th>3</th>\n",
              "      <td>01-2008</td>\n",
              "      <td>13500.00</td>\n",
              "      <td>2.57</td>\n",
              "    </tr>\n",
              "    <tr>\n",
              "      <th>4</th>\n",
              "      <td>01-2008</td>\n",
              "      <td>10354.49</td>\n",
              "      <td>2.57</td>\n",
              "    </tr>\n",
              "    <tr>\n",
              "      <th>...</th>\n",
              "      <td>...</td>\n",
              "      <td>...</td>\n",
              "      <td>...</td>\n",
              "    </tr>\n",
              "    <tr>\n",
              "      <th>464851</th>\n",
              "      <td>11-2024</td>\n",
              "      <td>1218765.93</td>\n",
              "      <td>1.00</td>\n",
              "    </tr>\n",
              "    <tr>\n",
              "      <th>464852</th>\n",
              "      <td>11-2024</td>\n",
              "      <td>200000.00</td>\n",
              "      <td>1.00</td>\n",
              "    </tr>\n",
              "    <tr>\n",
              "      <th>464853</th>\n",
              "      <td>11-2024</td>\n",
              "      <td>279384.82</td>\n",
              "      <td>1.00</td>\n",
              "    </tr>\n",
              "    <tr>\n",
              "      <th>464854</th>\n",
              "      <td>11-2024</td>\n",
              "      <td>470000.00</td>\n",
              "      <td>1.00</td>\n",
              "    </tr>\n",
              "    <tr>\n",
              "      <th>464855</th>\n",
              "      <td>11-2024</td>\n",
              "      <td>458620.65</td>\n",
              "      <td>1.00</td>\n",
              "    </tr>\n",
              "  </tbody>\n",
              "</table>\n",
              "<p>464856 rows × 3 columns</p>\n",
              "</div>"
            ],
            "text/plain": [
              "        mes_ano  valor_base_calculo  multiplier\n",
              "0       01-2008            11411.56        2.57\n",
              "1       01-2008            85000.00        2.57\n",
              "2       01-2008           121500.00        2.57\n",
              "3       01-2008            13500.00        2.57\n",
              "4       01-2008            10354.49        2.57\n",
              "...         ...                 ...         ...\n",
              "464851  11-2024          1218765.93        1.00\n",
              "464852  11-2024           200000.00        1.00\n",
              "464853  11-2024           279384.82        1.00\n",
              "464854  11-2024           470000.00        1.00\n",
              "464855  11-2024           458620.65        1.00\n",
              "\n",
              "[464856 rows x 3 columns]"
            ]
          },
          "execution_count": 602,
          "metadata": {},
          "output_type": "execute_result"
        }
      ],
      "source": [
        "df[['mes_ano', 'valor_base_calculo', 'multiplier']]"
      ]
    },
    {
      "cell_type": "code",
      "execution_count": null,
      "id": "51e79ba8-fbdb-4f47-9de3-d074510c3928",
      "metadata": {
        "tags": [],
        "id": "51e79ba8-fbdb-4f47-9de3-d074510c3928"
      },
      "outputs": [],
      "source": [
        "df['valor_base_def'] = df['valor_base_calculo']*df['multiplier']"
      ]
    },
    {
      "cell_type": "markdown",
      "id": "c0b554f6-c1c3-466b-800c-e85fdbf92d70",
      "metadata": {
        "id": "c0b554f6-c1c3-466b-800c-e85fdbf92d70"
      },
      "source": [
        "Metro quadrado deflacionado"
      ]
    },
    {
      "cell_type": "code",
      "execution_count": null,
      "id": "32788e1d-82b5-4bde-b412-c865cb37fd24",
      "metadata": {
        "tags": [],
        "id": "32788e1d-82b5-4bde-b412-c865cb37fd24",
        "outputId": "5bc8d99e-6645-483a-b090-296840b5f600"
      },
      "outputs": [
        {
          "data": {
            "text/html": [
              "<div>\n",
              "<style scoped>\n",
              "    .dataframe tbody tr th:only-of-type {\n",
              "        vertical-align: middle;\n",
              "    }\n",
              "\n",
              "    .dataframe tbody tr th {\n",
              "        vertical-align: top;\n",
              "    }\n",
              "\n",
              "    .dataframe thead th {\n",
              "        text-align: right;\n",
              "    }\n",
              "</style>\n",
              "<table border=\"1\" class=\"dataframe\">\n",
              "  <thead>\n",
              "    <tr style=\"text-align: right;\">\n",
              "      <th></th>\n",
              "      <th>area_construida_adquirida</th>\n",
              "      <th>area_adquirida_unidades_somadas</th>\n",
              "      <th>area_terreno_total</th>\n",
              "    </tr>\n",
              "  </thead>\n",
              "  <tbody>\n",
              "    <tr>\n",
              "      <th>0</th>\n",
              "      <td>28.53</td>\n",
              "      <td>28.53</td>\n",
              "      <td>1119.00</td>\n",
              "    </tr>\n",
              "    <tr>\n",
              "      <th>1</th>\n",
              "      <td>126.99</td>\n",
              "      <td>126.99</td>\n",
              "      <td>1030.00</td>\n",
              "    </tr>\n",
              "    <tr>\n",
              "      <th>2</th>\n",
              "      <td>135.55</td>\n",
              "      <td>135.55</td>\n",
              "      <td>544.00</td>\n",
              "    </tr>\n",
              "    <tr>\n",
              "      <th>3</th>\n",
              "      <td>11.45</td>\n",
              "      <td>11.45</td>\n",
              "      <td>544.00</td>\n",
              "    </tr>\n",
              "    <tr>\n",
              "      <th>4</th>\n",
              "      <td>25.20</td>\n",
              "      <td>25.20</td>\n",
              "      <td>4426.00</td>\n",
              "    </tr>\n",
              "    <tr>\n",
              "      <th>...</th>\n",
              "      <td>...</td>\n",
              "      <td>...</td>\n",
              "      <td>...</td>\n",
              "    </tr>\n",
              "    <tr>\n",
              "      <th>464851</th>\n",
              "      <td>278.83</td>\n",
              "      <td>278.83</td>\n",
              "      <td>1556.00</td>\n",
              "    </tr>\n",
              "    <tr>\n",
              "      <th>464852</th>\n",
              "      <td>49.56</td>\n",
              "      <td>49.56</td>\n",
              "      <td>4051.71</td>\n",
              "    </tr>\n",
              "    <tr>\n",
              "      <th>464853</th>\n",
              "      <td>80.02</td>\n",
              "      <td>80.02</td>\n",
              "      <td>720.00</td>\n",
              "    </tr>\n",
              "    <tr>\n",
              "      <th>464854</th>\n",
              "      <td>89.25</td>\n",
              "      <td>89.25</td>\n",
              "      <td>477.50</td>\n",
              "    </tr>\n",
              "    <tr>\n",
              "      <th>464855</th>\n",
              "      <td>120.12</td>\n",
              "      <td>120.12</td>\n",
              "      <td>372.00</td>\n",
              "    </tr>\n",
              "  </tbody>\n",
              "</table>\n",
              "<p>464856 rows × 3 columns</p>\n",
              "</div>"
            ],
            "text/plain": [
              "        area_construida_adquirida  area_adquirida_unidades_somadas  \\\n",
              "0                           28.53                            28.53   \n",
              "1                          126.99                           126.99   \n",
              "2                          135.55                           135.55   \n",
              "3                           11.45                            11.45   \n",
              "4                           25.20                            25.20   \n",
              "...                           ...                              ...   \n",
              "464851                     278.83                           278.83   \n",
              "464852                      49.56                            49.56   \n",
              "464853                      80.02                            80.02   \n",
              "464854                      89.25                            89.25   \n",
              "464855                     120.12                           120.12   \n",
              "\n",
              "        area_terreno_total  \n",
              "0                  1119.00  \n",
              "1                  1030.00  \n",
              "2                   544.00  \n",
              "3                   544.00  \n",
              "4                  4426.00  \n",
              "...                    ...  \n",
              "464851             1556.00  \n",
              "464852             4051.71  \n",
              "464853              720.00  \n",
              "464854              477.50  \n",
              "464855              372.00  \n",
              "\n",
              "[464856 rows x 3 columns]"
            ]
          },
          "execution_count": 604,
          "metadata": {},
          "output_type": "execute_result"
        }
      ],
      "source": [
        "# quem vai ser a área sobre a qual vamos dividir o valor total\n",
        "df[['area_construida_adquirida', 'area_adquirida_unidades_somadas', 'area_terreno_total']]\n",
        "#df['area_adquirida_unidades_somadas'] = df['area_adquirida_unidades_somadas'].combine_first(df['area_adquirida_(unidades_somadas)'])"
      ]
    },
    {
      "cell_type": "code",
      "execution_count": null,
      "id": "7747a54c-392d-484f-a217-3d37c3463bf6",
      "metadata": {
        "tags": [],
        "id": "7747a54c-392d-484f-a217-3d37c3463bf6",
        "outputId": "af02d155-9080-46a9-cbbd-615a366a5ce8"
      },
      "outputs": [
        {
          "data": {
            "text/plain": [
              "count    464856.000000\n",
              "mean        120.878911\n",
              "std         323.862827\n",
              "min           0.000000\n",
              "25%          53.100000\n",
              "50%          88.670000\n",
              "75%         146.770000\n",
              "max       74745.250000\n",
              "Name: area_construida_adquirida, dtype: float64"
            ]
          },
          "execution_count": 605,
          "metadata": {},
          "output_type": "execute_result"
        }
      ],
      "source": [
        "# tem que tirar esses com área proxima de zero se não dá valor por metro quadrado infinito\n",
        "df['area_construida_adquirida'].describe()"
      ]
    },
    {
      "cell_type": "code",
      "execution_count": null,
      "id": "190b1706-4ad7-40da-bf0c-9906617b8b98",
      "metadata": {
        "tags": [],
        "id": "190b1706-4ad7-40da-bf0c-9906617b8b98",
        "outputId": "aefaa89a-c663-42a8-b0bc-7356627c419f"
      },
      "outputs": [
        {
          "data": {
            "text/plain": [
              "count    464856.000000\n",
              "mean        117.722249\n",
              "std         237.097232\n",
              "min           0.000000\n",
              "25%          53.020000\n",
              "50%          88.710000\n",
              "75%         146.470000\n",
              "max       74745.250000\n",
              "Name: area_adquirida_unidades_somadas, dtype: float64"
            ]
          },
          "execution_count": 606,
          "metadata": {},
          "output_type": "execute_result"
        }
      ],
      "source": [
        "df['area_adquirida_unidades_somadas'].describe()"
      ]
    },
    {
      "cell_type": "code",
      "execution_count": null,
      "id": "7ecd2cd8-e620-4c14-84a5-7ba31c8efce1",
      "metadata": {
        "tags": [],
        "id": "7ecd2cd8-e620-4c14-84a5-7ba31c8efce1"
      },
      "outputs": [],
      "source": [
        "df['valor_m2_area_const_def'] = df['valor_base_def']/df['area_construida_adquirida']\n",
        "df['valor_m2_area_adq_def'] = df['valor_base_def']/df['area_adquirida_unidades_somadas']"
      ]
    },
    {
      "cell_type": "code",
      "execution_count": null,
      "id": "680bd5d8-2be8-4c51-9948-4cb4e782254f",
      "metadata": {
        "tags": [],
        "id": "680bd5d8-2be8-4c51-9948-4cb4e782254f",
        "outputId": "0fbeeb10-b372-4fe9-d519-e2b6fcb1f2ba"
      },
      "outputs": [
        {
          "data": {
            "text/plain": [
              "count    4.648560e+05\n",
              "mean              inf\n",
              "std               NaN\n",
              "min      2.367610e+00\n",
              "25%      3.492124e+03\n",
              "50%      4.654713e+03\n",
              "75%      5.994906e+03\n",
              "max               inf\n",
              "Name: valor_m2_area_const_def, dtype: float64"
            ]
          },
          "execution_count": 608,
          "metadata": {},
          "output_type": "execute_result"
        }
      ],
      "source": [
        "df['valor_m2_area_const_def'].describe()"
      ]
    },
    {
      "cell_type": "code",
      "execution_count": null,
      "id": "199bba7f-e638-4cd2-86f2-cc1f07fb192c",
      "metadata": {
        "tags": [],
        "id": "199bba7f-e638-4cd2-86f2-cc1f07fb192c",
        "outputId": "ec00b071-aec2-4b5d-af94-70d0446aef62"
      },
      "outputs": [
        {
          "data": {
            "text/plain": [
              "count    4.648560e+05\n",
              "mean              inf\n",
              "std               NaN\n",
              "min      1.709367e+01\n",
              "25%      3.487194e+03\n",
              "50%      4.657025e+03\n",
              "75%      6.016233e+03\n",
              "max               inf\n",
              "Name: valor_m2_area_adq_def, dtype: float64"
            ]
          },
          "execution_count": 609,
          "metadata": {},
          "output_type": "execute_result"
        }
      ],
      "source": [
        "df['valor_m2_area_adq_def'].describe()"
      ]
    },
    {
      "cell_type": "code",
      "execution_count": null,
      "id": "505e46ba-7706-4a15-ab6f-785d2b62543d",
      "metadata": {
        "id": "505e46ba-7706-4a15-ab6f-785d2b62543d"
      },
      "outputs": [],
      "source": []
    },
    {
      "cell_type": "code",
      "execution_count": null,
      "id": "4adf27c0-43dd-4996-a24b-6411d2d2c448",
      "metadata": {
        "id": "4adf27c0-43dd-4996-a24b-6411d2d2c448"
      },
      "outputs": [],
      "source": []
    },
    {
      "cell_type": "markdown",
      "id": "aadbf29f-41b4-462b-bd2c-3585ea6a49e1",
      "metadata": {
        "tags": [],
        "toc-hr-collapsed": true,
        "id": "aadbf29f-41b4-462b-bd2c-3585ea6a49e1"
      },
      "source": [
        "# Estudo"
      ]
    },
    {
      "cell_type": "code",
      "execution_count": null,
      "id": "2cf70355-d603-4e56-bb42-10d62f4437d2",
      "metadata": {
        "id": "2cf70355-d603-4e56-bb42-10d62f4437d2",
        "outputId": "69264861-ed1d-4e62-e4c5-ee8985e38c18"
      },
      "outputs": [
        {
          "data": {
            "text/plain": [
              "464856"
            ]
          },
          "execution_count": 610,
          "metadata": {},
          "output_type": "execute_result"
        }
      ],
      "source": [
        "len(df)"
      ]
    },
    {
      "cell_type": "code",
      "execution_count": null,
      "id": "ebc5c788-ef8e-4dda-9bc2-dc923c6fab3a",
      "metadata": {
        "tags": [],
        "id": "ebc5c788-ef8e-4dda-9bc2-dc923c6fab3a",
        "outputId": "c6070ea0-d572-4e9b-eadd-3ef76cdc94a4"
      },
      "outputs": [
        {
          "data": {
            "text/plain": [
              "3214"
            ]
          },
          "execution_count": 611,
          "metadata": {},
          "output_type": "execute_result"
        }
      ],
      "source": [
        "len(df.query(\"bairro == 'salgado filho'\"))"
      ]
    },
    {
      "cell_type": "code",
      "execution_count": null,
      "id": "b333c839-ee6b-4b65-b9d4-ac4322c6736f",
      "metadata": {
        "tags": [],
        "id": "b333c839-ee6b-4b65-b9d4-ac4322c6736f",
        "outputId": "761b8e23-ffff-4130-b28a-2d528a6e6408"
      },
      "outputs": [
        {
          "data": {
            "text/plain": [
              "bairro\n",
              "gutierrez    5879\n",
              "Name: count, dtype: int64"
            ]
          },
          "execution_count": 612,
          "metadata": {},
          "output_type": "execute_result"
        }
      ],
      "source": [
        "# usar para pesquisar bairros que temos duvida da string\n",
        "df[df['bairro'].str.contains('guti')]['bairro'].value_counts()"
      ]
    },
    {
      "cell_type": "code",
      "execution_count": null,
      "id": "84f112ad-4e5a-4e4b-ab55-6a2df2e0f1e9",
      "metadata": {
        "tags": [],
        "id": "84f112ad-4e5a-4e4b-ab55-6a2df2e0f1e9"
      },
      "outputs": [],
      "source": [
        "regiao_direta = ['estoril', 'buritis',\n",
        "                 'havai', 'sao bento',\n",
        "                 'jardim america', 'santa lucia'\n",
        "                 # 'estrela dalva', não tem\n",
        "                ]\n",
        "\n",
        "regiao_indireta = ['olhos d agua', 'belvedere', 'salgado filho',\n",
        "                   'cinquentenario', 'marajo', 'parque sao jose',\n",
        "                   'nova granada', 'gurierrez', 'luxemburgo',\n",
        "                   'santo antonio', 'sion'\n",
        "                  ]"
      ]
    },
    {
      "cell_type": "code",
      "execution_count": null,
      "id": "9375236a-1e0e-49d9-ba60-8b123cd9a0e5",
      "metadata": {
        "tags": [],
        "id": "9375236a-1e0e-49d9-ba60-8b123cd9a0e5"
      },
      "outputs": [],
      "source": [
        "regiao_direta = [normalize_text(bairro) for bairro in regiao_direta]\n",
        "regiao_indireta = [normalize_text(bairro) for bairro in regiao_indireta]\n",
        "lista_bairros = regiao_direta + regiao_indireta\n",
        "#for bairro in lista_bairros:\n",
        "#    bairro = normalize_text(bairro)\n",
        "lista_bairros = [normalize_text(bairro) for bairro in lista_bairros]"
      ]
    },
    {
      "cell_type": "code",
      "execution_count": null,
      "id": "7b35a2fa-ba14-43e0-93e0-3864df0ae72d",
      "metadata": {
        "tags": [],
        "id": "7b35a2fa-ba14-43e0-93e0-3864df0ae72d"
      },
      "outputs": [],
      "source": [
        "resto_belo_horizonte = list(set( list(df['bairro'].unique())) - set(regiao_direta) - set(regiao_indireta))"
      ]
    },
    {
      "cell_type": "code",
      "execution_count": null,
      "id": "46e94cab-417a-46a6-bf7e-372d08a6dd02",
      "metadata": {
        "tags": [],
        "id": "46e94cab-417a-46a6-bf7e-372d08a6dd02"
      },
      "outputs": [],
      "source": [
        "conditions = [df['bairro'].isin(regiao_direta),\n",
        "              df['bairro'].isin(regiao_indireta),\n",
        "              df['bairro'].isin(resto_belo_horizonte)]\n",
        "values = ['regiao_direta', 'regiao_indireta', 'resto_bh']\n",
        "df['regiao'] = np.select(conditions, values)"
      ]
    },
    {
      "cell_type": "code",
      "execution_count": null,
      "id": "36dc8ec0-da35-40a9-b447-ebf2f9b657b6",
      "metadata": {
        "tags": [],
        "id": "36dc8ec0-da35-40a9-b447-ebf2f9b657b6",
        "outputId": "b5f3d2f9-e1aa-4ea0-d669-0fef6cab2063"
      },
      "outputs": [
        {
          "data": {
            "text/plain": [
              "regiao\n",
              "resto_bh           387117\n",
              "regiao_direta       43032\n",
              "regiao_indireta     34707\n",
              "Name: count, dtype: int64"
            ]
          },
          "execution_count": 617,
          "metadata": {},
          "output_type": "execute_result"
        }
      ],
      "source": [
        "df['regiao'].value_counts()"
      ]
    },
    {
      "cell_type": "markdown",
      "id": "4603a1c1-66b4-4eeb-b2b3-884f9626d338",
      "metadata": {
        "id": "4603a1c1-66b4-4eeb-b2b3-884f9626d338"
      },
      "source": [
        "Analysis"
      ]
    },
    {
      "cell_type": "code",
      "execution_count": null,
      "id": "4ff6ff1b-7e60-411f-8582-41c8af7fb882",
      "metadata": {
        "tags": [],
        "id": "4ff6ff1b-7e60-411f-8582-41c8af7fb882",
        "outputId": "a879e410-9159-4f80-8c8e-25f8873e2d4b"
      },
      "outputs": [
        {
          "data": {
            "text/plain": [
              "tipo_construtivo_preponderante\n",
              "ap    0.670739\n",
              "ca    0.117998\n",
              "sl    0.057067\n",
              "lv    0.046184\n",
              "vc    0.033875\n",
              "lj    0.031203\n",
              "vr    0.015818\n",
              "ba    0.011989\n",
              "gp    0.007660\n",
              "ac    0.005483\n",
              "cc    0.001678\n",
              "bc    0.000247\n",
              "vv    0.000039\n",
              "-3    0.000019\n",
              "Name: proportion, dtype: float64"
            ]
          },
          "execution_count": 618,
          "metadata": {},
          "output_type": "execute_result"
        }
      ],
      "source": [
        "df['tipo_construtivo_preponderante'].value_counts(normalize=True)"
      ]
    },
    {
      "cell_type": "markdown",
      "id": "0d7dc916-a7e4-4a3d-b8b7-7e465c60e6de",
      "metadata": {
        "id": "0d7dc916-a7e4-4a3d-b8b7-7e465c60e6de"
      },
      "source": [
        "## Filter"
      ]
    },
    {
      "cell_type": "code",
      "execution_count": null,
      "id": "612d2e89-3e33-4f04-b63a-0cf3bf19ce89",
      "metadata": {
        "tags": [],
        "id": "612d2e89-3e33-4f04-b63a-0cf3bf19ce89",
        "outputId": "f9f80085-486e-4115-bac5-dff335b05ec2"
      },
      "outputs": [
        {
          "data": {
            "text/plain": [
              "Index(['endereco', 'bairro', 'ano_de_construcao_unidade', 'area_terreno_total',\n",
              "       'area_construida_adquirida', 'area_adquirida_unidades_somadas',\n",
              "       'padrao_acabamento_unidade', 'fracao_ideal_adquirida',\n",
              "       'tipo_construtivo_preponderante', 'descricao_tipo_ocupacao_unidade',\n",
              "       'valor_declarado', 'valor_base_calculo', 'zona_uso_itbi',\n",
              "       'ano_de_construcao_(unidade)', 'data_quitacao', 'mes_ano', 'ano',\n",
              "       'multiplier', 'valor_base_def', 'valor_m2_area_const_def',\n",
              "       'valor_m2_area_adq_def', 'regiao'],\n",
              "      dtype='object')"
            ]
          },
          "execution_count": 619,
          "metadata": {},
          "output_type": "execute_result"
        }
      ],
      "source": [
        "df.columns"
      ]
    },
    {
      "cell_type": "code",
      "execution_count": null,
      "id": "2dfc74a4-ec3e-4f2e-a83a-136cdd9c234c",
      "metadata": {
        "id": "2dfc74a4-ec3e-4f2e-a83a-136cdd9c234c",
        "outputId": "8733479f-fc0b-4cc4-c613-05a8e7021485"
      },
      "outputs": [
        {
          "data": {
            "text/plain": [
              "tipo_construtivo_preponderante\n",
              "ap    0.670739\n",
              "ca    0.117998\n",
              "sl    0.057067\n",
              "lv    0.046184\n",
              "vc    0.033875\n",
              "lj    0.031203\n",
              "vr    0.015818\n",
              "ba    0.011989\n",
              "gp    0.007660\n",
              "ac    0.005483\n",
              "cc    0.001678\n",
              "bc    0.000247\n",
              "vv    0.000039\n",
              "-3    0.000019\n",
              "Name: proportion, dtype: float64"
            ]
          },
          "execution_count": 620,
          "metadata": {},
          "output_type": "execute_result"
        }
      ],
      "source": [
        "df['tipo_construtivo_preponderante'].value_counts(normalize=True)"
      ]
    },
    {
      "cell_type": "code",
      "execution_count": null,
      "id": "5b69369c-573a-4999-ac25-eacfcc4f52f1",
      "metadata": {
        "tags": [],
        "id": "5b69369c-573a-4999-ac25-eacfcc4f52f1"
      },
      "outputs": [],
      "source": [
        "df = df.loc[(df['tipo_construtivo_preponderante'].isin(['ap', 'ca'])) &\n",
        "             #(df['data_quitacao'] > '2018') &\n",
        "             (df['area_construida_adquirida'] > 10) & # ou area_adquirida_unidades_somadas\n",
        "             (df['area_construida_adquirida'] < 360) &\n",
        "             (df['valor_m2_area_const_def'] > 200) &\n",
        "             (df['valor_m2_area_const_def'] < 50000)].copy()"
      ]
    },
    {
      "cell_type": "code",
      "execution_count": null,
      "id": "edaa8d20-db34-4489-9112-98ffbe134372",
      "metadata": {
        "tags": [],
        "id": "edaa8d20-db34-4489-9112-98ffbe134372",
        "outputId": "3db76090-396c-4383-fb79-7ac10d0ee6f6"
      },
      "outputs": [
        {
          "data": {
            "text/plain": [
              "(357634, 357634)"
            ]
          },
          "execution_count": 622,
          "metadata": {},
          "output_type": "execute_result"
        }
      ],
      "source": [
        "len(df), len(df)"
      ]
    },
    {
      "cell_type": "code",
      "execution_count": null,
      "id": "355db2ca-3d87-42d2-a12a-253fe8310d85",
      "metadata": {
        "tags": [],
        "id": "355db2ca-3d87-42d2-a12a-253fe8310d85",
        "outputId": "84b20d98-324e-4cc7-e564-35647f3ad6ab"
      },
      "outputs": [
        {
          "data": {
            "text/plain": [
              "regiao\n",
              "resto_bh           299011\n",
              "regiao_direta       32785\n",
              "regiao_indireta     25838\n",
              "Name: count, dtype: int64"
            ]
          },
          "execution_count": 623,
          "metadata": {},
          "output_type": "execute_result"
        }
      ],
      "source": [
        "df['regiao'].value_counts()"
      ]
    },
    {
      "cell_type": "code",
      "execution_count": null,
      "id": "0a94cb9e-195e-4eea-aba3-5e363aae1186",
      "metadata": {
        "tags": [],
        "id": "0a94cb9e-195e-4eea-aba3-5e363aae1186",
        "outputId": "99c6b597-b87e-4ba5-b068-24526de401a2"
      },
      "outputs": [
        {
          "data": {
            "text/plain": [
              "tipo_construtivo_preponderante\n",
              "ap    0.856199\n",
              "ca    0.143801\n",
              "Name: proportion, dtype: float64"
            ]
          },
          "execution_count": 624,
          "metadata": {},
          "output_type": "execute_result"
        }
      ],
      "source": [
        "df['tipo_construtivo_preponderante'].value_counts(normalize=True)"
      ]
    },
    {
      "cell_type": "markdown",
      "id": "801f3e0a-2145-4196-a35c-ebf773df3853",
      "metadata": {
        "id": "801f3e0a-2145-4196-a35c-ebf773df3853"
      },
      "source": [
        "## Stats"
      ]
    },
    {
      "cell_type": "code",
      "execution_count": null,
      "id": "fb21b2bc-d2d7-4497-baf7-b0ca2061bb51",
      "metadata": {
        "tags": [],
        "id": "fb21b2bc-d2d7-4497-baf7-b0ca2061bb51"
      },
      "outputs": [],
      "source": [
        "def per_25(g):\n",
        "    return np.percentile(g, 25)\n",
        "def per_75(g):\n",
        "    return np.percentile(g, 75)"
      ]
    },
    {
      "cell_type": "markdown",
      "id": "c5546787-2fdf-47ed-9aa7-ec0b315ed46b",
      "metadata": {
        "id": "c5546787-2fdf-47ed-9aa7-ec0b315ed46b"
      },
      "source": [
        "### area"
      ]
    },
    {
      "cell_type": "code",
      "execution_count": null,
      "id": "54e37b6c-c168-4726-b4b5-a2b6bf5a3eba",
      "metadata": {
        "tags": [],
        "id": "54e37b6c-c168-4726-b4b5-a2b6bf5a3eba",
        "outputId": "03ad3da7-8c87-4b25-f09a-45c8a4fb29cb"
      },
      "outputs": [
        {
          "data": {
            "text/html": [
              "<div>\n",
              "<style scoped>\n",
              "    .dataframe tbody tr th:only-of-type {\n",
              "        vertical-align: middle;\n",
              "    }\n",
              "\n",
              "    .dataframe tbody tr th {\n",
              "        vertical-align: top;\n",
              "    }\n",
              "\n",
              "    .dataframe thead tr th {\n",
              "        text-align: left;\n",
              "    }\n",
              "\n",
              "    .dataframe thead tr:last-of-type th {\n",
              "        text-align: right;\n",
              "    }\n",
              "</style>\n",
              "<table border=\"1\" class=\"dataframe\">\n",
              "  <thead>\n",
              "    <tr>\n",
              "      <th></th>\n",
              "      <th></th>\n",
              "      <th>count</th>\n",
              "      <th>mean</th>\n",
              "      <th>std</th>\n",
              "      <th>min</th>\n",
              "      <th>per_25</th>\n",
              "      <th>median</th>\n",
              "      <th>per_75</th>\n",
              "      <th>max</th>\n",
              "    </tr>\n",
              "    <tr>\n",
              "      <th></th>\n",
              "      <th></th>\n",
              "      <th>area_construida_adquirida</th>\n",
              "      <th>area_construida_adquirida</th>\n",
              "      <th>area_construida_adquirida</th>\n",
              "      <th>area_construida_adquirida</th>\n",
              "      <th>area_construida_adquirida</th>\n",
              "      <th>area_construida_adquirida</th>\n",
              "      <th>area_construida_adquirida</th>\n",
              "      <th>area_construida_adquirida</th>\n",
              "    </tr>\n",
              "    <tr>\n",
              "      <th>tipo_construtivo_preponderante</th>\n",
              "      <th>regiao</th>\n",
              "      <th></th>\n",
              "      <th></th>\n",
              "      <th></th>\n",
              "      <th></th>\n",
              "      <th></th>\n",
              "      <th></th>\n",
              "      <th></th>\n",
              "      <th></th>\n",
              "    </tr>\n",
              "  </thead>\n",
              "  <tbody>\n",
              "    <tr>\n",
              "      <th rowspan=\"3\" valign=\"top\">ap</th>\n",
              "      <th>regiao_direta</th>\n",
              "      <td>31323</td>\n",
              "      <td>141.0</td>\n",
              "      <td>64.0</td>\n",
              "      <td>10.0</td>\n",
              "      <td>86.0</td>\n",
              "      <td>134.0</td>\n",
              "      <td>177.0</td>\n",
              "      <td>360.0</td>\n",
              "    </tr>\n",
              "    <tr>\n",
              "      <th>regiao_indireta</th>\n",
              "      <td>24547</td>\n",
              "      <td>151.0</td>\n",
              "      <td>75.0</td>\n",
              "      <td>10.0</td>\n",
              "      <td>91.0</td>\n",
              "      <td>136.0</td>\n",
              "      <td>195.0</td>\n",
              "      <td>360.0</td>\n",
              "    </tr>\n",
              "    <tr>\n",
              "      <th>resto_bh</th>\n",
              "      <td>250336</td>\n",
              "      <td>109.0</td>\n",
              "      <td>60.0</td>\n",
              "      <td>10.0</td>\n",
              "      <td>64.0</td>\n",
              "      <td>93.0</td>\n",
              "      <td>138.0</td>\n",
              "      <td>360.0</td>\n",
              "    </tr>\n",
              "    <tr>\n",
              "      <th rowspan=\"3\" valign=\"top\">ca</th>\n",
              "      <th>regiao_direta</th>\n",
              "      <td>1462</td>\n",
              "      <td>166.0</td>\n",
              "      <td>94.0</td>\n",
              "      <td>13.0</td>\n",
              "      <td>89.0</td>\n",
              "      <td>133.0</td>\n",
              "      <td>248.0</td>\n",
              "      <td>360.0</td>\n",
              "    </tr>\n",
              "    <tr>\n",
              "      <th>regiao_indireta</th>\n",
              "      <td>1291</td>\n",
              "      <td>178.0</td>\n",
              "      <td>92.0</td>\n",
              "      <td>11.0</td>\n",
              "      <td>104.0</td>\n",
              "      <td>176.0</td>\n",
              "      <td>248.0</td>\n",
              "      <td>359.0</td>\n",
              "    </tr>\n",
              "    <tr>\n",
              "      <th>resto_bh</th>\n",
              "      <td>48675</td>\n",
              "      <td>140.0</td>\n",
              "      <td>80.0</td>\n",
              "      <td>10.0</td>\n",
              "      <td>73.0</td>\n",
              "      <td>124.0</td>\n",
              "      <td>191.0</td>\n",
              "      <td>360.0</td>\n",
              "    </tr>\n",
              "  </tbody>\n",
              "</table>\n",
              "</div>"
            ],
            "text/plain": [
              "                                                                   count  \\\n",
              "                                               area_construida_adquirida   \n",
              "tipo_construtivo_preponderante regiao                                      \n",
              "ap                             regiao_direta                       31323   \n",
              "                               regiao_indireta                     24547   \n",
              "                               resto_bh                           250336   \n",
              "ca                             regiao_direta                        1462   \n",
              "                               regiao_indireta                      1291   \n",
              "                               resto_bh                            48675   \n",
              "\n",
              "                                                                    mean  \\\n",
              "                                               area_construida_adquirida   \n",
              "tipo_construtivo_preponderante regiao                                      \n",
              "ap                             regiao_direta                       141.0   \n",
              "                               regiao_indireta                     151.0   \n",
              "                               resto_bh                            109.0   \n",
              "ca                             regiao_direta                       166.0   \n",
              "                               regiao_indireta                     178.0   \n",
              "                               resto_bh                            140.0   \n",
              "\n",
              "                                                                     std  \\\n",
              "                                               area_construida_adquirida   \n",
              "tipo_construtivo_preponderante regiao                                      \n",
              "ap                             regiao_direta                        64.0   \n",
              "                               regiao_indireta                      75.0   \n",
              "                               resto_bh                             60.0   \n",
              "ca                             regiao_direta                        94.0   \n",
              "                               regiao_indireta                      92.0   \n",
              "                               resto_bh                             80.0   \n",
              "\n",
              "                                                                     min  \\\n",
              "                                               area_construida_adquirida   \n",
              "tipo_construtivo_preponderante regiao                                      \n",
              "ap                             regiao_direta                        10.0   \n",
              "                               regiao_indireta                      10.0   \n",
              "                               resto_bh                             10.0   \n",
              "ca                             regiao_direta                        13.0   \n",
              "                               regiao_indireta                      11.0   \n",
              "                               resto_bh                             10.0   \n",
              "\n",
              "                                                                  per_25  \\\n",
              "                                               area_construida_adquirida   \n",
              "tipo_construtivo_preponderante regiao                                      \n",
              "ap                             regiao_direta                        86.0   \n",
              "                               regiao_indireta                      91.0   \n",
              "                               resto_bh                             64.0   \n",
              "ca                             regiao_direta                        89.0   \n",
              "                               regiao_indireta                     104.0   \n",
              "                               resto_bh                             73.0   \n",
              "\n",
              "                                                                  median  \\\n",
              "                                               area_construida_adquirida   \n",
              "tipo_construtivo_preponderante regiao                                      \n",
              "ap                             regiao_direta                       134.0   \n",
              "                               regiao_indireta                     136.0   \n",
              "                               resto_bh                             93.0   \n",
              "ca                             regiao_direta                       133.0   \n",
              "                               regiao_indireta                     176.0   \n",
              "                               resto_bh                            124.0   \n",
              "\n",
              "                                                                  per_75  \\\n",
              "                                               area_construida_adquirida   \n",
              "tipo_construtivo_preponderante regiao                                      \n",
              "ap                             regiao_direta                       177.0   \n",
              "                               regiao_indireta                     195.0   \n",
              "                               resto_bh                            138.0   \n",
              "ca                             regiao_direta                       248.0   \n",
              "                               regiao_indireta                     248.0   \n",
              "                               resto_bh                            191.0   \n",
              "\n",
              "                                                                     max  \n",
              "                                               area_construida_adquirida  \n",
              "tipo_construtivo_preponderante regiao                                     \n",
              "ap                             regiao_direta                       360.0  \n",
              "                               regiao_indireta                     360.0  \n",
              "                               resto_bh                            360.0  \n",
              "ca                             regiao_direta                       360.0  \n",
              "                               regiao_indireta                     359.0  \n",
              "                               resto_bh                            360.0  "
            ]
          },
          "execution_count": 626,
          "metadata": {},
          "output_type": "execute_result"
        }
      ],
      "source": [
        "area_stats = df.pivot_table(\n",
        "                index= ['tipo_construtivo_preponderante', 'regiao'],\n",
        "                values = 'area_construida_adquirida',\n",
        "                aggfunc = ['count', 'mean', 'std', 'min', per_25, 'median', per_75, 'max']).round(0)\n",
        "area_stats"
      ]
    },
    {
      "cell_type": "code",
      "execution_count": null,
      "id": "77742abe-8f6d-439a-b960-b205b51d3f87",
      "metadata": {
        "tags": [],
        "id": "77742abe-8f6d-439a-b960-b205b51d3f87"
      },
      "outputs": [],
      "source": [
        "area_stats.to_excel('stats_area.xlsx')"
      ]
    },
    {
      "cell_type": "markdown",
      "id": "350824d2-050c-4ecb-b556-bef2caf8541f",
      "metadata": {
        "id": "350824d2-050c-4ecb-b556-bef2caf8541f"
      },
      "source": [
        "### m2"
      ]
    },
    {
      "cell_type": "code",
      "execution_count": null,
      "id": "bc5476ec-4b1c-4966-9c33-22e04dd1d037",
      "metadata": {
        "tags": [],
        "id": "bc5476ec-4b1c-4966-9c33-22e04dd1d037",
        "outputId": "cbe7b15f-2747-4c65-e917-c55c2332d756"
      },
      "outputs": [
        {
          "data": {
            "text/html": [
              "<div>\n",
              "<style scoped>\n",
              "    .dataframe tbody tr th:only-of-type {\n",
              "        vertical-align: middle;\n",
              "    }\n",
              "\n",
              "    .dataframe tbody tr th {\n",
              "        vertical-align: top;\n",
              "    }\n",
              "\n",
              "    .dataframe thead tr th {\n",
              "        text-align: left;\n",
              "    }\n",
              "\n",
              "    .dataframe thead tr:last-of-type th {\n",
              "        text-align: right;\n",
              "    }\n",
              "</style>\n",
              "<table border=\"1\" class=\"dataframe\">\n",
              "  <thead>\n",
              "    <tr>\n",
              "      <th></th>\n",
              "      <th></th>\n",
              "      <th>count</th>\n",
              "      <th>mean</th>\n",
              "      <th>std</th>\n",
              "      <th>min</th>\n",
              "      <th>per_25</th>\n",
              "      <th>median</th>\n",
              "      <th>per_75</th>\n",
              "      <th>max</th>\n",
              "    </tr>\n",
              "    <tr>\n",
              "      <th></th>\n",
              "      <th></th>\n",
              "      <th>valor_m2_area_const_def</th>\n",
              "      <th>valor_m2_area_const_def</th>\n",
              "      <th>valor_m2_area_const_def</th>\n",
              "      <th>valor_m2_area_const_def</th>\n",
              "      <th>valor_m2_area_const_def</th>\n",
              "      <th>valor_m2_area_const_def</th>\n",
              "      <th>valor_m2_area_const_def</th>\n",
              "      <th>valor_m2_area_const_def</th>\n",
              "    </tr>\n",
              "    <tr>\n",
              "      <th>tipo_construtivo_preponderante</th>\n",
              "      <th>regiao</th>\n",
              "      <th></th>\n",
              "      <th></th>\n",
              "      <th></th>\n",
              "      <th></th>\n",
              "      <th></th>\n",
              "      <th></th>\n",
              "      <th></th>\n",
              "      <th></th>\n",
              "    </tr>\n",
              "  </thead>\n",
              "  <tbody>\n",
              "    <tr>\n",
              "      <th rowspan=\"3\" valign=\"top\">ap</th>\n",
              "      <th>regiao_direta</th>\n",
              "      <td>31323</td>\n",
              "      <td>4618.0</td>\n",
              "      <td>1345.0</td>\n",
              "      <td>501.0</td>\n",
              "      <td>3748.0</td>\n",
              "      <td>4540.0</td>\n",
              "      <td>5385.0</td>\n",
              "      <td>41860.0</td>\n",
              "    </tr>\n",
              "    <tr>\n",
              "      <th>regiao_indireta</th>\n",
              "      <td>24547</td>\n",
              "      <td>5271.0</td>\n",
              "      <td>1830.0</td>\n",
              "      <td>253.0</td>\n",
              "      <td>4038.0</td>\n",
              "      <td>5075.0</td>\n",
              "      <td>6294.0</td>\n",
              "      <td>25301.0</td>\n",
              "    </tr>\n",
              "    <tr>\n",
              "      <th>resto_bh</th>\n",
              "      <td>250336</td>\n",
              "      <td>4752.0</td>\n",
              "      <td>1681.0</td>\n",
              "      <td>246.0</td>\n",
              "      <td>3669.0</td>\n",
              "      <td>4611.0</td>\n",
              "      <td>5593.0</td>\n",
              "      <td>46189.0</td>\n",
              "    </tr>\n",
              "    <tr>\n",
              "      <th rowspan=\"3\" valign=\"top\">ca</th>\n",
              "      <th>regiao_direta</th>\n",
              "      <td>1462</td>\n",
              "      <td>5250.0</td>\n",
              "      <td>2802.0</td>\n",
              "      <td>592.0</td>\n",
              "      <td>3176.0</td>\n",
              "      <td>4815.0</td>\n",
              "      <td>6657.0</td>\n",
              "      <td>24746.0</td>\n",
              "    </tr>\n",
              "    <tr>\n",
              "      <th>regiao_indireta</th>\n",
              "      <td>1291</td>\n",
              "      <td>5759.0</td>\n",
              "      <td>4139.0</td>\n",
              "      <td>402.0</td>\n",
              "      <td>3042.0</td>\n",
              "      <td>4797.0</td>\n",
              "      <td>7347.0</td>\n",
              "      <td>46477.0</td>\n",
              "    </tr>\n",
              "    <tr>\n",
              "      <th>resto_bh</th>\n",
              "      <td>48675</td>\n",
              "      <td>4014.0</td>\n",
              "      <td>2656.0</td>\n",
              "      <td>246.0</td>\n",
              "      <td>2266.0</td>\n",
              "      <td>3547.0</td>\n",
              "      <td>5130.0</td>\n",
              "      <td>45439.0</td>\n",
              "    </tr>\n",
              "  </tbody>\n",
              "</table>\n",
              "</div>"
            ],
            "text/plain": [
              "                                                                 count  \\\n",
              "                                               valor_m2_area_const_def   \n",
              "tipo_construtivo_preponderante regiao                                    \n",
              "ap                             regiao_direta                     31323   \n",
              "                               regiao_indireta                   24547   \n",
              "                               resto_bh                         250336   \n",
              "ca                             regiao_direta                      1462   \n",
              "                               regiao_indireta                    1291   \n",
              "                               resto_bh                          48675   \n",
              "\n",
              "                                                                  mean  \\\n",
              "                                               valor_m2_area_const_def   \n",
              "tipo_construtivo_preponderante regiao                                    \n",
              "ap                             regiao_direta                    4618.0   \n",
              "                               regiao_indireta                  5271.0   \n",
              "                               resto_bh                         4752.0   \n",
              "ca                             regiao_direta                    5250.0   \n",
              "                               regiao_indireta                  5759.0   \n",
              "                               resto_bh                         4014.0   \n",
              "\n",
              "                                                                   std  \\\n",
              "                                               valor_m2_area_const_def   \n",
              "tipo_construtivo_preponderante regiao                                    \n",
              "ap                             regiao_direta                    1345.0   \n",
              "                               regiao_indireta                  1830.0   \n",
              "                               resto_bh                         1681.0   \n",
              "ca                             regiao_direta                    2802.0   \n",
              "                               regiao_indireta                  4139.0   \n",
              "                               resto_bh                         2656.0   \n",
              "\n",
              "                                                                   min  \\\n",
              "                                               valor_m2_area_const_def   \n",
              "tipo_construtivo_preponderante regiao                                    \n",
              "ap                             regiao_direta                     501.0   \n",
              "                               regiao_indireta                   253.0   \n",
              "                               resto_bh                          246.0   \n",
              "ca                             regiao_direta                     592.0   \n",
              "                               regiao_indireta                   402.0   \n",
              "                               resto_bh                          246.0   \n",
              "\n",
              "                                                                per_25  \\\n",
              "                                               valor_m2_area_const_def   \n",
              "tipo_construtivo_preponderante regiao                                    \n",
              "ap                             regiao_direta                    3748.0   \n",
              "                               regiao_indireta                  4038.0   \n",
              "                               resto_bh                         3669.0   \n",
              "ca                             regiao_direta                    3176.0   \n",
              "                               regiao_indireta                  3042.0   \n",
              "                               resto_bh                         2266.0   \n",
              "\n",
              "                                                                median  \\\n",
              "                                               valor_m2_area_const_def   \n",
              "tipo_construtivo_preponderante regiao                                    \n",
              "ap                             regiao_direta                    4540.0   \n",
              "                               regiao_indireta                  5075.0   \n",
              "                               resto_bh                         4611.0   \n",
              "ca                             regiao_direta                    4815.0   \n",
              "                               regiao_indireta                  4797.0   \n",
              "                               resto_bh                         3547.0   \n",
              "\n",
              "                                                                per_75  \\\n",
              "                                               valor_m2_area_const_def   \n",
              "tipo_construtivo_preponderante regiao                                    \n",
              "ap                             regiao_direta                    5385.0   \n",
              "                               regiao_indireta                  6294.0   \n",
              "                               resto_bh                         5593.0   \n",
              "ca                             regiao_direta                    6657.0   \n",
              "                               regiao_indireta                  7347.0   \n",
              "                               resto_bh                         5130.0   \n",
              "\n",
              "                                                                   max  \n",
              "                                               valor_m2_area_const_def  \n",
              "tipo_construtivo_preponderante regiao                                   \n",
              "ap                             regiao_direta                   41860.0  \n",
              "                               regiao_indireta                 25301.0  \n",
              "                               resto_bh                        46189.0  \n",
              "ca                             regiao_direta                   24746.0  \n",
              "                               regiao_indireta                 46477.0  \n",
              "                               resto_bh                        45439.0  "
            ]
          },
          "execution_count": 628,
          "metadata": {},
          "output_type": "execute_result"
        }
      ],
      "source": [
        "valor_m2_construido_stats = df[df['valor_m2_area_const_def'].notnull()].pivot_table(\n",
        "                index= ['tipo_construtivo_preponderante', 'regiao'],\n",
        "                values = 'valor_m2_area_const_def',\n",
        "                aggfunc = ['count', 'mean', 'std', 'min', per_25, 'median', per_75, 'max']).round(0)\n",
        "valor_m2_construido_stats"
      ]
    },
    {
      "cell_type": "code",
      "execution_count": null,
      "id": "46c347c2-87ab-4375-a4bf-a0b8fe2b40b4",
      "metadata": {
        "tags": [],
        "id": "46c347c2-87ab-4375-a4bf-a0b8fe2b40b4"
      },
      "outputs": [],
      "source": [
        "valor_m2_construido_stats.to_excel('valor_m2_construido_stats.xlsx')"
      ]
    },
    {
      "cell_type": "markdown",
      "id": "ffde4227-8726-4e66-b50e-17af55a39cfb",
      "metadata": {
        "id": "ffde4227-8726-4e66-b50e-17af55a39cfb"
      },
      "source": [
        "###"
      ]
    },
    {
      "cell_type": "markdown",
      "id": "093286a7-de02-40ab-a729-083d46207954",
      "metadata": {
        "id": "093286a7-de02-40ab-a729-083d46207954"
      },
      "source": [
        "### PA"
      ]
    },
    {
      "cell_type": "code",
      "execution_count": null,
      "id": "38003094-e1da-4b50-8469-8e7f182b9faf",
      "metadata": {
        "tags": [],
        "id": "38003094-e1da-4b50-8469-8e7f182b9faf",
        "outputId": "60038ebe-a9a4-4bf0-844d-02c439040cfb"
      },
      "outputs": [
        {
          "data": {
            "text/html": [
              "<div>\n",
              "<style scoped>\n",
              "    .dataframe tbody tr th:only-of-type {\n",
              "        vertical-align: middle;\n",
              "    }\n",
              "\n",
              "    .dataframe tbody tr th {\n",
              "        vertical-align: top;\n",
              "    }\n",
              "\n",
              "    .dataframe thead th {\n",
              "        text-align: right;\n",
              "    }\n",
              "</style>\n",
              "<table border=\"1\" class=\"dataframe\">\n",
              "  <thead>\n",
              "    <tr style=\"text-align: right;\">\n",
              "      <th></th>\n",
              "      <th>padrao_acabamento_unidade</th>\n",
              "      <th>p1</th>\n",
              "      <th>p2</th>\n",
              "      <th>p3</th>\n",
              "      <th>p4</th>\n",
              "      <th>p5</th>\n",
              "      <th>te</th>\n",
              "    </tr>\n",
              "    <tr>\n",
              "      <th>tipo_construtivo_preponderante</th>\n",
              "      <th>regiao</th>\n",
              "      <th></th>\n",
              "      <th></th>\n",
              "      <th></th>\n",
              "      <th></th>\n",
              "      <th></th>\n",
              "      <th></th>\n",
              "    </tr>\n",
              "  </thead>\n",
              "  <tbody>\n",
              "    <tr>\n",
              "      <th rowspan=\"3\" valign=\"top\">ap</th>\n",
              "      <th>regiao_direta</th>\n",
              "      <td>2.0</td>\n",
              "      <td>631.0</td>\n",
              "      <td>16478.0</td>\n",
              "      <td>13210.0</td>\n",
              "      <td>1002.0</td>\n",
              "      <td>NaN</td>\n",
              "    </tr>\n",
              "    <tr>\n",
              "      <th>regiao_indireta</th>\n",
              "      <td>29.0</td>\n",
              "      <td>1373.0</td>\n",
              "      <td>12487.0</td>\n",
              "      <td>8434.0</td>\n",
              "      <td>2224.0</td>\n",
              "      <td>NaN</td>\n",
              "    </tr>\n",
              "    <tr>\n",
              "      <th>resto_bh</th>\n",
              "      <td>2065.0</td>\n",
              "      <td>36897.0</td>\n",
              "      <td>151629.0</td>\n",
              "      <td>51829.0</td>\n",
              "      <td>7916.0</td>\n",
              "      <td>NaN</td>\n",
              "    </tr>\n",
              "    <tr>\n",
              "      <th rowspan=\"3\" valign=\"top\">ca</th>\n",
              "      <th>regiao_direta</th>\n",
              "      <td>32.0</td>\n",
              "      <td>305.0</td>\n",
              "      <td>623.0</td>\n",
              "      <td>455.0</td>\n",
              "      <td>47.0</td>\n",
              "      <td>NaN</td>\n",
              "    </tr>\n",
              "    <tr>\n",
              "      <th>regiao_indireta</th>\n",
              "      <td>51.0</td>\n",
              "      <td>433.0</td>\n",
              "      <td>632.0</td>\n",
              "      <td>167.0</td>\n",
              "      <td>8.0</td>\n",
              "      <td>NaN</td>\n",
              "    </tr>\n",
              "    <tr>\n",
              "      <th>resto_bh</th>\n",
              "      <td>3284.0</td>\n",
              "      <td>17439.0</td>\n",
              "      <td>25629.0</td>\n",
              "      <td>2222.0</td>\n",
              "      <td>99.0</td>\n",
              "      <td>2.0</td>\n",
              "    </tr>\n",
              "  </tbody>\n",
              "</table>\n",
              "</div>"
            ],
            "text/plain": [
              "padrao_acabamento_unidade                           p1       p2        p3  \\\n",
              "tipo_construtivo_preponderante regiao                                       \n",
              "ap                             regiao_direta       2.0    631.0   16478.0   \n",
              "                               regiao_indireta    29.0   1373.0   12487.0   \n",
              "                               resto_bh         2065.0  36897.0  151629.0   \n",
              "ca                             regiao_direta      32.0    305.0     623.0   \n",
              "                               regiao_indireta    51.0    433.0     632.0   \n",
              "                               resto_bh         3284.0  17439.0   25629.0   \n",
              "\n",
              "padrao_acabamento_unidade                            p4      p5   te  \n",
              "tipo_construtivo_preponderante regiao                                 \n",
              "ap                             regiao_direta    13210.0  1002.0  NaN  \n",
              "                               regiao_indireta   8434.0  2224.0  NaN  \n",
              "                               resto_bh         51829.0  7916.0  NaN  \n",
              "ca                             regiao_direta      455.0    47.0  NaN  \n",
              "                               regiao_indireta    167.0     8.0  NaN  \n",
              "                               resto_bh          2222.0    99.0  2.0  "
            ]
          },
          "execution_count": 630,
          "metadata": {},
          "output_type": "execute_result"
        }
      ],
      "source": [
        "pa_stats = df.pivot_table(index=['tipo_construtivo_preponderante', 'regiao'],\n",
        "                           values = 'endereco',\n",
        "                           columns = 'padrao_acabamento_unidade',\n",
        "                           aggfunc= 'count')\n",
        "pa_stats"
      ]
    },
    {
      "cell_type": "code",
      "execution_count": null,
      "id": "08c8f94a-ccca-4a57-88b0-4738836d7831",
      "metadata": {
        "tags": [],
        "id": "08c8f94a-ccca-4a57-88b0-4738836d7831"
      },
      "outputs": [],
      "source": [
        "pa_stats.to_excel('pa_stats.xlsx')"
      ]
    },
    {
      "cell_type": "code",
      "execution_count": null,
      "id": "17dfea17-65bf-4aaa-8e69-c6dc5be89a9f",
      "metadata": {
        "tags": [],
        "id": "17dfea17-65bf-4aaa-8e69-c6dc5be89a9f",
        "outputId": "7db3b3c5-ecea-4200-c868-86cbc01b9a01"
      },
      "outputs": [
        {
          "data": {
            "text/plain": [
              "tipo_construtivo_preponderante\n",
              "ap    306206\n",
              "ca     51428\n",
              "Name: count, dtype: int64"
            ]
          },
          "execution_count": 632,
          "metadata": {},
          "output_type": "execute_result"
        }
      ],
      "source": [
        "df['tipo_construtivo_preponderante'].value_counts()"
      ]
    },
    {
      "cell_type": "code",
      "execution_count": null,
      "id": "9abefb4b-c95d-4087-a781-1f08e74dfeb5",
      "metadata": {
        "id": "9abefb4b-c95d-4087-a781-1f08e74dfeb5"
      },
      "outputs": [],
      "source": []
    },
    {
      "cell_type": "markdown",
      "id": "00383e8c-4c9b-490c-adf4-9bb52e000e79",
      "metadata": {
        "id": "00383e8c-4c9b-490c-adf4-9bb52e000e79"
      },
      "source": [
        "# Visualização"
      ]
    },
    {
      "cell_type": "code",
      "execution_count": null,
      "id": "ca603d75-5e64-4cb3-bd4b-19ee59729871",
      "metadata": {
        "tags": [],
        "id": "ca603d75-5e64-4cb3-bd4b-19ee59729871"
      },
      "outputs": [],
      "source": [
        "import matplotlib.pyplot as plt\n",
        "import matplotlib.dates as mdates # Para alterar datas no eixo\n",
        "from matplotlib.dates import DateFormatter # Para alterar o formato da data\n",
        "from matplotlib.ticker import FuncFormatter\n",
        "import pandas as pd"
      ]
    },
    {
      "cell_type": "code",
      "execution_count": null,
      "id": "57c977f9-a98e-4403-9850-c62f861b9298",
      "metadata": {
        "tags": [],
        "id": "57c977f9-a98e-4403-9850-c62f861b9298"
      },
      "outputs": [],
      "source": [
        "# Funções para alterar a forma de exposição dos valores no gráfico\n",
        "def currency_eixo(x, pos):\n",
        "    \"\"\"The two args are the value and tick position\"\"\"\n",
        "    if x >= 1e6:\n",
        "        s = 'R${:4.0f}'.format(x*1e-3) # {:<width>.<prec><type>}\n",
        "    else:\n",
        "        s = 'R${:4.0f}'.format(x*1e-3)\n",
        "    return s\n",
        "def porcentagem_eixo(x, pos):\n",
        "    s = '{:4.0f}%'.format(x)\n",
        "    return s\n",
        "# ou aplicar diretamente: lambda x, pos: '{:4.0f}%'.format(x)\n",
        "def formatar_reais(x, pos):\n",
        "    s = 'R$ {:,.0f}'.format(x).replace(',', '.')\n",
        "    return s\n",
        "def formatar_reais_e_centavos(x):\n",
        "    s = 'R$ {:,.2f}'.format(x).replace(',', 'X').replace('.', ',').replace('X', '.')\n",
        "    return s\n",
        "def formatar_milhares(x, pos):\n",
        "    s = '{:4.0f}'.format(x*1e-3)\n",
        "def formatar_milhares_reais(x, pos):\n",
        "    \"\"\"Format large numbers in millions with 'R$'.\"\"\"\n",
        "    s = f\"R$ {x * 1e-3:,.0f}\"  # Convert to millions and format with a comma as thousands separator\n",
        "    return s\n",
        "def formatar_milhoes(x, pos):\n",
        "    s = '{:4.0f}'.format(x*1e-6)\n",
        "def formatar_milhoes_reais(x, pos):\n",
        "    \"\"\"Format large numbers in millions with 'R$'.\"\"\"\n",
        "    s = f\"R$ {x * 1e-6:,.0f}\"  # Convert to millions and format with a comma as thousands separator\n",
        "    return s\n",
        "def formatar_bilhoes(x, pos):\n",
        "    s = '{:4.2f}B'.format(x*1e-9)\n",
        "    return s\n",
        "def formatar_ano(x, pos):\n",
        "    return '{:4.0f}'.format(x)\n",
        "def format_thousands(x, pos):\n",
        "    return '{:,.0f}'.format(x).replace(',', '.')"
      ]
    },
    {
      "cell_type": "code",
      "execution_count": null,
      "id": "ff27ea9e-1cb0-4e92-ab39-e9afb73b12f6",
      "metadata": {
        "tags": [],
        "id": "ff27ea9e-1cb0-4e92-ab39-e9afb73b12f6",
        "outputId": "0ca30ab7-f67a-4c7f-9aba-944685c8c287"
      },
      "outputs": [
        {
          "name": "stdout",
          "output_type": "stream",
          "text": [
            "['Solarize_Light2', '_classic_test_patch', '_mpl-gallery', '_mpl-gallery-nogrid', 'bmh', 'classic', 'dark_background', 'fast', 'fivethirtyeight', 'ggplot', 'grayscale', 'seaborn-v0_8', 'seaborn-v0_8-bright', 'seaborn-v0_8-colorblind', 'seaborn-v0_8-dark', 'seaborn-v0_8-dark-palette', 'seaborn-v0_8-darkgrid', 'seaborn-v0_8-deep', 'seaborn-v0_8-muted', 'seaborn-v0_8-notebook', 'seaborn-v0_8-paper', 'seaborn-v0_8-pastel', 'seaborn-v0_8-poster', 'seaborn-v0_8-talk', 'seaborn-v0_8-ticks', 'seaborn-v0_8-white', 'seaborn-v0_8-whitegrid', 'tableau-colorblind10']\n"
          ]
        }
      ],
      "source": [
        "print(plt.style.available)\n",
        "plt.style.use('seaborn-v0_8') # ggplot também é bom"
      ]
    },
    {
      "cell_type": "code",
      "execution_count": null,
      "id": "d0f3eefd-3f15-4897-9407-f8291879e586",
      "metadata": {
        "tags": [],
        "id": "d0f3eefd-3f15-4897-9407-f8291879e586",
        "outputId": "817433a0-c1ed-4eac-c6e8-426ffaca1518"
      },
      "outputs": [
        {
          "data": {
            "image/png": "[encoded data removed]",
            "text/html": [
              "<div style=\"vertical-align: middle;\"><strong>Set1</strong> </div><div class=\"cmap\"><img alt=\"Set1 colormap\" title=\"Set1\" style=\"border: 1px solid #555;\" src=\"data:image/png;base64,iVBORw0KGgoAAAANSUhEUgAAAgAAAABACAYAAABsv8+/AAAAE3RFWHRUaXRsZQBTZXQxIGNvbG9ybWFwG6zH/AAAABl0RVh0RGVzY3JpcHRpb24AU2V0MSBjb2xvcm1hcJAeV2QAAAAwdEVYdEF1dGhvcgBNYXRwbG90bGliIHYzLjguMiwgaHR0cHM6Ly9tYXRwbG90bGliLm9yZw8V3hIAAAAydEVYdFNvZnR3YXJlAE1hdHBsb3RsaWIgdjMuOC4yLCBodHRwczovL21hdHBsb3RsaWIub3JnIbNBNQAAAXJJREFUeJzt1rFJA2AYAFF1CBHJBlbBMazEQlKkE7JGZrCxCQRs3MnaFax1it8PvPcmuPIuv243Pxf/3NPLaTphuevt63TCcg/n3XTCcoftfjphreP9dMFyH8/f0wnLPd69TScs937zOZ2w3NV0AADw9wwAAAQZAAAIMgAAEGQAACDIAABAkAEAgCADAABBBgAAggwAAAQZAAAIMgAAEGQAACDIAABAkAEAgCADAABBBgAAggwAAAQZAAAIMgAAEGQAACDIAABAkAEAgCADAABBBgAAggwAAAQZAAAIMgAAEGQAACDIAABAkAEAgCADAABBBgAAggwAAAQZAAAIMgAAEGQAACDIAABAkAEAgCADAABBBgAAggwAAAQZAAAIMgAAEGQAACDIAABAkAEAgCADAABBBgAAggwAAAQZAAAIMgAAEGQAACDIAABAkAEAgCADAABBBgAAggwAAAQZAAAIMgAAEGQAACDIAABAkAEAgKBfc6EMSuFnNvgAAAAASUVORK5CYII=\"></div><div style=\"vertical-align: middle; max-width: 514px; display: flex; justify-content: space-between;\"><div style=\"float: left;\"><div title=\"#e41a1cff\" style=\"display: inline-block; width: 1em; height: 1em; margin: 0; vertical-align: middle; border: 1px solid #555; background-color: #e41a1cff;\"></div> under</div><div style=\"margin: 0 auto; display: inline-block;\">bad <div title=\"#00000000\" style=\"display: inline-block; width: 1em; height: 1em; margin: 0; vertical-align: middle; border: 1px solid #555; background-color: #00000000;\"></div></div><div style=\"float: right;\">over <div title=\"#999999ff\" style=\"display: inline-block; width: 1em; height: 1em; margin: 0; vertical-align: middle; border: 1px solid #555; background-color: #999999ff;\"></div></div>"
            ],
            "text/plain": [
              "<matplotlib.colors.ListedColormap at 0x25800e93520>"
            ]
          },
          "execution_count": 636,
          "metadata": {},
          "output_type": "execute_result"
        }
      ],
      "source": [
        "plt.rc('figure', figsize=(6,3), titlesize=15)\n",
        "plt.rc('lines', linewidth=2)\n",
        "plt.rc('axes', labelsize=10, titlesize=8, titleweight='bold', titley=1.05, labelpad=6, labelweight='bold') # vai mudar do x e do y\n",
        "plt.rc('xtick', labelsize=8)\n",
        "plt.rc('ytick', labelsize=8)\n",
        "plt.rc('legend', loc='lower center', fontsize=9, frameon=True, framealpha=0.8)\n",
        "colors = plt.colormaps.get_cmap('Set1') # bom para qualitativo\n",
        "plt.colormaps.get_cmap('Set1') # melhor porque distingue melhor as primeiras cores"
      ]
    },
    {
      "cell_type": "code",
      "execution_count": null,
      "id": "307d61d9-f991-4af7-bebf-345170c7cb41",
      "metadata": {
        "id": "307d61d9-f991-4af7-bebf-345170c7cb41"
      },
      "outputs": [],
      "source": []
    },
    {
      "cell_type": "markdown",
      "id": "0944e466-97d5-4546-a12a-b141f9f8150c",
      "metadata": {
        "id": "0944e466-97d5-4546-a12a-b141f9f8150c"
      },
      "source": [
        "## Local"
      ]
    },
    {
      "cell_type": "code",
      "execution_count": null,
      "id": "192151f3-275d-41d9-b873-c5bda3040aac",
      "metadata": {
        "tags": [],
        "id": "192151f3-275d-41d9-b873-c5bda3040aac"
      },
      "outputs": [],
      "source": [
        "tab_preco_tempo = df.pivot_table(index = 'mes_ano',\n",
        "                                  values = 'valor_m2_area_const_def',\n",
        "                                  columns = 'regiao',\n",
        "                                  aggfunc = 'mean')\n",
        "tab_preco_tempo.reset_index(inplace=True)\n",
        "tab_preco_tempo['mes_ano'] = pd.to_datetime(tab_preco_tempo['mes_ano'], format = '%m-%Y')\n",
        "tab_preco_tempo.sort_values(by='mes_ano', inplace=True)"
      ]
    },
    {
      "cell_type": "code",
      "execution_count": null,
      "id": "e65783a6-d7b5-48f2-9eb5-07deab3daf44",
      "metadata": {
        "tags": [],
        "id": "e65783a6-d7b5-48f2-9eb5-07deab3daf44",
        "outputId": "5e9505ed-8925-457f-c9d9-e989654cf966"
      },
      "outputs": [
        {
          "data": {
            "text/html": [
              "<div>\n",
              "<style scoped>\n",
              "    .dataframe tbody tr th:only-of-type {\n",
              "        vertical-align: middle;\n",
              "    }\n",
              "\n",
              "    .dataframe tbody tr th {\n",
              "        vertical-align: top;\n",
              "    }\n",
              "\n",
              "    .dataframe thead th {\n",
              "        text-align: right;\n",
              "    }\n",
              "</style>\n",
              "<table border=\"1\" class=\"dataframe\">\n",
              "  <thead>\n",
              "    <tr style=\"text-align: right;\">\n",
              "      <th>regiao</th>\n",
              "      <th>mes_ano</th>\n",
              "      <th>regiao_direta</th>\n",
              "      <th>regiao_indireta</th>\n",
              "      <th>resto_bh</th>\n",
              "    </tr>\n",
              "  </thead>\n",
              "  <tbody>\n",
              "    <tr>\n",
              "      <th>0</th>\n",
              "      <td>2008-01-01</td>\n",
              "      <td>2745.221155</td>\n",
              "      <td>2824.017316</td>\n",
              "      <td>2493.160746</td>\n",
              "    </tr>\n",
              "    <tr>\n",
              "      <th>17</th>\n",
              "      <td>2008-02-01</td>\n",
              "      <td>2639.748751</td>\n",
              "      <td>2884.979679</td>\n",
              "      <td>2500.823543</td>\n",
              "    </tr>\n",
              "    <tr>\n",
              "      <th>34</th>\n",
              "      <td>2008-03-01</td>\n",
              "      <td>2667.710124</td>\n",
              "      <td>3207.742221</td>\n",
              "      <td>2569.483212</td>\n",
              "    </tr>\n",
              "    <tr>\n",
              "      <th>51</th>\n",
              "      <td>2008-04-01</td>\n",
              "      <td>2663.948709</td>\n",
              "      <td>3326.764065</td>\n",
              "      <td>2524.153356</td>\n",
              "    </tr>\n",
              "    <tr>\n",
              "      <th>68</th>\n",
              "      <td>2008-05-01</td>\n",
              "      <td>2796.581656</td>\n",
              "      <td>3311.149460</td>\n",
              "      <td>2664.160781</td>\n",
              "    </tr>\n",
              "    <tr>\n",
              "      <th>...</th>\n",
              "      <td>...</td>\n",
              "      <td>...</td>\n",
              "      <td>...</td>\n",
              "      <td>...</td>\n",
              "    </tr>\n",
              "    <tr>\n",
              "      <th>118</th>\n",
              "      <td>2024-07-01</td>\n",
              "      <td>4415.422673</td>\n",
              "      <td>4821.251090</td>\n",
              "      <td>4410.090634</td>\n",
              "    </tr>\n",
              "    <tr>\n",
              "      <th>135</th>\n",
              "      <td>2024-08-01</td>\n",
              "      <td>4468.487979</td>\n",
              "      <td>5100.016598</td>\n",
              "      <td>4480.382289</td>\n",
              "    </tr>\n",
              "    <tr>\n",
              "      <th>152</th>\n",
              "      <td>2024-09-01</td>\n",
              "      <td>4896.268643</td>\n",
              "      <td>5245.943581</td>\n",
              "      <td>4575.073593</td>\n",
              "    </tr>\n",
              "    <tr>\n",
              "      <th>169</th>\n",
              "      <td>2024-10-01</td>\n",
              "      <td>4927.725873</td>\n",
              "      <td>5327.394433</td>\n",
              "      <td>4773.337073</td>\n",
              "    </tr>\n",
              "    <tr>\n",
              "      <th>186</th>\n",
              "      <td>2024-11-01</td>\n",
              "      <td>4528.927541</td>\n",
              "      <td>4825.481626</td>\n",
              "      <td>4703.599158</td>\n",
              "    </tr>\n",
              "  </tbody>\n",
              "</table>\n",
              "<p>203 rows × 4 columns</p>\n",
              "</div>"
            ],
            "text/plain": [
              "regiao    mes_ano  regiao_direta  regiao_indireta     resto_bh\n",
              "0      2008-01-01    2745.221155      2824.017316  2493.160746\n",
              "17     2008-02-01    2639.748751      2884.979679  2500.823543\n",
              "34     2008-03-01    2667.710124      3207.742221  2569.483212\n",
              "51     2008-04-01    2663.948709      3326.764065  2524.153356\n",
              "68     2008-05-01    2796.581656      3311.149460  2664.160781\n",
              "..            ...            ...              ...          ...\n",
              "118    2024-07-01    4415.422673      4821.251090  4410.090634\n",
              "135    2024-08-01    4468.487979      5100.016598  4480.382289\n",
              "152    2024-09-01    4896.268643      5245.943581  4575.073593\n",
              "169    2024-10-01    4927.725873      5327.394433  4773.337073\n",
              "186    2024-11-01    4528.927541      4825.481626  4703.599158\n",
              "\n",
              "[203 rows x 4 columns]"
            ]
          },
          "execution_count": 638,
          "metadata": {},
          "output_type": "execute_result"
        }
      ],
      "source": [
        "tab_preco_tempo"
      ]
    },
    {
      "cell_type": "code",
      "execution_count": null,
      "id": "a3d9569b-e352-41d0-acd6-d7c8f1d20746",
      "metadata": {
        "tags": [],
        "id": "a3d9569b-e352-41d0-acd6-d7c8f1d20746"
      },
      "outputs": [],
      "source": [
        "tab_preco_tempo['regiao_direta_ma'] = tab_preco_tempo['regiao_direta'].rolling(window=3).mean()\n",
        "tab_preco_tempo['regiao_indireta_ma'] = tab_preco_tempo['regiao_indireta'].rolling(window=3).mean()\n",
        "tab_preco_tempo['resto_bh_ma'] = tab_preco_tempo['resto_bh'].rolling(window=3).mean()"
      ]
    },
    {
      "cell_type": "code",
      "execution_count": null,
      "id": "01a4a42e-f6d6-4b37-a3be-6587f6794019",
      "metadata": {
        "tags": [],
        "id": "01a4a42e-f6d6-4b37-a3be-6587f6794019",
        "outputId": "e5efe401-2009-4f88-b037-5bef6d3258b8"
      },
      "outputs": [
        {
          "data": {
            "image/png": "[encoded data removed]",
            "text/plain": [
              "<Figure size 600x400 with 1 Axes>"
            ]
          },
          "metadata": {},
          "output_type": "display_data"
        }
      ],
      "source": [
        "fig, ax = plt.subplots(figsize=(6, 4))\n",
        "\n",
        "colors = plt.cm.Set1(range(len(tab_preco_tempo)))  # Use Set1 colormap for colors\n",
        "\n",
        "ax.plot(tab_preco_tempo['mes_ano'], tab_preco_tempo['regiao_direta_ma'],\n",
        "        label='Região Direta ao Empreendimento',\n",
        "        color=colors[0], alpha=0.7)\n",
        "ax.plot(tab_preco_tempo['mes_ano'], tab_preco_tempo['regiao_indireta_ma'],\n",
        "        label='Região Indireta ao Empreendimento',\n",
        "        color=colors[1], alpha=0.7)\n",
        "ax.plot(tab_preco_tempo['mes_ano'], tab_preco_tempo['resto_bh_ma'],\n",
        "        label='Belo Horizonte (restante da cidade)',\n",
        "        color=colors[2], alpha=0.7, linestyle = ':')\n",
        "\n",
        "\n",
        "ax.xaxis.set_major_formatter(mdates.DateFormatter('%Y')) # %b, %m, %-m\n",
        "ax.xaxis.set_tick_params(rotation=45)\n",
        "ax.xaxis.set_major_locator(mdates.YearLocator(base=1, month=1, day=1))\n",
        "ax.yaxis.set_major_formatter(formatar_reais)\n",
        "\n",
        "\n",
        "ax.set_xlim(tab_preco_tempo['mes_ano'].min(), tab_preco_tempo['mes_ano'].max())\n",
        "\n",
        "ax.set_ylabel('Valor do m² deflacionado')\n",
        "ax.set_xlabel('Ano')\n",
        "#ax.set_title('Evolução dos Índices ao Longo do Tempo')\n",
        "leg = ax.legend(bbox_to_anchor=(0.5, -0.25), loc='upper center', ncol=1#len(columns_to_plot)\n",
        "               )\n",
        "leg.get_frame().set_edgecolor('black')\n",
        "leg.get_frame().set_linewidth(0.4)\n",
        "\n",
        "\n",
        "ax.grid(which='major', axis='x', linestyle='-', alpha=0.7)\n",
        "ax.grid(which='major', axis='y', linestyle='-', alpha=0.7)\n",
        "\n",
        "plt.tight_layout()\n",
        "plt.show()"
      ]
    },
    {
      "cell_type": "code",
      "execution_count": null,
      "id": "1dd8ce99-a9a9-4a24-bc4f-95fb9f5f2191",
      "metadata": {
        "tags": [],
        "id": "1dd8ce99-a9a9-4a24-bc4f-95fb9f5f2191"
      },
      "outputs": [],
      "source": [
        "output_filename = 'preco_imoveis_local'\n",
        "fig.savefig(f'{output_filename}.png', dpi=300, bbox_inches='tight')"
      ]
    },
    {
      "cell_type": "code",
      "execution_count": null,
      "id": "8093fe1f-398c-44d8-8218-ff5065462d62",
      "metadata": {
        "id": "8093fe1f-398c-44d8-8218-ff5065462d62"
      },
      "outputs": [],
      "source": []
    },
    {
      "cell_type": "markdown",
      "id": "e85dd5a9-8158-4001-963b-45be322656aa",
      "metadata": {
        "tags": [],
        "id": "e85dd5a9-8158-4001-963b-45be322656aa"
      },
      "source": [
        "## Mercado Imobiliário Geral"
      ]
    },
    {
      "cell_type": "markdown",
      "id": "1a4166d1-7b88-4ea2-9960-52f84c95da5b",
      "metadata": {
        "id": "1a4166d1-7b88-4ea2-9960-52f84c95da5b"
      },
      "source": [
        "### Indices de Preco (Fipezap)"
      ]
    },
    {
      "cell_type": "code",
      "execution_count": null,
      "id": "8628f70b-fef8-4b46-8798-600563399f24",
      "metadata": {
        "tags": [],
        "id": "8628f70b-fef8-4b46-8798-600563399f24"
      },
      "outputs": [],
      "source": [
        "indice_path = r'D:\\OneDrive\\DADOS\\ITBI\\imobiliario_geral\\fipezap_export.csv'\n",
        "# esse arquivo tem que ser gerado antes de acordo com as instruções da planilha de step-by-step"
      ]
    },
    {
      "cell_type": "code",
      "execution_count": null,
      "id": "f4f56dd1-9ab6-4c77-a3a5-7fc138bbd14b",
      "metadata": {
        "id": "f4f56dd1-9ab6-4c77-a3a5-7fc138bbd14b"
      },
      "outputs": [],
      "source": [
        "indices = pd.read_csv(indice_path, sep=';', encoding='latin-1')"
      ]
    },
    {
      "cell_type": "code",
      "execution_count": null,
      "id": "f4af0493-69c8-43b6-b11d-9c56b317e82b",
      "metadata": {
        "id": "f4af0493-69c8-43b6-b11d-9c56b317e82b",
        "outputId": "e4b44e62-b8a7-4632-abd5-ad1bc07e4468"
      },
      "outputs": [
        {
          "data": {
            "text/html": [
              "<div>\n",
              "<style scoped>\n",
              "    .dataframe tbody tr th:only-of-type {\n",
              "        vertical-align: middle;\n",
              "    }\n",
              "\n",
              "    .dataframe tbody tr th {\n",
              "        vertical-align: top;\n",
              "    }\n",
              "\n",
              "    .dataframe thead th {\n",
              "        text-align: right;\n",
              "    }\n",
              "</style>\n",
              "<table border=\"1\" class=\"dataframe\">\n",
              "  <thead>\n",
              "    <tr style=\"text-align: right;\">\n",
              "      <th></th>\n",
              "      <th>data</th>\n",
              "      <th>mes</th>\n",
              "      <th>ano</th>\n",
              "      <th>indice_preco_br</th>\n",
              "      <th>indice_preco_bh</th>\n",
              "      <th>incc</th>\n",
              "    </tr>\n",
              "  </thead>\n",
              "  <tbody>\n",
              "    <tr>\n",
              "      <th>0</th>\n",
              "      <td>mai/09</td>\n",
              "      <td>5</td>\n",
              "      <td>2009</td>\n",
              "      <td>100</td>\n",
              "      <td>100</td>\n",
              "      <td>100</td>\n",
              "    </tr>\n",
              "    <tr>\n",
              "      <th>1</th>\n",
              "      <td>jun/09</td>\n",
              "      <td>6</td>\n",
              "      <td>2009</td>\n",
              "      <td>101,5769594</td>\n",
              "      <td>100,3637326</td>\n",
              "      <td>100,7</td>\n",
              "    </tr>\n",
              "    <tr>\n",
              "      <th>2</th>\n",
              "      <td>jul/09</td>\n",
              "      <td>7</td>\n",
              "      <td>2009</td>\n",
              "      <td>103,3798088</td>\n",
              "      <td>101,7019112</td>\n",
              "      <td>100,96182</td>\n",
              "    </tr>\n",
              "    <tr>\n",
              "      <th>3</th>\n",
              "      <td>ago/09</td>\n",
              "      <td>8</td>\n",
              "      <td>2009</td>\n",
              "      <td>105,2626358</td>\n",
              "      <td>102,7644012</td>\n",
              "      <td>100,9113391</td>\n",
              "    </tr>\n",
              "    <tr>\n",
              "      <th>4</th>\n",
              "      <td>set/09</td>\n",
              "      <td>9</td>\n",
              "      <td>2009</td>\n",
              "      <td>107,0823728</td>\n",
              "      <td>104,6636845</td>\n",
              "      <td>101,0627061</td>\n",
              "    </tr>\n",
              "  </tbody>\n",
              "</table>\n",
              "</div>"
            ],
            "text/plain": [
              "     data  mes   ano indice_preco_br indice_preco_bh         incc\n",
              "0  mai/09    5  2009             100             100          100\n",
              "1  jun/09    6  2009     101,5769594     100,3637326        100,7\n",
              "2  jul/09    7  2009     103,3798088     101,7019112    100,96182\n",
              "3  ago/09    8  2009     105,2626358     102,7644012  100,9113391\n",
              "4  set/09    9  2009     107,0823728     104,6636845  101,0627061"
            ]
          },
          "execution_count": 644,
          "metadata": {},
          "output_type": "execute_result"
        }
      ],
      "source": [
        "indices.head()"
      ]
    },
    {
      "cell_type": "code",
      "execution_count": null,
      "id": "abfe080a-8474-4af5-a241-61bb68815889",
      "metadata": {
        "tags": [],
        "id": "abfe080a-8474-4af5-a241-61bb68815889"
      },
      "outputs": [],
      "source": [
        "indices['indice_preco_br'] = pd.to_numeric(indices['indice_preco_br'].str.replace(',','.'), errors='raise')\n",
        "indices['indice_preco_bh'] = pd.to_numeric(indices['indice_preco_bh'].str.replace(',','.'), errors='raise')\n",
        "indices['incc'] = pd.to_numeric(indices['incc'].str.replace(',','.'), errors='raise')"
      ]
    },
    {
      "cell_type": "code",
      "execution_count": null,
      "id": "e87d957a-ecca-4cf6-b8b9-4fdb68fbefb3",
      "metadata": {
        "tags": [],
        "id": "e87d957a-ecca-4cf6-b8b9-4fdb68fbefb3",
        "outputId": "1d769e7c-45ef-4c47-d16f-856c9b503464"
      },
      "outputs": [
        {
          "data": {
            "text/html": [
              "<div>\n",
              "<style scoped>\n",
              "    .dataframe tbody tr th:only-of-type {\n",
              "        vertical-align: middle;\n",
              "    }\n",
              "\n",
              "    .dataframe tbody tr th {\n",
              "        vertical-align: top;\n",
              "    }\n",
              "\n",
              "    .dataframe thead th {\n",
              "        text-align: right;\n",
              "    }\n",
              "</style>\n",
              "<table border=\"1\" class=\"dataframe\">\n",
              "  <thead>\n",
              "    <tr style=\"text-align: right;\">\n",
              "      <th></th>\n",
              "      <th>data</th>\n",
              "      <th>mes</th>\n",
              "      <th>ano</th>\n",
              "      <th>indice_preco_br</th>\n",
              "      <th>indice_preco_bh</th>\n",
              "      <th>incc</th>\n",
              "    </tr>\n",
              "  </thead>\n",
              "  <tbody>\n",
              "    <tr>\n",
              "      <th>0</th>\n",
              "      <td>mai/09</td>\n",
              "      <td>5</td>\n",
              "      <td>2009</td>\n",
              "      <td>100.000000</td>\n",
              "      <td>100.000000</td>\n",
              "      <td>100.000000</td>\n",
              "    </tr>\n",
              "    <tr>\n",
              "      <th>1</th>\n",
              "      <td>jun/09</td>\n",
              "      <td>6</td>\n",
              "      <td>2009</td>\n",
              "      <td>101.576959</td>\n",
              "      <td>100.363733</td>\n",
              "      <td>100.700000</td>\n",
              "    </tr>\n",
              "    <tr>\n",
              "      <th>2</th>\n",
              "      <td>jul/09</td>\n",
              "      <td>7</td>\n",
              "      <td>2009</td>\n",
              "      <td>103.379809</td>\n",
              "      <td>101.701911</td>\n",
              "      <td>100.961820</td>\n",
              "    </tr>\n",
              "    <tr>\n",
              "      <th>3</th>\n",
              "      <td>ago/09</td>\n",
              "      <td>8</td>\n",
              "      <td>2009</td>\n",
              "      <td>105.262636</td>\n",
              "      <td>102.764401</td>\n",
              "      <td>100.911339</td>\n",
              "    </tr>\n",
              "    <tr>\n",
              "      <th>4</th>\n",
              "      <td>set/09</td>\n",
              "      <td>9</td>\n",
              "      <td>2009</td>\n",
              "      <td>107.082373</td>\n",
              "      <td>104.663685</td>\n",
              "      <td>101.062706</td>\n",
              "    </tr>\n",
              "  </tbody>\n",
              "</table>\n",
              "</div>"
            ],
            "text/plain": [
              "     data  mes   ano  indice_preco_br  indice_preco_bh        incc\n",
              "0  mai/09    5  2009       100.000000       100.000000  100.000000\n",
              "1  jun/09    6  2009       101.576959       100.363733  100.700000\n",
              "2  jul/09    7  2009       103.379809       101.701911  100.961820\n",
              "3  ago/09    8  2009       105.262636       102.764401  100.911339\n",
              "4  set/09    9  2009       107.082373       104.663685  101.062706"
            ]
          },
          "execution_count": 646,
          "metadata": {},
          "output_type": "execute_result"
        }
      ],
      "source": [
        "indices.head()"
      ]
    },
    {
      "cell_type": "code",
      "execution_count": null,
      "id": "3fd35af6-81c1-4094-a95b-e502f553f611",
      "metadata": {
        "tags": [],
        "id": "3fd35af6-81c1-4094-a95b-e502f553f611"
      },
      "outputs": [],
      "source": [
        "indices['mes'] = indices['mes'].astype(str)\n",
        "indices['ano'] = indices['ano'].astype(str)\n",
        "indices['mes_ano'] = indices['mes'] + '-' + indices['ano']\n",
        "indices['mes_ano'] = pd.to_datetime(indices['mes_ano'], format = '%m-%Y')"
      ]
    },
    {
      "cell_type": "code",
      "execution_count": null,
      "id": "7d9b824e-4ae1-4d58-b60f-b79f51e74592",
      "metadata": {
        "tags": [],
        "id": "7d9b824e-4ae1-4d58-b60f-b79f51e74592",
        "outputId": "87a54265-3335-4891-cdb9-7b8ce9db4d1f"
      },
      "outputs": [
        {
          "data": {
            "text/html": [
              "<div>\n",
              "<style scoped>\n",
              "    .dataframe tbody tr th:only-of-type {\n",
              "        vertical-align: middle;\n",
              "    }\n",
              "\n",
              "    .dataframe tbody tr th {\n",
              "        vertical-align: top;\n",
              "    }\n",
              "\n",
              "    .dataframe thead th {\n",
              "        text-align: right;\n",
              "    }\n",
              "</style>\n",
              "<table border=\"1\" class=\"dataframe\">\n",
              "  <thead>\n",
              "    <tr style=\"text-align: right;\">\n",
              "      <th></th>\n",
              "      <th>data</th>\n",
              "      <th>mes</th>\n",
              "      <th>ano</th>\n",
              "      <th>indice_preco_br</th>\n",
              "      <th>indice_preco_bh</th>\n",
              "      <th>incc</th>\n",
              "      <th>mes_ano</th>\n",
              "    </tr>\n",
              "  </thead>\n",
              "  <tbody>\n",
              "    <tr>\n",
              "      <th>0</th>\n",
              "      <td>mai/09</td>\n",
              "      <td>5</td>\n",
              "      <td>2009</td>\n",
              "      <td>100.000000</td>\n",
              "      <td>100.000000</td>\n",
              "      <td>100.00000</td>\n",
              "      <td>2009-05-01</td>\n",
              "    </tr>\n",
              "    <tr>\n",
              "      <th>1</th>\n",
              "      <td>jun/09</td>\n",
              "      <td>6</td>\n",
              "      <td>2009</td>\n",
              "      <td>101.576959</td>\n",
              "      <td>100.363733</td>\n",
              "      <td>100.70000</td>\n",
              "      <td>2009-06-01</td>\n",
              "    </tr>\n",
              "    <tr>\n",
              "      <th>2</th>\n",
              "      <td>jul/09</td>\n",
              "      <td>7</td>\n",
              "      <td>2009</td>\n",
              "      <td>103.379809</td>\n",
              "      <td>101.701911</td>\n",
              "      <td>100.96182</td>\n",
              "      <td>2009-07-01</td>\n",
              "    </tr>\n",
              "  </tbody>\n",
              "</table>\n",
              "</div>"
            ],
            "text/plain": [
              "     data mes   ano  indice_preco_br  indice_preco_bh       incc    mes_ano\n",
              "0  mai/09   5  2009       100.000000       100.000000  100.00000 2009-05-01\n",
              "1  jun/09   6  2009       101.576959       100.363733  100.70000 2009-06-01\n",
              "2  jul/09   7  2009       103.379809       101.701911  100.96182 2009-07-01"
            ]
          },
          "execution_count": 648,
          "metadata": {},
          "output_type": "execute_result"
        }
      ],
      "source": [
        "indices.head(3)"
      ]
    },
    {
      "cell_type": "code",
      "execution_count": null,
      "id": "53a77904-cdeb-46a8-a5d5-f895e844f8b7",
      "metadata": {
        "tags": [],
        "id": "53a77904-cdeb-46a8-a5d5-f895e844f8b7",
        "outputId": "fc62d687-6dcd-4eca-aa73-9c056ffa76b8"
      },
      "outputs": [
        {
          "data": {
            "image/png": "[encoded data removed]",
            "text/plain": [
              "<Figure size 600x400 with 1 Axes>"
            ]
          },
          "metadata": {},
          "output_type": "display_data"
        }
      ],
      "source": [
        "\n",
        "fig, ax = plt.subplots(figsize=(6, 4))\n",
        "\n",
        "columns_to_plot = ['indice_preco_br', 'indice_preco_bh', 'incc']\n",
        "colors = plt.cm.Set1(range(len(columns_to_plot)))  # Use Set1 colormap for colors\n",
        "\n",
        "ax.plot(indices['mes_ano'], indices['indice_preco_br'], label='Índice de Preço dos imóveis no Brasil (FIPE-ZAP)',\n",
        "        color=colors[0], alpha=0.7)\n",
        "ax.plot(indices['mes_ano'], indices['indice_preco_bh'],label='Índice de Preço dos imóveis em Belo Horizonte (FIPE-ZAP)',\n",
        "        color=colors[1], alpha=0.7)\n",
        "ax.plot(indices['mes_ano'], indices['incc'], label='INCC (FGV)',\n",
        "        color=colors[2], alpha=0.7, linestyle = ':')\n",
        "\n",
        "\n",
        "ax.xaxis.set_major_formatter(mdates.DateFormatter('%Y')) # %b, %m, %-m\n",
        "ax.xaxis.set_tick_params(rotation=45)\n",
        "ax.xaxis.set_major_locator(mdates.YearLocator(base=1, month=1, day=1))\n",
        "\n",
        "\n",
        "ax.set_xlim(indices['mes_ano'].min(), indices['mes_ano'].max())\n",
        "\n",
        "ax.set_ylabel('Índice')\n",
        "ax.set_xlabel('Ano')\n",
        "#ax.set_title('Evolução dos Índices ao Longo do Tempo')\n",
        "leg = ax.legend(bbox_to_anchor=(0.5, -0.25), loc='upper center', ncol=1#len(columns_to_plot)\n",
        "               )\n",
        "leg.get_frame().set_edgecolor('black')\n",
        "leg.get_frame().set_linewidth(0.4)\n",
        "\n",
        "\n",
        "ax.grid(which='major', axis='x', linestyle='-', alpha=0.7)\n",
        "ax.grid(which='major', axis='y', linestyle='-', alpha=0.7)\n",
        "\n",
        "plt.tight_layout()\n",
        "plt.show()"
      ]
    },
    {
      "cell_type": "code",
      "execution_count": null,
      "id": "4b488f64-9359-4b88-a696-fb507f49377f",
      "metadata": {
        "tags": [],
        "id": "4b488f64-9359-4b88-a696-fb507f49377f"
      },
      "outputs": [],
      "source": [
        "output_filename = 'indices_preco'\n",
        "fig.savefig(f'{output_filename}.png', dpi=300, bbox_inches='tight')"
      ]
    },
    {
      "cell_type": "code",
      "execution_count": null,
      "id": "d471ad65-f747-4d3b-b613-415064cbeb47",
      "metadata": {
        "id": "d471ad65-f747-4d3b-b613-415064cbeb47"
      },
      "outputs": [],
      "source": []
    },
    {
      "cell_type": "markdown",
      "id": "ef55ec42-b48e-446c-8c5c-cb7613bd2881",
      "metadata": {
        "id": "ef55ec42-b48e-446c-8c5c-cb7613bd2881"
      },
      "source": [
        "## Financiamento - ABECIP"
      ]
    },
    {
      "cell_type": "code",
      "execution_count": null,
      "id": "b016f548-674f-446e-ab17-12dbea0062e3",
      "metadata": {
        "id": "b016f548-674f-446e-ab17-12dbea0062e3"
      },
      "outputs": [],
      "source": []
    },
    {
      "cell_type": "code",
      "execution_count": null,
      "id": "1c63c536-5e4f-4ded-9440-4ed0105da6bb",
      "metadata": {
        "id": "1c63c536-5e4f-4ded-9440-4ed0105da6bb"
      },
      "outputs": [],
      "source": [
        "financiamento = r'D:\\OneDrive\\DADOS\\ITBI\\imobiliario_geral\\abecip_export.csv'\n",
        "# esse arquivo tem que ser gerado antes de acordo com as instruções da planilha de step-by-step"
      ]
    },
    {
      "cell_type": "code",
      "execution_count": null,
      "id": "ea01346c-b21e-42fc-958f-467b37fea8f2",
      "metadata": {
        "id": "ea01346c-b21e-42fc-958f-467b37fea8f2"
      },
      "outputs": [],
      "source": [
        "fin = pd.read_csv(financiamento, sep=';')"
      ]
    },
    {
      "cell_type": "code",
      "execution_count": null,
      "id": "22d66a1a-72b1-4305-be37-dadf78b565fb",
      "metadata": {
        "id": "22d66a1a-72b1-4305-be37-dadf78b565fb"
      },
      "outputs": [],
      "source": [
        "fin.drop([274,275], # nan\n",
        "         inplace = True)"
      ]
    },
    {
      "cell_type": "code",
      "execution_count": null,
      "id": "4ee648ac-30be-44e0-b151-56f08a590570",
      "metadata": {
        "tags": [],
        "id": "4ee648ac-30be-44e0-b151-56f08a590570"
      },
      "outputs": [],
      "source": [
        "fin['data'] = pd.to_datetime(fin['periodo'], format = '%d/%m/%Y')"
      ]
    },
    {
      "cell_type": "code",
      "execution_count": null,
      "id": "639ca264-399b-46b5-a5af-3762dcb032ce",
      "metadata": {
        "tags": [],
        "id": "639ca264-399b-46b5-a5af-3762dcb032ce"
      },
      "outputs": [],
      "source": [
        "for col in ['unid_construcao', 'unid_aquisicao', 'unid_total',\n",
        "       'vlr_construcao', 'vlr_aquisicao', 'vlr_total']:\n",
        "    fin[col] = pd.to_numeric(fin[col].astype(str).str.replace('.','').str.replace(',','.'))"
      ]
    },
    {
      "cell_type": "code",
      "execution_count": null,
      "id": "7d8f20b7-c9bf-4f98-a362-e63d7e085ce9",
      "metadata": {
        "id": "7d8f20b7-c9bf-4f98-a362-e63d7e085ce9",
        "outputId": "de9c4cac-d3fb-4cd5-e5c1-a4897d079812"
      },
      "outputs": [
        {
          "data": {
            "text/html": [
              "<div>\n",
              "<style scoped>\n",
              "    .dataframe tbody tr th:only-of-type {\n",
              "        vertical-align: middle;\n",
              "    }\n",
              "\n",
              "    .dataframe tbody tr th {\n",
              "        vertical-align: top;\n",
              "    }\n",
              "\n",
              "    .dataframe thead th {\n",
              "        text-align: right;\n",
              "    }\n",
              "</style>\n",
              "<table border=\"1\" class=\"dataframe\">\n",
              "  <thead>\n",
              "    <tr style=\"text-align: right;\">\n",
              "      <th></th>\n",
              "      <th>periodo</th>\n",
              "      <th>unid_construcao</th>\n",
              "      <th>unid_aquisicao</th>\n",
              "      <th>unid_total</th>\n",
              "      <th>vlr_construcao</th>\n",
              "      <th>vlr_aquisicao</th>\n",
              "      <th>vlr_total</th>\n",
              "      <th>data</th>\n",
              "    </tr>\n",
              "  </thead>\n",
              "  <tbody>\n",
              "    <tr>\n",
              "      <th>0</th>\n",
              "      <td>01/01/2002</td>\n",
              "      <td>2000</td>\n",
              "      <td>1455</td>\n",
              "      <td>1655</td>\n",
              "      <td>13.54</td>\n",
              "      <td>83.95</td>\n",
              "      <td>97.49</td>\n",
              "      <td>2002-01-01</td>\n",
              "    </tr>\n",
              "    <tr>\n",
              "      <th>1</th>\n",
              "      <td>01/02/2002</td>\n",
              "      <td>4830</td>\n",
              "      <td>1456</td>\n",
              "      <td>1939</td>\n",
              "      <td>32.12</td>\n",
              "      <td>96.12</td>\n",
              "      <td>128.24</td>\n",
              "      <td>2002-02-01</td>\n",
              "    </tr>\n",
              "    <tr>\n",
              "      <th>2</th>\n",
              "      <td>01/03/2002</td>\n",
              "      <td>1049</td>\n",
              "      <td>1522</td>\n",
              "      <td>2571</td>\n",
              "      <td>62.59</td>\n",
              "      <td>101.71</td>\n",
              "      <td>164.31</td>\n",
              "      <td>2002-03-01</td>\n",
              "    </tr>\n",
              "    <tr>\n",
              "      <th>3</th>\n",
              "      <td>01/04/2002</td>\n",
              "      <td>6840</td>\n",
              "      <td>1723</td>\n",
              "      <td>2407</td>\n",
              "      <td>44.42</td>\n",
              "      <td>108.15</td>\n",
              "      <td>152.57</td>\n",
              "      <td>2002-04-01</td>\n",
              "    </tr>\n",
              "    <tr>\n",
              "      <th>4</th>\n",
              "      <td>01/05/2002</td>\n",
              "      <td>5710</td>\n",
              "      <td>1536</td>\n",
              "      <td>2107</td>\n",
              "      <td>23.48</td>\n",
              "      <td>98.28</td>\n",
              "      <td>121.76</td>\n",
              "      <td>2002-05-01</td>\n",
              "    </tr>\n",
              "    <tr>\n",
              "      <th>...</th>\n",
              "      <td>...</td>\n",
              "      <td>...</td>\n",
              "      <td>...</td>\n",
              "      <td>...</td>\n",
              "      <td>...</td>\n",
              "      <td>...</td>\n",
              "      <td>...</td>\n",
              "      <td>...</td>\n",
              "    </tr>\n",
              "    <tr>\n",
              "      <th>269</th>\n",
              "      <td>01/06/2024</td>\n",
              "      <td>16799</td>\n",
              "      <td>33609</td>\n",
              "      <td>50408</td>\n",
              "      <td>4406.59</td>\n",
              "      <td>12569.95</td>\n",
              "      <td>16976.54</td>\n",
              "      <td>2024-06-01</td>\n",
              "    </tr>\n",
              "    <tr>\n",
              "      <th>270</th>\n",
              "      <td>01/07/2024</td>\n",
              "      <td>16469</td>\n",
              "      <td>37955</td>\n",
              "      <td>54424</td>\n",
              "      <td>3767.25</td>\n",
              "      <td>14207.54</td>\n",
              "      <td>17974.78</td>\n",
              "      <td>2024-07-01</td>\n",
              "    </tr>\n",
              "    <tr>\n",
              "      <th>271</th>\n",
              "      <td>01/08/2024</td>\n",
              "      <td>17616</td>\n",
              "      <td>35841</td>\n",
              "      <td>53457</td>\n",
              "      <td>4723.04</td>\n",
              "      <td>13665.05</td>\n",
              "      <td>18388.09</td>\n",
              "      <td>2024-08-01</td>\n",
              "    </tr>\n",
              "    <tr>\n",
              "      <th>272</th>\n",
              "      <td>01/09/2024</td>\n",
              "      <td>21839</td>\n",
              "      <td>36532</td>\n",
              "      <td>58371</td>\n",
              "      <td>4442.81</td>\n",
              "      <td>13177.11</td>\n",
              "      <td>17619.92</td>\n",
              "      <td>2024-09-01</td>\n",
              "    </tr>\n",
              "    <tr>\n",
              "      <th>273</th>\n",
              "      <td>01/10/2024</td>\n",
              "      <td>20696</td>\n",
              "      <td>34843</td>\n",
              "      <td>55539</td>\n",
              "      <td>5080.24</td>\n",
              "      <td>12960.16</td>\n",
              "      <td>18040.40</td>\n",
              "      <td>2024-10-01</td>\n",
              "    </tr>\n",
              "  </tbody>\n",
              "</table>\n",
              "<p>274 rows × 8 columns</p>\n",
              "</div>"
            ],
            "text/plain": [
              "        periodo  unid_construcao  unid_aquisicao  unid_total  vlr_construcao  \\\n",
              "0    01/01/2002             2000            1455        1655           13.54   \n",
              "1    01/02/2002             4830            1456        1939           32.12   \n",
              "2    01/03/2002             1049            1522        2571           62.59   \n",
              "3    01/04/2002             6840            1723        2407           44.42   \n",
              "4    01/05/2002             5710            1536        2107           23.48   \n",
              "..          ...              ...             ...         ...             ...   \n",
              "269  01/06/2024            16799           33609       50408         4406.59   \n",
              "270  01/07/2024            16469           37955       54424         3767.25   \n",
              "271  01/08/2024            17616           35841       53457         4723.04   \n",
              "272  01/09/2024            21839           36532       58371         4442.81   \n",
              "273  01/10/2024            20696           34843       55539         5080.24   \n",
              "\n",
              "     vlr_aquisicao  vlr_total       data  \n",
              "0            83.95      97.49 2002-01-01  \n",
              "1            96.12     128.24 2002-02-01  \n",
              "2           101.71     164.31 2002-03-01  \n",
              "3           108.15     152.57 2002-04-01  \n",
              "4            98.28     121.76 2002-05-01  \n",
              "..             ...        ...        ...  \n",
              "269       12569.95   16976.54 2024-06-01  \n",
              "270       14207.54   17974.78 2024-07-01  \n",
              "271       13665.05   18388.09 2024-08-01  \n",
              "272       13177.11   17619.92 2024-09-01  \n",
              "273       12960.16   18040.40 2024-10-01  \n",
              "\n",
              "[274 rows x 8 columns]"
            ]
          },
          "execution_count": 656,
          "metadata": {},
          "output_type": "execute_result"
        }
      ],
      "source": [
        "fin"
      ]
    },
    {
      "cell_type": "code",
      "execution_count": null,
      "id": "3847406c-5b8a-481b-815e-39747c9f383a",
      "metadata": {
        "tags": [],
        "id": "3847406c-5b8a-481b-815e-39747c9f383a"
      },
      "outputs": [],
      "source": [
        "fin['ano'] = fin['data'].dt.year"
      ]
    },
    {
      "cell_type": "code",
      "execution_count": null,
      "id": "eedc70c7-dffb-4eef-ab72-e46ca845bfbd",
      "metadata": {
        "tags": [],
        "id": "eedc70c7-dffb-4eef-ab72-e46ca845bfbd",
        "outputId": "3ba6304e-e890-43eb-cd81-299fa886c87a"
      },
      "outputs": [
        {
          "data": {
            "text/html": [
              "<div>\n",
              "<style scoped>\n",
              "    .dataframe tbody tr th:only-of-type {\n",
              "        vertical-align: middle;\n",
              "    }\n",
              "\n",
              "    .dataframe tbody tr th {\n",
              "        vertical-align: top;\n",
              "    }\n",
              "\n",
              "    .dataframe thead th {\n",
              "        text-align: right;\n",
              "    }\n",
              "</style>\n",
              "<table border=\"1\" class=\"dataframe\">\n",
              "  <thead>\n",
              "    <tr style=\"text-align: right;\">\n",
              "      <th></th>\n",
              "      <th>ano</th>\n",
              "      <th>unid_total</th>\n",
              "      <th>vlr_total</th>\n",
              "    </tr>\n",
              "  </thead>\n",
              "  <tbody>\n",
              "    <tr>\n",
              "      <th>0</th>\n",
              "      <td>2002</td>\n",
              "      <td>28932</td>\n",
              "      <td>1770.16</td>\n",
              "    </tr>\n",
              "    <tr>\n",
              "      <th>1</th>\n",
              "      <td>2003</td>\n",
              "      <td>32916</td>\n",
              "      <td>2217.68</td>\n",
              "    </tr>\n",
              "    <tr>\n",
              "      <th>2</th>\n",
              "      <td>2004</td>\n",
              "      <td>43035</td>\n",
              "      <td>3002.25</td>\n",
              "    </tr>\n",
              "    <tr>\n",
              "      <th>3</th>\n",
              "      <td>2005</td>\n",
              "      <td>61123</td>\n",
              "      <td>4852.12</td>\n",
              "    </tr>\n",
              "    <tr>\n",
              "      <th>4</th>\n",
              "      <td>2006</td>\n",
              "      <td>93704</td>\n",
              "      <td>9340.29</td>\n",
              "    </tr>\n",
              "  </tbody>\n",
              "</table>\n",
              "</div>"
            ],
            "text/plain": [
              "    ano  unid_total  vlr_total\n",
              "0  2002       28932    1770.16\n",
              "1  2003       32916    2217.68\n",
              "2  2004       43035    3002.25\n",
              "3  2005       61123    4852.12\n",
              "4  2006       93704    9340.29"
            ]
          },
          "execution_count": 658,
          "metadata": {},
          "output_type": "execute_result"
        }
      ],
      "source": [
        "tab_fin = fin.pivot_table(index = 'ano',\n",
        "                        values = ['unid_total', 'vlr_total'],\n",
        "                        aggfunc = 'sum')\n",
        "tab_fin.reset_index(inplace=True)\n",
        "tab_fin.head()"
      ]
    },
    {
      "cell_type": "code",
      "execution_count": null,
      "id": "3e1e7dc6-d4ce-4fed-88f0-e601661dcf86",
      "metadata": {
        "tags": [],
        "id": "3e1e7dc6-d4ce-4fed-88f0-e601661dcf86"
      },
      "outputs": [],
      "source": [
        "tab_fin['ano'] = pd.to_datetime(tab_fin['ano'], format = '%Y')"
      ]
    },
    {
      "cell_type": "code",
      "execution_count": null,
      "id": "1b24dfae-a77e-4280-9552-89340710828d",
      "metadata": {
        "tags": [],
        "id": "1b24dfae-a77e-4280-9552-89340710828d",
        "outputId": "ba646326-793e-4db9-cfc5-da41c9404326"
      },
      "outputs": [
        {
          "data": {
            "text/html": [
              "<div>\n",
              "<style scoped>\n",
              "    .dataframe tbody tr th:only-of-type {\n",
              "        vertical-align: middle;\n",
              "    }\n",
              "\n",
              "    .dataframe tbody tr th {\n",
              "        vertical-align: top;\n",
              "    }\n",
              "\n",
              "    .dataframe thead th {\n",
              "        text-align: right;\n",
              "    }\n",
              "</style>\n",
              "<table border=\"1\" class=\"dataframe\">\n",
              "  <thead>\n",
              "    <tr style=\"text-align: right;\">\n",
              "      <th></th>\n",
              "      <th>ano</th>\n",
              "      <th>unid_total</th>\n",
              "      <th>vlr_total</th>\n",
              "    </tr>\n",
              "  </thead>\n",
              "  <tbody>\n",
              "    <tr>\n",
              "      <th>0</th>\n",
              "      <td>2002-01-01</td>\n",
              "      <td>28932</td>\n",
              "      <td>1770.16</td>\n",
              "    </tr>\n",
              "    <tr>\n",
              "      <th>1</th>\n",
              "      <td>2003-01-01</td>\n",
              "      <td>32916</td>\n",
              "      <td>2217.68</td>\n",
              "    </tr>\n",
              "    <tr>\n",
              "      <th>2</th>\n",
              "      <td>2004-01-01</td>\n",
              "      <td>43035</td>\n",
              "      <td>3002.25</td>\n",
              "    </tr>\n",
              "    <tr>\n",
              "      <th>3</th>\n",
              "      <td>2005-01-01</td>\n",
              "      <td>61123</td>\n",
              "      <td>4852.12</td>\n",
              "    </tr>\n",
              "    <tr>\n",
              "      <th>4</th>\n",
              "      <td>2006-01-01</td>\n",
              "      <td>93704</td>\n",
              "      <td>9340.29</td>\n",
              "    </tr>\n",
              "  </tbody>\n",
              "</table>\n",
              "</div>"
            ],
            "text/plain": [
              "         ano  unid_total  vlr_total\n",
              "0 2002-01-01       28932    1770.16\n",
              "1 2003-01-01       32916    2217.68\n",
              "2 2004-01-01       43035    3002.25\n",
              "3 2005-01-01       61123    4852.12\n",
              "4 2006-01-01       93704    9340.29"
            ]
          },
          "execution_count": 660,
          "metadata": {},
          "output_type": "execute_result"
        }
      ],
      "source": [
        "tab_fin.head()"
      ]
    },
    {
      "cell_type": "code",
      "execution_count": null,
      "id": "b6cd8689-7074-4621-8524-21d8d501c90a",
      "metadata": {
        "tags": [],
        "id": "b6cd8689-7074-4621-8524-21d8d501c90a"
      },
      "outputs": [],
      "source": [
        "tab_fin = tab_fin[tab_fin['ano'] >= '2009']"
      ]
    },
    {
      "cell_type": "code",
      "execution_count": null,
      "id": "5890c78d-6c5d-41f6-9c9c-dd504723291a",
      "metadata": {
        "tags": [],
        "id": "5890c78d-6c5d-41f6-9c9c-dd504723291a",
        "outputId": "2aca2625-0286-49fc-f9ec-078cce7ed68a"
      },
      "outputs": [
        {
          "data": {
            "image/png": "[encoded data removed]",
            "text/plain": [
              "<Figure size 700x350 with 2 Axes>"
            ]
          },
          "metadata": {},
          "output_type": "display_data"
        }
      ],
      "source": [
        "\n",
        "fig, ax1 = plt.subplots(figsize=(7, 3.5))\n",
        "\n",
        "\n",
        "colors = plt.cm.Set1(range(2))  # Adjusting to two variables\n",
        "\n",
        "\n",
        "ax1.bar(tab_fin['ano'], tab_fin['unid_total'], width=130, label='Unidades Financiadas',\n",
        "        color=colors[1], alpha=0.7)\n",
        "ax1.set_ylabel('Unidades Financiadas', color=colors[1], labelpad=10)\n",
        "ax1.tick_params(axis='y', labelcolor=colors[1])\n",
        "\n",
        "\n",
        "ax1.xaxis.set_major_formatter(mdates.DateFormatter('%Y'))\n",
        "ax1.xaxis.set_major_locator(mdates.YearLocator(base=1, month=1, day=1))\n",
        "ax1.xaxis.set_tick_params(rotation=45)\n",
        "\n",
        "ax1.yaxis.set_major_formatter(format_thousands)\n",
        "ax1.grid(which='major', axis='x', linestyle='-', alpha=0.7)  # Gridlines for x-axis\n",
        "ax1.grid(which='major', axis='y', linestyle='-', alpha=0.7)  # Gridlines for y-axis (ax1)\n",
        "\n",
        "ax1.set_xlabel('Ano')\n",
        "\n",
        "\n",
        "ax2 = ax1.twinx()\n",
        "ax2.plot(tab_fin['ano'], tab_fin['vlr_total'],  label='Valores (em R$ bilhões)',\n",
        "         color=colors[0], alpha=0.7, marker='.')\n",
        "ax2.set_ylabel('Valores (em R$ bilhões)', color=colors[0], labelpad=12)\n",
        "ax2.tick_params(axis='y', labelcolor=colors[0])\n",
        "ax2.yaxis.set_major_formatter(formatar_milhares_reais)\n",
        "\n",
        "\n",
        "ax2.grid(False)\n",
        "\n",
        "\n",
        "lines_labels = [ax1.get_legend_handles_labels(), ax2.get_legend_handles_labels()]\n",
        "lines, labels = [sum(lol, []) for lol in zip(*lines_labels)]\n",
        "fig.legend(lines, labels, bbox_to_anchor=(0.5, 0.02), loc='upper center', ncol=2)\n",
        "\n",
        "\n",
        "plt.tight_layout()\n",
        "plt.show()"
      ]
    },
    {
      "cell_type": "code",
      "execution_count": null,
      "id": "82653140-2609-4e82-98e5-90ef2de4483d",
      "metadata": {
        "tags": [],
        "id": "82653140-2609-4e82-98e5-90ef2de4483d"
      },
      "outputs": [],
      "source": [
        "output_filename = 'financiamento'\n",
        "fig.savefig(f'{output_filename}.png', dpi=300, bbox_inches='tight')"
      ]
    },
    {
      "cell_type": "code",
      "execution_count": null,
      "id": "846849dd-f2c4-451f-aa96-9153442c214b",
      "metadata": {
        "id": "846849dd-f2c4-451f-aa96-9153442c214b"
      },
      "outputs": [],
      "source": []
    },
    {
      "cell_type": "code",
      "execution_count": null,
      "id": "6853f483-ac3d-434a-a287-a03dfeafc53e",
      "metadata": {
        "id": "6853f483-ac3d-434a-a287-a03dfeafc53e"
      },
      "outputs": [],
      "source": []
    },
    {
      "cell_type": "code",
      "execution_count": null,
      "id": "51122595-b56d-4b10-84ec-a434171ea7c4",
      "metadata": {
        "id": "51122595-b56d-4b10-84ec-a434171ea7c4"
      },
      "outputs": [],
      "source": []
    }
  ],
  "metadata": {
    "kernelspec": {
      "display_name": "Python 3 (ipykernel)",
      "language": "python",
      "name": "python3"
    },
    "language_info": {
      "codemirror_mode": {
        "name": "ipython",
        "version": 3
      },
      "file_extension": ".py",
      "mimetype": "text/x-python",
      "name": "python",
      "nbconvert_exporter": "python",
      "pygments_lexer": "ipython3",
      "version": "3.9.10"
    },
    "toc-autonumbering": true,
    "colab": {
      "provenance": [],
      "toc_visible": true,
      "include_colab_link": true
    }
  },
  "nbformat": 4,
  "nbformat_minor": 5
}