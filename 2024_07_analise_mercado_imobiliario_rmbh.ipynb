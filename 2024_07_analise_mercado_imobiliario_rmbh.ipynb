{
  "cells": [
    {
      "cell_type": "markdown",
      "metadata": {
        "id": "view-in-github",
        "colab_type": "text"
      },
      "source": [
        "<a href=\"https://colab.research.google.com/github/rsnatorres/analise_dados_ramon/blob/main/2024_07_analise_mercado_imobiliario_rmbh.ipynb\" target=\"_parent\"><img src=\"https://colab.research.google.com/assets/colab-badge.svg\" alt=\"Open In Colab\"/></a>"
      ]
    },
    {
      "cell_type": "markdown",
      "id": "ace4caaf-529e-48c9-8c99-7b43928c81e7",
      "metadata": {
        "tags": [],
        "id": "ace4caaf-529e-48c9-8c99-7b43928c81e7"
      },
      "source": [
        "# Introdução"
      ]
    },
    {
      "cell_type": "code",
      "execution_count": null,
      "id": "d9305ead-360d-432f-887e-68cc8179eea0",
      "metadata": {
        "tags": [],
        "id": "d9305ead-360d-432f-887e-68cc8179eea0"
      },
      "outputs": [],
      "source": [
        "import pandas as pd\n",
        "import numpy as np\n",
        "import hashlib\n",
        "import plotly.express as px\n",
        "from unidecode import unidecode\n",
        "import matplotlib.pyplot as plt\n",
        "pd.set_option('display.max_columns', None)\n",
        "import seaborn as sns\n",
        "#from matplotlib_scalebar.scalebar import ScaleBar"
      ]
    },
    {
      "cell_type": "code",
      "execution_count": null,
      "id": "afbbae40-c106-40c8-a343-38ed872d057d",
      "metadata": {
        "tags": [],
        "id": "afbbae40-c106-40c8-a343-38ed872d057d"
      },
      "outputs": [],
      "source": [
        "path_imagens = r'D:\\OneDrive\\Academia\\0 - Artigos\\2024 - Capital Imobiliário - RMBH\\fwddadoszpbh\\graficos_ramon'\n",
        "#path_imagens = r'C:\\Users\\Lord-\\OneDrive\\Academia\\0 - Artigos\\2024 - Capital Imobiliário - RMBH\\fwddadoszpbh\\graficos_ramon'"
      ]
    },
    {
      "cell_type": "markdown",
      "id": "f5bc1b0a-176b-4dd1-894a-a35f2d7fe260",
      "metadata": {
        "id": "f5bc1b0a-176b-4dd1-894a-a35f2d7fe260"
      },
      "source": [
        "# Base de Dados"
      ]
    },
    {
      "cell_type": "code",
      "execution_count": null,
      "id": "add1594d-a96d-4cec-9e02-ba4d732d2e5c",
      "metadata": {
        "tags": [],
        "id": "add1594d-a96d-4cec-9e02-ba4d732d2e5c"
      },
      "outputs": [],
      "source": [
        "df_bh = pd.read_excel('BH.xlsx', header = 2)\n",
        "#df_bh['cidade'] = 'Belo Horizonte'\n",
        "df_betim = pd.read_excel('Betim.xlsx', header = 2)\n",
        "#df_betim['cidade'] = 'Betim'\n",
        "df_contagem = pd.read_excel('Contagem.xlsx', header = 2)\n",
        "#df_contagem['cidade'] = 'Contagem'\n",
        "df_lagoa_santa = pd.read_excel('Lagoa Santa.xlsx', header = 2)\n",
        "#df_lagoa_santa['cidade'] = 'Lagoa Santa'\n",
        "df_nova_lima = pd.read_excel('Nova Lima.xlsx', header = 2)\n",
        "#df_nova_lima['cidade'] = 'Nova Lima'\n",
        "df = pd.concat([df_bh, df_betim, df_lagoa_santa, df_nova_lima, df_contagem])\n",
        "df.reset_index(inplace=True)\n",
        "df.drop('index', axis=1, inplace=True)"
      ]
    },
    {
      "cell_type": "code",
      "execution_count": null,
      "id": "1e701e58-3569-44f9-bd49-5a0c319d443b",
      "metadata": {
        "tags": [],
        "id": "1e701e58-3569-44f9-bd49-5a0c319d443b"
      },
      "outputs": [],
      "source": [
        "ipca = pd.read_csv('ipca_mensal_bacen.csv',\n",
        "               sep=';', decimal=',', header=0, encoding='latin1')\n",
        "ipca.drop(ipca.tail(1).index, inplace=True) # dropando a fonte\n",
        "ipca.rename(columns={'Data': 'data',\n",
        "        '433 - Índice nacional de preços ao consumidor-amplo (IPCA) - Var. % mensal': 'ipca'},\n",
        "    inplace=True)\n",
        "ipca['data'] = pd.to_datetime(ipca['data'], format = '%m/%Y')\n",
        "ipca['ipca'] = pd.to_numeric(ipca['ipca'].str.replace(',','.'))/100\n",
        "# DEFINIR A DATA BASE --------------------------------------------------------\n",
        "ipca = ipca[ipca['data'] < '2024']\n",
        "# chave para depois mergiar\n",
        "ipca['mes/ano'] = ipca['data'].dt.strftime('%m/%Y')\n",
        "# preparando para utilizar cumulative product\n",
        "ipca['ipca_1'] = ipca['ipca'] + 1\n",
        "# cumulative product\n",
        "ipca['ipca_cumprod'] = ipca['ipca_1'].cumprod().round(4)\n",
        "# building the index --> para valores a preços presentes (ultima obs)\n",
        "ipca['multiplier'] = (ipca['ipca_cumprod'].iloc[-1]/ipca['ipca_cumprod']).round(2)"
      ]
    },
    {
      "cell_type": "markdown",
      "id": "0187e396-ef57-4b0e-8086-1858766836a1",
      "metadata": {
        "id": "0187e396-ef57-4b0e-8086-1858766836a1"
      },
      "source": [
        "## Variáveis:\n",
        "\n",
        "Identificadores:\n",
        "- rgi: parece ser um registro/identificador do empreendimento\n",
        "- Código no Mapa: também, mas para relacionar com o .kml\n",
        "- Empreendimento: Nome para identificar o empreendimento\n",
        "\n",
        "Essas três variáveis compõe as linhas, que parecem compor tipologias relacionadas a cada empreendimento, essa parece ser a unidade básica de observação do banco de dados"
      ]
    },
    {
      "cell_type": "code",
      "execution_count": null,
      "id": "2e46e27f-dbf2-441a-9397-dbbbf3c42403",
      "metadata": {
        "tags": [],
        "id": "2e46e27f-dbf2-441a-9397-dbbbf3c42403"
      },
      "outputs": [],
      "source": [
        "df.head(2)"
      ]
    },
    {
      "cell_type": "markdown",
      "id": "3ee262d2-a9b1-4430-b5ae-34d9edae4376",
      "metadata": {
        "id": "3ee262d2-a9b1-4430-b5ae-34d9edae4376"
      },
      "source": [
        "- Agregar comercial residencial, mas filtrar análise posterior por residencial\n",
        "- separar loteamento (fazer mapa próprio)"
      ]
    },
    {
      "cell_type": "markdown",
      "id": "9fd7242c-26b9-4df2-970b-f01ecf7a0e2c",
      "metadata": {
        "id": "9fd7242c-26b9-4df2-970b-f01ecf7a0e2c"
      },
      "source": [
        "## Transformações"
      ]
    },
    {
      "cell_type": "markdown",
      "id": "72b2f384-9e50-4bdf-8e52-afb22994aa10",
      "metadata": {
        "id": "72b2f384-9e50-4bdf-8e52-afb22994aa10"
      },
      "source": [
        "### Schema"
      ]
    },
    {
      "cell_type": "code",
      "execution_count": null,
      "id": "4485056d-475a-4aa5-9fae-55b7bab80df6",
      "metadata": {
        "id": "4485056d-475a-4aa5-9fae-55b7bab80df6"
      },
      "outputs": [],
      "source": [
        "colunas_data = ['Data Lançamento', 'Data Entrega', 'Data Ocupação',\n",
        "                'Data Projeto Aprovado', 'Data Pesquisa']\n",
        "for coluna in colunas_data:\n",
        "    df[coluna] = pd.to_datetime(df[coluna])\n",
        "df['ano_entrega'] = df['Data Entrega'].dt.year"
      ]
    },
    {
      "cell_type": "code",
      "execution_count": null,
      "id": "cce8ad37-03bd-4691-846c-b76c030d08a0",
      "metadata": {
        "tags": [],
        "id": "cce8ad37-03bd-4691-846c-b76c030d08a0"
      },
      "outputs": [],
      "source": [
        "df['mes/ano'] = df['Data Entrega'].dt.strftime('%m/%Y')"
      ]
    },
    {
      "cell_type": "code",
      "execution_count": null,
      "id": "44a6b9b1-5215-4761-893b-ccf92016cf8d",
      "metadata": {
        "id": "44a6b9b1-5215-4761-893b-ccf92016cf8d"
      },
      "outputs": [],
      "source": [
        "# possível identificador nos dados\n",
        "colunas_identificadoras = ['RGI', 'Código no Mapa', 'Empreendimento', 'Unidade']\n",
        "for coluna in colunas_identificadoras:\n",
        "    df[coluna] = df[coluna].astype(str)"
      ]
    },
    {
      "cell_type": "code",
      "execution_count": null,
      "id": "147c5cc8-b11c-4534-9738-4471ed9e84c2",
      "metadata": {
        "id": "147c5cc8-b11c-4534-9738-4471ed9e84c2"
      },
      "outputs": [],
      "source": [
        "def normalize_text(text):\n",
        "    return unidecode(text)"
      ]
    },
    {
      "cell_type": "code",
      "execution_count": null,
      "id": "01bf821d-a2c4-42f5-af26-5ff3d3ac38c7",
      "metadata": {
        "id": "01bf821d-a2c4-42f5-af26-5ff3d3ac38c7"
      },
      "outputs": [],
      "source": [
        "df.columns = df.columns.str.lower().str.replace(\n",
        "    ' ', '_').str.replace(\n",
        "    '%', 'perct').str.replace(\n",
        "    '(', '').str.replace(\n",
        "    ')', '_').str.replace(\n",
        "    'º', '')"
      ]
    },
    {
      "cell_type": "code",
      "execution_count": null,
      "id": "eab0983c-8b05-424a-88b3-cf6b8650b201",
      "metadata": {
        "id": "eab0983c-8b05-424a-88b3-cf6b8650b201"
      },
      "outputs": [],
      "source": [
        "df.columns = [normalize_text(col) for col in df.columns]"
      ]
    },
    {
      "cell_type": "code",
      "execution_count": null,
      "id": "b07d4b84-dcc2-46b2-9160-e65bdcf1514f",
      "metadata": {
        "id": "b07d4b84-dcc2-46b2-9160-e65bdcf1514f"
      },
      "outputs": [],
      "source": []
    },
    {
      "cell_type": "markdown",
      "id": "a9e03b38-9f3a-4fe3-82dc-4f500f0d994a",
      "metadata": {
        "id": "a9e03b38-9f3a-4fe3-82dc-4f500f0d994a"
      },
      "source": [
        "### Residencial X Comercial"
      ]
    },
    {
      "cell_type": "code",
      "execution_count": null,
      "id": "96aef263-d805-4118-9f4c-636fc23e051e",
      "metadata": {
        "id": "96aef263-d805-4118-9f4c-636fc23e051e"
      },
      "outputs": [],
      "source": [
        "df.pivot_table(index = ['tipologia', 'unidade'],\n",
        "               values = 'n_total_de_unidades',\n",
        "               aggfunc = 'sum')"
      ]
    },
    {
      "cell_type": "code",
      "execution_count": null,
      "id": "22f5e305-a27d-4c11-a7b2-f5bd2789ec64",
      "metadata": {
        "id": "22f5e305-a27d-4c11-a7b2-f5bd2789ec64"
      },
      "outputs": [],
      "source": [
        "conditions = [df['tipologia'] == 'Comercial',\n",
        "              df['tipologia'] == 'Comercial - Empresa',\n",
        "              df['tipologia'] == 'Comercial - Office',\n",
        "              df['tipologia'] == 'Loteamento',\n",
        "              df['tipologia'] == 'Res. Vertical',\n",
        "              df['tipologia'] == 'Res. Horizontal',\n",
        "              df['tipologia'] == 'Flat/ Hotel',\n",
        "              df['tipologia'] == 'Retrofit Residencial',\n",
        "              df['tipologia'] == 'Retrofit Flat/Hotel',\n",
        "              df['tipologia'] == 'Outros Estados']\n",
        "values = ['Comercial',\n",
        "          'Comercial',\n",
        "          'Comercial',\n",
        "          'Loteamento',\n",
        "          'Residencial',\n",
        "          'Residencial',\n",
        "          'Residencial',\n",
        "          'Residencial',\n",
        "          'Residencial',\n",
        "          'Residencial']\n",
        "df['finalidade'] = np.select(conditions, values)"
      ]
    },
    {
      "cell_type": "markdown",
      "id": "7312b9df-e2e3-46c9-897d-c65388f2bdad",
      "metadata": {
        "id": "7312b9df-e2e3-46c9-897d-c65388f2bdad"
      },
      "source": [
        "### Deflacionamento"
      ]
    },
    {
      "cell_type": "code",
      "execution_count": null,
      "id": "89a18ae1-ae3b-47ef-84cc-b0535fc63cdb",
      "metadata": {
        "tags": [],
        "id": "89a18ae1-ae3b-47ef-84cc-b0535fc63cdb"
      },
      "outputs": [],
      "source": [
        "df = df.merge(ipca[['mes/ano', 'multiplier']], on='mes/ano', how='left')\n",
        "df['vmu_preco_de_venda_da_unidade_no_lancamento_def'] = (\n",
        "    df['vmu_preco_de_venda_da_unidade_no_lancamento']*df['multiplier']\n",
        "                                          ).round(2)\n",
        "df['vgv_def'] = (\n",
        "    df['vmu_preco_de_venda_da_unidade_no_lancamento']*df['multiplier']\n",
        "                                          ).round(2)"
      ]
    },
    {
      "cell_type": "code",
      "execution_count": null,
      "id": "89a758a8-918a-4c38-a81c-91f9440ad1f2",
      "metadata": {
        "id": "89a758a8-918a-4c38-a81c-91f9440ad1f2"
      },
      "outputs": [],
      "source": [
        "df['finalidade'].value_counts(normalize=True\n",
        ")"
      ]
    },
    {
      "cell_type": "code",
      "execution_count": null,
      "id": "660a8a44-0e97-47c2-8ba7-82268d8079f1",
      "metadata": {
        "id": "660a8a44-0e97-47c2-8ba7-82268d8079f1"
      },
      "outputs": [],
      "source": []
    },
    {
      "cell_type": "code",
      "execution_count": null,
      "id": "4e611690-1d76-4670-82a9-9aa295f3339a",
      "metadata": {
        "id": "4e611690-1d76-4670-82a9-9aa295f3339a"
      },
      "outputs": [],
      "source": []
    },
    {
      "cell_type": "markdown",
      "id": "bb244670-baa8-4602-b953-ce583071af9c",
      "metadata": {
        "id": "bb244670-baa8-4602-b953-ce583071af9c"
      },
      "source": [
        "## unidades (tipos)"
      ]
    },
    {
      "cell_type": "code",
      "execution_count": null,
      "id": "3219aea3-a393-4fc0-bd22-f407a6f4dd71",
      "metadata": {
        "id": "3219aea3-a393-4fc0-bd22-f407a6f4dd71"
      },
      "outputs": [],
      "source": [
        "df.loc[df['unidade'] == 'COB DUPLEX', 'unidade'] = 'COBERTURA'\n",
        "df.loc[df['unidade'] == 'COB TRIPLEX', 'unidade'] = 'COBERTURA'\n",
        "df.loc[df['unidade'] == 'PENTHOUSE', 'unidade'] = 'COBERTURA'\n",
        "df.loc[df['unidade'] == 'LOFT DUPLEX', 'unidade'] = 'DUPLEX'\n",
        "df.loc[df['unidade'] == 'SUPERIOR', 'unidade'] = 'OUTROS'\n",
        "df.loc[df['unidade'] == 'TRIPLEX', 'unidade'] = 'OUTROS'\n",
        "df.loc[df['unidade'] == '5 DORMS', 'unidade'] = 'OUTROS'\n",
        "df.loc[df['unidade'] == 'MAISON', 'unidade'] = 'OUTROS'\n",
        "df.loc[df['unidade'] == 'TERRACE', 'unidade'] = 'OUTROS'\n",
        "df.loc[df['unidade'] == 'nan', 'unidade'] = 'OUTROS'\n",
        "df.loc[df['unidade'] == 'SOBRADO', 'unidade'] = 'OUTROS'\n",
        "df.loc[df['unidade'] == 'STUDIO', 'unidade'] = 'OUTROS'"
      ]
    },
    {
      "cell_type": "code",
      "execution_count": null,
      "id": "368b16c1-acac-495b-9f68-109a4988b7ff",
      "metadata": {
        "id": "368b16c1-acac-495b-9f68-109a4988b7ff"
      },
      "outputs": [],
      "source": []
    },
    {
      "cell_type": "markdown",
      "id": "c2071900-ba69-46a1-a754-b9270a68ccbe",
      "metadata": {
        "id": "c2071900-ba69-46a1-a754-b9270a68ccbe"
      },
      "source": [
        "### Hash"
      ]
    },
    {
      "cell_type": "code",
      "execution_count": null,
      "id": "78016b39-930a-4372-94bc-0424e15be107",
      "metadata": {
        "id": "78016b39-930a-4372-94bc-0424e15be107"
      },
      "outputs": [],
      "source": [
        "len(df), df['rgi'].nunique(), df['codigo_no_mapa'].nunique() # rgi é registro do empreendimento?\n",
        "# se estivermos corretos, então nem todos os rgis foram espacializados no Mapa"
      ]
    },
    {
      "cell_type": "code",
      "execution_count": null,
      "id": "b248dffd-add0-41bd-abf3-5e154e009956",
      "metadata": {
        "id": "b248dffd-add0-41bd-abf3-5e154e009956"
      },
      "outputs": [],
      "source": [
        "colunas_unicas_p_cada_linha = ['rgi', 'unidade', 'area_privativa',\n",
        "                               'vmu_preco_de_venda_da_unidade_no_lancamento']"
      ]
    },
    {
      "cell_type": "code",
      "execution_count": null,
      "id": "4caabd29-3d83-4228-8a4d-20e338a3c84f",
      "metadata": {
        "id": "4caabd29-3d83-4228-8a4d-20e338a3c84f"
      },
      "outputs": [],
      "source": [
        "df[colunas_unicas_p_cada_linha].head(2)"
      ]
    },
    {
      "cell_type": "code",
      "execution_count": null,
      "id": "571a92fa-63e6-480b-a63f-850c37e4738c",
      "metadata": {
        "id": "571a92fa-63e6-480b-a63f-850c37e4738c"
      },
      "outputs": [],
      "source": [
        "df['raw_hash'] = (df['rgi'].astype(str)  +\n",
        "                  df['unidade'].astype(str)\n",
        "                  + df['area_privativa'].astype(str)\n",
        "                  + df['vmu_preco_de_venda_da_unidade_no_lancamento'].astype(str) )"
      ]
    },
    {
      "cell_type": "code",
      "execution_count": null,
      "id": "3bafea22-bc82-407e-a8d3-f63c38870518",
      "metadata": {
        "id": "3bafea22-bc82-407e-a8d3-f63c38870518"
      },
      "outputs": [],
      "source": [
        "def create_hash(value):\n",
        "    hash_object = hashlib.sha256()  # a better algorithm, also demands more mem\n",
        "    hash_object.update(value.encode('utf-8'))\n",
        "    return hash_object.hexdigest()"
      ]
    },
    {
      "cell_type": "code",
      "execution_count": null,
      "id": "7c3c3ee3-7f56-4361-8b0f-22ae85bdcbc6",
      "metadata": {
        "id": "7c3c3ee3-7f56-4361-8b0f-22ae85bdcbc6"
      },
      "outputs": [],
      "source": [
        "# creating the hash\n",
        "df['hash'] = df['raw_hash'].apply(create_hash)"
      ]
    },
    {
      "cell_type": "code",
      "execution_count": null,
      "id": "0e55d4eb-410e-41fd-8cff-9ba5a52d3cdd",
      "metadata": {
        "scrolled": true,
        "id": "0e55d4eb-410e-41fd-8cff-9ba5a52d3cdd"
      },
      "outputs": [],
      "source": [
        "df['hash'].nunique(), len(df) # ok, sem hash collisions"
      ]
    },
    {
      "cell_type": "code",
      "execution_count": null,
      "id": "9bdbf68c-df37-4b43-8b6e-93d6cea893c0",
      "metadata": {
        "id": "9bdbf68c-df37-4b43-8b6e-93d6cea893c0"
      },
      "outputs": [],
      "source": []
    },
    {
      "cell_type": "markdown",
      "id": "64979987-9f38-49c5-a488-9cb6f9d1bd23",
      "metadata": {
        "id": "64979987-9f38-49c5-a488-9cb6f9d1bd23"
      },
      "source": [
        "## Filtro"
      ]
    },
    {
      "cell_type": "code",
      "execution_count": null,
      "id": "fc207ec7-9d57-4594-a5d4-d9a4de824d66",
      "metadata": {
        "id": "fc207ec7-9d57-4594-a5d4-d9a4de824d66"
      },
      "outputs": [],
      "source": [
        "df.head(2)"
      ]
    },
    {
      "cell_type": "code",
      "execution_count": null,
      "id": "ac3e0636-3eb2-452f-ae22-4083818e63ab",
      "metadata": {
        "id": "ac3e0636-3eb2-452f-ae22-4083818e63ab"
      },
      "outputs": [],
      "source": [
        "df = df[['rgi', 'codigo_no_mapa', 'empreendimento', 'endereco', 'bairro',\n",
        "           'cidade', 'data_lancamento', 'data_entrega', 'mes/ano','classificacao_do_tipo',\n",
        "           'incorporadora_1', 'construtora_1', 'vendedora_1', 'banco', 'unidade',\n",
        "           'area_privativa', 'n_total_de_unidades', 'n_de_pavimentos',\n",
        "           'vmu_preco_de_venda_da_unidade_no_lancamento', 'vmu_preco_de_venda_da_unidade_no_lancamento_def',\n",
        "           'vuv_preco_m2_privativo_no_lancamento', 'vgv', 'vgv_def', 'hash', 'ano_entrega',\n",
        "           'finalidade', 'tipologia']]"
      ]
    },
    {
      "cell_type": "code",
      "execution_count": null,
      "id": "7216e49c-1b39-4047-9215-f2d16b57b3b5",
      "metadata": {
        "id": "7216e49c-1b39-4047-9215-f2d16b57b3b5"
      },
      "outputs": [],
      "source": [
        "df['ano_entrega'].value_counts()"
      ]
    },
    {
      "cell_type": "code",
      "execution_count": null,
      "id": "6c673691-c3da-488c-8c5a-996a90545d16",
      "metadata": {
        "id": "6c673691-c3da-488c-8c5a-996a90545d16"
      },
      "outputs": [],
      "source": [
        "len(df)"
      ]
    },
    {
      "cell_type": "code",
      "execution_count": null,
      "id": "bd141dd7-c00c-4cf2-a6fe-fbab7327b9ad",
      "metadata": {
        "id": "bd141dd7-c00c-4cf2-a6fe-fbab7327b9ad"
      },
      "outputs": [],
      "source": [
        "df = df.query(\"ano_entrega >= 2010 & ano_entrega <= 2023\")"
      ]
    },
    {
      "cell_type": "code",
      "execution_count": null,
      "id": "68cb5555-863c-4de7-8301-1a4c71fc83c7",
      "metadata": {
        "id": "68cb5555-863c-4de7-8301-1a4c71fc83c7"
      },
      "outputs": [],
      "source": [
        "len(df)"
      ]
    },
    {
      "cell_type": "code",
      "execution_count": null,
      "id": "7d775843-4c20-4d5d-a363-8a9393cf4a1c",
      "metadata": {
        "id": "7d775843-4c20-4d5d-a363-8a9393cf4a1c"
      },
      "outputs": [],
      "source": []
    },
    {
      "cell_type": "markdown",
      "id": "09d513ff-ec0b-4dcb-96d9-9e7ee16c1947",
      "metadata": {
        "id": "09d513ff-ec0b-4dcb-96d9-9e7ee16c1947"
      },
      "source": [
        "## Checks"
      ]
    },
    {
      "cell_type": "code",
      "execution_count": null,
      "id": "8c0a5020-1d16-4d4f-bbb5-56ec985b16b1",
      "metadata": {
        "id": "8c0a5020-1d16-4d4f-bbb5-56ec985b16b1"
      },
      "outputs": [],
      "source": [
        "df['vgv_check'] = df['n_total_de_unidades'] * df['vmu_preco_de_venda_da_unidade_no_lancamento']"
      ]
    },
    {
      "cell_type": "code",
      "execution_count": null,
      "id": "9d2b1f6a-9932-488e-bf4c-3bbe9cbed9a7",
      "metadata": {
        "id": "9d2b1f6a-9932-488e-bf4c-3bbe9cbed9a7"
      },
      "outputs": [],
      "source": [
        "(df['vgv_check'] - df['vgv']).value_counts()"
      ]
    },
    {
      "cell_type": "code",
      "execution_count": null,
      "id": "ed803ed2-ac3c-40b6-9691-96fb5bae887d",
      "metadata": {
        "id": "ed803ed2-ac3c-40b6-9691-96fb5bae887d"
      },
      "outputs": [],
      "source": []
    },
    {
      "cell_type": "code",
      "execution_count": null,
      "id": "53d8a902-b13e-40b7-9f30-8f58e5a56de9",
      "metadata": {
        "id": "53d8a902-b13e-40b7-9f30-8f58e5a56de9"
      },
      "outputs": [],
      "source": [
        "#df.to_csv('base_pronta.csv', index=False)"
      ]
    },
    {
      "cell_type": "code",
      "execution_count": null,
      "id": "c8083d42-319e-41e4-adc9-f11a4e429672",
      "metadata": {
        "id": "c8083d42-319e-41e4-adc9-f11a4e429672"
      },
      "outputs": [],
      "source": []
    },
    {
      "cell_type": "markdown",
      "id": "bf63260c-7122-4a5b-84b8-9868c1f11589",
      "metadata": {
        "id": "bf63260c-7122-4a5b-84b8-9868c1f11589"
      },
      "source": [
        "# Análise dos dados"
      ]
    },
    {
      "cell_type": "code",
      "execution_count": null,
      "id": "0af0ea8d-752e-409c-b3a5-5aad8c82a050",
      "metadata": {
        "id": "0af0ea8d-752e-409c-b3a5-5aad8c82a050"
      },
      "outputs": [],
      "source": [
        "df.head(2)"
      ]
    },
    {
      "cell_type": "code",
      "execution_count": null,
      "id": "42b6bf48-b104-4e12-a83b-3a32b7660fe8",
      "metadata": {
        "tags": [],
        "id": "42b6bf48-b104-4e12-a83b-3a32b7660fe8"
      },
      "outputs": [],
      "source": [
        "len(df)"
      ]
    },
    {
      "cell_type": "markdown",
      "id": "bc1491b5-4998-4996-a21e-bf7e94dc315d",
      "metadata": {
        "id": "bc1491b5-4998-4996-a21e-bf7e94dc315d"
      },
      "source": [
        "## Finalidade"
      ]
    },
    {
      "cell_type": "code",
      "execution_count": null,
      "id": "698f7c19-03e8-4231-8558-c6557e3d5bca",
      "metadata": {
        "id": "698f7c19-03e8-4231-8558-c6557e3d5bca"
      },
      "outputs": [],
      "source": [
        "tab_finalidade_ano = df.pivot_table(index=['ano_entrega', 'finalidade'],\n",
        "                                    values = 'n_total_de_unidades',\n",
        "                                    aggfunc = 'sum')\n",
        "tab_finalidade_ano.reset_index(inplace=True)\n",
        "tab_finalidade_ano.head(2)"
      ]
    },
    {
      "cell_type": "code",
      "execution_count": null,
      "id": "77d4ee81-e168-469f-b502-8987401e7d78",
      "metadata": {
        "tags": [],
        "id": "77d4ee81-e168-469f-b502-8987401e7d78"
      },
      "outputs": [],
      "source": [
        "tab_finalidade = tab_finalidade_ano.pivot_table(index='finalidade',\n",
        "                                           values = 'n_total_de_unidades',\n",
        "                                           aggfunc = 'sum').reset_index()\n",
        "tab_finalidade"
      ]
    },
    {
      "cell_type": "code",
      "execution_count": null,
      "id": "aedae3a8-442c-450a-bee8-a9ea093c132a",
      "metadata": {
        "tags": [],
        "id": "aedae3a8-442c-450a-bee8-a9ea093c132a"
      },
      "outputs": [],
      "source": [
        "tab_finalidade['proporcao'] = tab_finalidade['n_total_de_unidades'].apply(\n",
        "    lambda x: x/tab_finalidade['n_total_de_unidades'].sum())"
      ]
    },
    {
      "cell_type": "code",
      "execution_count": null,
      "id": "b504f3af-8785-4b65-b362-88ac03311d5c",
      "metadata": {
        "tags": [],
        "id": "b504f3af-8785-4b65-b362-88ac03311d5c"
      },
      "outputs": [],
      "source": [
        "tab_finalidade"
      ]
    },
    {
      "cell_type": "code",
      "execution_count": null,
      "id": "c6c7e21b-6971-4ee2-b882-9d34c73af27a",
      "metadata": {
        "tags": [],
        "id": "c6c7e21b-6971-4ee2-b882-9d34c73af27a"
      },
      "outputs": [],
      "source": [
        "tab_finalidade['n_total_de_unidades'].sum()"
      ]
    },
    {
      "cell_type": "code",
      "execution_count": null,
      "id": "6a9ff389-3eda-4902-8ce8-2833ac1eb14f",
      "metadata": {
        "id": "6a9ff389-3eda-4902-8ce8-2833ac1eb14f"
      },
      "outputs": [],
      "source": []
    },
    {
      "cell_type": "code",
      "execution_count": null,
      "id": "9fb93286-91fd-4f20-b880-f7a4954c1961",
      "metadata": {
        "id": "9fb93286-91fd-4f20-b880-f7a4954c1961"
      },
      "outputs": [],
      "source": [
        "fig = px.bar(tab_finalidade_ano,\n",
        "               x = 'ano_entrega',\n",
        "               y = 'n_total_de_unidades',\n",
        "               color = 'finalidade',\n",
        "               barmode = 'group')\n",
        "# Update x-axis to show all tick labels\n",
        "fig.update_xaxes(tickangle=-45, tickmode='linear')"
      ]
    },
    {
      "cell_type": "code",
      "execution_count": null,
      "id": "4c0a19c8-8b81-4e98-a0cc-080cddace6d3",
      "metadata": {
        "tags": [],
        "id": "4c0a19c8-8b81-4e98-a0cc-080cddace6d3"
      },
      "outputs": [],
      "source": [
        "#fig.write_image(fr\"{path_imagens}\\finalidade_por_ano.png\")"
      ]
    },
    {
      "cell_type": "code",
      "execution_count": null,
      "id": "a69a6877-169e-48e5-a5b0-a475c546d747",
      "metadata": {
        "tags": [],
        "id": "a69a6877-169e-48e5-a5b0-a475c546d747"
      },
      "outputs": [],
      "source": [
        "tab_unidades = df.pivot_table(index='finalidade',\n",
        "                values = 'n_total_de_unidades',\n",
        "                aggfunc = 'sum')\n",
        "tab_unidades.reset_index(inplace=True)\n",
        "tab_unidades['perct_unidades'] = round(tab_unidades['n_total_de_unidades']/tab_unidades['n_total_de_unidades'].sum(), 4)"
      ]
    },
    {
      "cell_type": "code",
      "execution_count": null,
      "id": "40cff4dd-e896-4dc6-900f-b4145413b1b7",
      "metadata": {
        "tags": [],
        "id": "40cff4dd-e896-4dc6-900f-b4145413b1b7"
      },
      "outputs": [],
      "source": [
        "tab_unidades"
      ]
    },
    {
      "cell_type": "code",
      "execution_count": null,
      "id": "0131ae44-29c1-49b6-87d1-29289d222e27",
      "metadata": {
        "id": "0131ae44-29c1-49b6-87d1-29289d222e27"
      },
      "outputs": [],
      "source": []
    },
    {
      "cell_type": "markdown",
      "id": "ff70687e-cfcd-4f60-9124-5d55da3bf8c8",
      "metadata": {
        "id": "ff70687e-cfcd-4f60-9124-5d55da3bf8c8"
      },
      "source": [
        "Empreendimentos"
      ]
    },
    {
      "cell_type": "code",
      "execution_count": null,
      "id": "f5f6d2ab-1a2e-4611-b359-1f83481f5766",
      "metadata": {
        "tags": [],
        "id": "f5f6d2ab-1a2e-4611-b359-1f83481f5766"
      },
      "outputs": [],
      "source": [
        "df.head(3)"
      ]
    },
    {
      "cell_type": "code",
      "execution_count": null,
      "id": "cedec831-37fc-449f-b6c6-24a723444925",
      "metadata": {
        "tags": [],
        "id": "cedec831-37fc-449f-b6c6-24a723444925"
      },
      "outputs": [],
      "source": [
        "df['rgi'].nunique()"
      ]
    },
    {
      "cell_type": "code",
      "execution_count": null,
      "id": "88e5e27c-ca71-4398-ba77-50eb4b5ae222",
      "metadata": {
        "tags": [],
        "id": "88e5e27c-ca71-4398-ba77-50eb4b5ae222"
      },
      "outputs": [],
      "source": [
        "df2 = df[['rgi', 'finalidade']].copy()"
      ]
    },
    {
      "cell_type": "code",
      "execution_count": null,
      "id": "722c467e-768c-49fd-a98c-c1063c98e452",
      "metadata": {
        "tags": [],
        "id": "722c467e-768c-49fd-a98c-c1063c98e452"
      },
      "outputs": [],
      "source": [
        "df2 = df2.drop_duplicates(subset='rgi')"
      ]
    },
    {
      "cell_type": "code",
      "execution_count": null,
      "id": "12a68696-2c1a-4124-8cea-6e6fe3350531",
      "metadata": {
        "tags": [],
        "id": "12a68696-2c1a-4124-8cea-6e6fe3350531"
      },
      "outputs": [],
      "source": [
        "tab_finalidade_empreendimento = df2.pivot_table(index='finalidade',\n",
        "                                               values = 'rgi',\n",
        "                                               aggfunc='count').reset_index()\n",
        "tab_finalidade_empreendimento"
      ]
    },
    {
      "cell_type": "code",
      "execution_count": null,
      "id": "9f57e8f1-e3d0-4a62-b3de-92f9d0639671",
      "metadata": {
        "tags": [],
        "id": "9f57e8f1-e3d0-4a62-b3de-92f9d0639671"
      },
      "outputs": [],
      "source": [
        "tab_finalidade_empreendimento['proporcao'] = tab_finalidade_empreendimento['rgi'].apply(\n",
        "    lambda x: x/tab_finalidade_empreendimento['rgi'].sum())"
      ]
    },
    {
      "cell_type": "code",
      "execution_count": null,
      "id": "6bfb04be-15b2-4a8a-af44-e463d024b1b9",
      "metadata": {
        "tags": [],
        "id": "6bfb04be-15b2-4a8a-af44-e463d024b1b9"
      },
      "outputs": [],
      "source": [
        "tab_finalidade_empreendimento"
      ]
    },
    {
      "cell_type": "code",
      "execution_count": null,
      "id": "53cee799-8cb0-4f45-b364-dbe79e348fe7",
      "metadata": {
        "tags": [],
        "id": "53cee799-8cb0-4f45-b364-dbe79e348fe7"
      },
      "outputs": [],
      "source": [
        "tab_finalidade_empreendimento['rgi'].sum()"
      ]
    },
    {
      "cell_type": "code",
      "execution_count": null,
      "id": "3f3da50e-3537-4161-8a73-fa00a2981e79",
      "metadata": {
        "id": "3f3da50e-3537-4161-8a73-fa00a2981e79"
      },
      "outputs": [],
      "source": []
    },
    {
      "cell_type": "code",
      "execution_count": null,
      "id": "a7180214-b240-41b1-810d-78c571359d41",
      "metadata": {
        "id": "a7180214-b240-41b1-810d-78c571359d41"
      },
      "outputs": [],
      "source": []
    },
    {
      "cell_type": "markdown",
      "id": "0f83c957-7db0-4547-933c-762782a6c2fa",
      "metadata": {
        "id": "0f83c957-7db0-4547-933c-762782a6c2fa"
      },
      "source": [
        "# MatplotLib Style"
      ]
    },
    {
      "cell_type": "code",
      "execution_count": null,
      "id": "b68cfac9-8b75-4edb-a4d1-5179aba545f4",
      "metadata": {
        "tags": [],
        "id": "b68cfac9-8b75-4edb-a4d1-5179aba545f4"
      },
      "outputs": [],
      "source": [
        "import matplotlib.pyplot as plt\n",
        "import matplotlib.dates as mdates # Para alterar datas no eixo\n",
        "from matplotlib.dates import DateFormatter # Para alterar o formato da data\n",
        "from matplotlib.ticker import FuncFormatter"
      ]
    },
    {
      "cell_type": "code",
      "execution_count": null,
      "id": "3f514d56-8f6f-463c-b242-636aef9d2d9b",
      "metadata": {
        "tags": [],
        "id": "3f514d56-8f6f-463c-b242-636aef9d2d9b"
      },
      "outputs": [],
      "source": [
        "# Funções para alterar a forma de exposição dos valores no gráfico\n",
        "def currency_eixo(x, pos):\n",
        "    \"\"\"The two args are the value and tick position\"\"\"\n",
        "    if x >= 1e6:\n",
        "        s = 'R${:4.0f}'.format(x*1e-3) # {:<width>.<prec><type>}\n",
        "    else:\n",
        "        s = 'R${:4.0f}'.format(x*1e-3)\n",
        "    return s\n",
        "def porcentagem_eixo(x, pos):\n",
        "    s = '{:4.0f}%'.format(x)\n",
        "    return s\n",
        "# ou aplicar diretamente: lambda x, pos: '{:4.0f}%'.format(x)\n",
        "def formatar_reais(x, pos):\n",
        "    s = 'R$ {:,.0f}'.format(x).replace(',', '.')\n",
        "    return s\n",
        "def formatar_reais_e_centavos(x):\n",
        "    s = 'R$ {:,.2f}'.format(x).replace(',', 'X').replace('.', ',').replace('X', '.')\n",
        "    return s\n",
        "def formatar_milhares(x, pos):\n",
        "    s = '{:4.0f}'.format(x*1e-3)\n",
        "    return s\n",
        "def formatar_bilhoes(x, pos):\n",
        "    s = '{:4.2f}B'.format(x*1e-9)\n",
        "    return s\n",
        "def formatar_ano(x, pos):\n",
        "    return '{:4.0f}'.format(x)\n",
        "def format_thousands(x, pos):\n",
        "    return '{:,.0f}'.format(x).replace(',', '.')"
      ]
    },
    {
      "cell_type": "code",
      "execution_count": null,
      "id": "b14d4766-060a-4357-afab-b8b5eba5552f",
      "metadata": {
        "tags": [],
        "id": "b14d4766-060a-4357-afab-b8b5eba5552f"
      },
      "outputs": [],
      "source": [
        "print(plt.style.available)\n",
        "plt.style.use('seaborn-v0_8') # ggplot também é bom\n",
        "#plt.style.use('ggplot')\n",
        "#plt.style.use('bmh')\n",
        "#plt.style.use('seaborn')"
      ]
    },
    {
      "cell_type": "code",
      "execution_count": null,
      "id": "e3c2752e-ddb7-4d85-98d3-e8a7fd8c2aca",
      "metadata": {
        "tags": [],
        "id": "e3c2752e-ddb7-4d85-98d3-e8a7fd8c2aca"
      },
      "outputs": [],
      "source": [
        "plt.rc('figure', figsize=(6,3), titlesize=15)\n",
        "plt.rc('lines', linewidth=2)\n",
        "plt.rc('axes', labelsize=8, titlesize=8, titleweight='bold', titley=1.05, labelpad=6) # vai mudar do x e do y\n",
        "plt.rc('xtick', labelsize=8)\n",
        "plt.rc('ytick', labelsize=8)\n",
        "plt.rc('legend', loc='lower center', fontsize=8, frameon=True, framealpha=0.8)\n",
        "colors = plt.colormaps.get_cmap('Set1') # bom para qualitativo\n",
        "plt.colormaps.get_cmap('Set1') # melhor porque distingue melhor as primeiras cores"
      ]
    },
    {
      "cell_type": "code",
      "execution_count": null,
      "id": "4a52ed39-d733-49b2-a315-df5998c15f7f",
      "metadata": {
        "tags": [],
        "id": "4a52ed39-d733-49b2-a315-df5998c15f7f"
      },
      "outputs": [],
      "source": [
        "tab_finalidade_ano.loc[tab_finalidade_ano['finalidade'] == 'Comercial', 'finalidade'] = 'Unidades Comerciais'\n",
        "tab_finalidade_ano.loc[tab_finalidade_ano['finalidade'] == 'Residencial', 'finalidade'] = 'Unidades Residenciais'\n",
        "tab_finalidade_ano.loc[tab_finalidade_ano['finalidade'] == 'Loteamento', 'finalidade'] = 'Lotes'"
      ]
    },
    {
      "cell_type": "code",
      "execution_count": null,
      "id": "f432fe48-de6c-40e4-9fb6-4ad9a13ed644",
      "metadata": {
        "tags": [],
        "id": "f432fe48-de6c-40e4-9fb6-4ad9a13ed644"
      },
      "outputs": [],
      "source": [
        "fig, ax = plt.subplots()\n",
        "\n",
        "finalidades = tab_finalidade_ano['finalidade'].unique()\n",
        "colors = plt.colormaps.get_cmap('Set1')\n",
        "\n",
        "#patterns = ['xxx', 'ooo', '...', '\\\\', '.', 'x']  # List of patterns to use\n",
        "#for i, (finalidade, pattern) in enumerate(zip(finalidades, patterns)):\n",
        "for i, finalidade in enumerate(finalidades):\n",
        "    subset = tab_finalidade_ano[tab_finalidade_ano['finalidade'] == finalidade]\n",
        "    ax.bar(subset['ano_entrega'] + i*0.25, # i*width\n",
        "           subset['n_total_de_unidades'],\n",
        "           width=0.25, label=finalidade, color=colors(i), alpha=0.7, #hatch=pattern\n",
        "          )\n",
        "# ticks\n",
        "ax.xaxis.set_major_formatter(FuncFormatter(formatar_ano))\n",
        "#ax.set_xticks(tab_finalidade_ano['ano_entrega'].dropna().unique() + 0.2 * (len(finalidades) - 1) / 2)\n",
        "ax.set_xticks(tab_finalidade_ano['ano_entrega'].unique())\n",
        "ax.xaxis.set_tick_params(rotation=45)\n",
        "ax.yaxis.set_major_formatter(FuncFormatter(format_thousands))\n",
        "# #labels\n",
        "#ax.set_title('Número de Unidades Lançadas por Finalidade', loc='center')\n",
        "# #legend\n",
        "leg = ax.legend(bbox_to_anchor=(0.5, -0.28),\n",
        "                ncol=len(finalidades))\n",
        "leg.get_frame().set_edgecolor('black')\n",
        "leg.get_frame().set_linewidth(0.4)\n",
        "ax.set_ylabel('Total de Unidades Lançadas') #ax.set_xlabel('Ano de Entrega')\n",
        "\n",
        "plt.show()"
      ]
    },
    {
      "cell_type": "code",
      "execution_count": null,
      "id": "e40f87a7-32e9-40f1-bc86-7cd12aebc5df",
      "metadata": {
        "id": "e40f87a7-32e9-40f1-bc86-7cd12aebc5df"
      },
      "outputs": [],
      "source": [
        "fig.savefig(fr\"{path_imagens}\\finalidade_por_ano(matplotlib).png\",\n",
        "            dpi=200,  bbox_inches=\"tight\")"
      ]
    },
    {
      "cell_type": "code",
      "execution_count": null,
      "id": "035db9ba-e42b-496f-96e0-5a0695bba365",
      "metadata": {
        "id": "035db9ba-e42b-496f-96e0-5a0695bba365"
      },
      "outputs": [],
      "source": []
    },
    {
      "cell_type": "markdown",
      "id": "03cc4de4-e77b-4efb-be7c-7a24c94044a3",
      "metadata": {
        "id": "03cc4de4-e77b-4efb-be7c-7a24c94044a3"
      },
      "source": [
        "# Mercado Residencial\n"
      ]
    },
    {
      "cell_type": "markdown",
      "id": "94a98c3a-bc09-428e-88a0-20544c817a16",
      "metadata": {
        "id": "94a98c3a-bc09-428e-88a0-20544c817a16"
      },
      "source": [
        "## Filtro"
      ]
    },
    {
      "cell_type": "code",
      "execution_count": null,
      "id": "a8d693c1-53dd-41a8-9079-d34ecdd35888",
      "metadata": {
        "id": "a8d693c1-53dd-41a8-9079-d34ecdd35888"
      },
      "outputs": [],
      "source": [
        "df = df.query(\"finalidade == 'Residencial'\")"
      ]
    },
    {
      "cell_type": "code",
      "execution_count": null,
      "id": "6252de22-f856-42e3-b9d6-0d9bf4ccbd05",
      "metadata": {
        "id": "6252de22-f856-42e3-b9d6-0d9bf4ccbd05"
      },
      "outputs": [],
      "source": [
        "len(df)"
      ]
    },
    {
      "cell_type": "code",
      "execution_count": null,
      "id": "3cda2a47-1c66-43e1-8d7e-da681900d591",
      "metadata": {
        "id": "3cda2a47-1c66-43e1-8d7e-da681900d591"
      },
      "outputs": [],
      "source": [
        "df = df[df['n_total_de_unidades'].notnull()]"
      ]
    },
    {
      "cell_type": "code",
      "execution_count": null,
      "id": "b8beacfa-1027-4be4-86e2-4ad797cd31c7",
      "metadata": {
        "id": "b8beacfa-1027-4be4-86e2-4ad797cd31c7"
      },
      "outputs": [],
      "source": [
        "df = df[df['n_total_de_unidades']!=0]"
      ]
    },
    {
      "cell_type": "code",
      "execution_count": null,
      "id": "08b8d599-3deb-487b-901c-106ee0624d26",
      "metadata": {
        "tags": [],
        "id": "08b8d599-3deb-487b-901c-106ee0624d26"
      },
      "outputs": [],
      "source": [
        "len(df)"
      ]
    },
    {
      "cell_type": "code",
      "execution_count": null,
      "id": "5b4575a5-d206-499a-b8be-a192388630dc",
      "metadata": {
        "tags": [],
        "id": "5b4575a5-d206-499a-b8be-a192388630dc"
      },
      "outputs": [],
      "source": [
        "df['rgi'].nunique()"
      ]
    },
    {
      "cell_type": "markdown",
      "id": "d5e0d1de-5461-418d-be06-9f6dac350a9c",
      "metadata": {
        "id": "d5e0d1de-5461-418d-be06-9f6dac350a9c"
      },
      "source": [
        "## Explodir Dataframe"
      ]
    },
    {
      "cell_type": "code",
      "execution_count": null,
      "id": "6ca5d710-4fa6-4c6d-9ed6-28e4c7559420",
      "metadata": {
        "id": "6ca5d710-4fa6-4c6d-9ed6-28e4c7559420"
      },
      "outputs": [],
      "source": [
        "repeated_idx = df.index.repeat(df['n_total_de_unidades'])\n",
        "df_explode = df.loc[repeated_idx].reset_index(drop=True)"
      ]
    },
    {
      "cell_type": "code",
      "execution_count": null,
      "id": "a4d0282b-5b6c-4d05-999a-324e2b49bea3",
      "metadata": {
        "id": "a4d0282b-5b6c-4d05-999a-324e2b49bea3"
      },
      "outputs": [],
      "source": [
        "len(df_explode)"
      ]
    },
    {
      "cell_type": "code",
      "execution_count": null,
      "id": "e5862c65-5a4c-4687-b50c-0c1249cba495",
      "metadata": {
        "id": "e5862c65-5a4c-4687-b50c-0c1249cba495"
      },
      "outputs": [],
      "source": [
        "df_explode.info()"
      ]
    },
    {
      "cell_type": "code",
      "execution_count": null,
      "id": "1f928bb7-68aa-4983-a260-a976d1d25e76",
      "metadata": {
        "id": "1f928bb7-68aa-4983-a260-a976d1d25e76"
      },
      "outputs": [],
      "source": [
        "df['rgi'].nunique()"
      ]
    },
    {
      "cell_type": "code",
      "execution_count": null,
      "id": "9ec9c3d1-f443-403b-97fe-237dd09ca773",
      "metadata": {
        "id": "9ec9c3d1-f443-403b-97fe-237dd09ca773"
      },
      "outputs": [],
      "source": []
    },
    {
      "cell_type": "markdown",
      "id": "bf4aeeed-752d-413a-b56a-fcd82053dc56",
      "metadata": {
        "id": "bf4aeeed-752d-413a-b56a-fcd82053dc56"
      },
      "source": [
        "## Tipos"
      ]
    },
    {
      "cell_type": "code",
      "execution_count": null,
      "id": "d9b843ba-198f-47b1-a5eb-bfb91aeca9c0",
      "metadata": {
        "scrolled": true,
        "id": "d9b843ba-198f-47b1-a5eb-bfb91aeca9c0"
      },
      "outputs": [],
      "source": [
        "tab_unidades = df.pivot_table(index= 'unidade',\n",
        "                              values = 'n_total_de_unidades',\n",
        "                              aggfunc = 'sum')\n",
        "tab_unidades.reset_index(inplace=True)\n",
        "tab_unidades['percent'] = (\n",
        "        tab_unidades['n_total_de_unidades'] / tab_unidades['n_total_de_unidades'].sum())\n",
        "tab_unidades.sort_values(by='percent', inplace=True, ascending=False)\n",
        "tab_unidades.head(10)"
      ]
    },
    {
      "cell_type": "code",
      "execution_count": null,
      "id": "eec51429-0262-4214-833e-77bf20749c0e",
      "metadata": {
        "id": "eec51429-0262-4214-833e-77bf20749c0e"
      },
      "outputs": [],
      "source": [
        "tab_unidades.to_excel(fr'{path_imagens}\\tipos_de_unidades.xlsx', index=False)"
      ]
    },
    {
      "cell_type": "code",
      "execution_count": null,
      "id": "b08c89e7-6651-4861-8497-bc4c796c9fa3",
      "metadata": {
        "id": "b08c89e7-6651-4861-8497-bc4c796c9fa3"
      },
      "outputs": [],
      "source": []
    },
    {
      "cell_type": "markdown",
      "id": "736494c0-2098-4e91-8109-633f63700e00",
      "metadata": {
        "id": "736494c0-2098-4e91-8109-633f63700e00"
      },
      "source": [
        "## Padrão\n",
        "Mostrar a distribuição dos tipos ao longo do tempo"
      ]
    },
    {
      "cell_type": "code",
      "execution_count": null,
      "id": "d2744081-0dfe-4ea5-a00f-35c74c8dea67",
      "metadata": {
        "id": "d2744081-0dfe-4ea5-a00f-35c74c8dea67"
      },
      "outputs": [],
      "source": [
        "df['classificacao_do_tipo'].value_counts()"
      ]
    },
    {
      "cell_type": "code",
      "execution_count": null,
      "id": "3a83219c-1b41-429d-baff-003cadf6e497",
      "metadata": {
        "id": "3a83219c-1b41-429d-baff-003cadf6e497"
      },
      "outputs": [],
      "source": [
        "tab_unidades = df.pivot_table(index= ['ano_entrega', 'classificacao_do_tipo'],\n",
        "                              values = 'n_total_de_unidades',\n",
        "                              aggfunc = 'sum')\n",
        "tab_unidades.reset_index(inplace=True)\n",
        "tab_unidades['perct'] = tab_unidades.groupby(\n",
        "    'ano_entrega')['n_total_de_unidades'].apply(lambda x: 100 * x / x.sum()).values\n",
        "\n",
        "tab_unidades.head(5)"
      ]
    },
    {
      "cell_type": "code",
      "execution_count": null,
      "id": "f2f96cfd-5ac9-4a5a-9a99-f642a92ae2de",
      "metadata": {
        "id": "f2f96cfd-5ac9-4a5a-9a99-f642a92ae2de"
      },
      "outputs": [],
      "source": [
        "category_orders = {'classificacao_do_tipo':\n",
        "                         ['ECONÔMICO', 'MÉDIO BAIXO', 'MÉDIO', 'MÉDIO ALTO', 'ALTO']}"
      ]
    },
    {
      "cell_type": "code",
      "execution_count": null,
      "id": "c65ef072-6414-4972-b1a2-5ec3808e8056",
      "metadata": {
        "id": "c65ef072-6414-4972-b1a2-5ec3808e8056"
      },
      "outputs": [],
      "source": [
        "fig = px.bar(tab_unidades,\n",
        "               x = 'ano_entrega',\n",
        "               y = 'n_total_de_unidades',\n",
        "               color = 'classificacao_do_tipo',\n",
        "              barmode = 'stack',\n",
        "              category_orders = category_orders)\n",
        "fig"
      ]
    },
    {
      "cell_type": "code",
      "execution_count": null,
      "id": "a7386fe1-0042-4680-a1ca-c2d0834ac428",
      "metadata": {
        "id": "a7386fe1-0042-4680-a1ca-c2d0834ac428"
      },
      "outputs": [],
      "source": [
        "#fig.write_image(fr\"{path_imagens}\\padrao_por_ano_ABSOLUTO.png\")"
      ]
    },
    {
      "cell_type": "markdown",
      "id": "b559e049-fde7-4a1f-a1a4-c46adc72d62e",
      "metadata": {
        "id": "b559e049-fde7-4a1f-a1a4-c46adc72d62e"
      },
      "source": [
        "Matplotlib"
      ]
    },
    {
      "cell_type": "code",
      "execution_count": null,
      "id": "734cd8ff-94af-4474-9d81-4de0e85db347",
      "metadata": {
        "tags": [],
        "id": "734cd8ff-94af-4474-9d81-4de0e85db347"
      },
      "outputs": [],
      "source": [
        "tab_unidades['classificacao_do_tipo'] = pd.Categorical(tab_unidades['classificacao_do_tipo'],\n",
        "                                                       categories=category_orders['classificacao_do_tipo'],\n",
        "                                                       ordered=True)\n",
        "tab_unidades = tab_unidades.sort_values(by=['ano_entrega', 'classificacao_do_tipo'])"
      ]
    },
    {
      "cell_type": "code",
      "execution_count": null,
      "id": "84cc8220-8a3e-4596-b318-6bb19e4a6419",
      "metadata": {
        "tags": [],
        "id": "84cc8220-8a3e-4596-b318-6bb19e4a6419"
      },
      "outputs": [],
      "source": [
        "fig, ax = plt.subplots()\n",
        "\n",
        "years = tab_unidades['ano_entrega'].unique()\n",
        "categories = tab_unidades['classificacao_do_tipo'].unique()\n",
        "\n",
        "bottom = pd.Series([0]*len(years), index=years)\n",
        "colors = plt.colormaps.get_cmap('Set1')\n",
        "for i, cat in enumerate(categories):\n",
        "    data = tab_unidades[tab_unidades['classificacao_do_tipo'] == cat]\n",
        "    ax.bar(data['ano_entrega'],\n",
        "           data['n_total_de_unidades'],\n",
        "           bottom=bottom[data['ano_entrega']],\n",
        "           label=cat,\n",
        "           color=colors(i),\n",
        "           alpha=0.7)\n",
        "    bottom[data['ano_entrega']] += data['n_total_de_unidades'].values\n",
        "# ticks\n",
        "ax.xaxis.set_major_formatter(FuncFormatter(formatar_ano))\n",
        "ax.set_xticks(tab_unidades['ano_entrega'].unique())\n",
        "ax.xaxis.set_tick_params(rotation=45)\n",
        "ax.yaxis.set_major_formatter(FuncFormatter(format_thousands))\n",
        "# #labels\n",
        "#ax.set_title('Número de Unidades Lançadas por Segmento Econômico', loc='center')\n",
        "# #legend\n",
        "leg = ax.legend(bbox_to_anchor=(0.5, -0.35),\n",
        "                ncol=len(categories))\n",
        "leg.get_frame().set_edgecolor('black')\n",
        "leg.get_frame().set_linewidth(0.4)\n",
        "\n",
        "ax.set_ylabel('Total de Unidades Lançadas') #ax.set_xlabel('Ano de Entrega')\n",
        "plt.show()"
      ]
    },
    {
      "cell_type": "code",
      "execution_count": null,
      "id": "8391efa1-2e29-4ed3-9cd4-56fc20f3662b",
      "metadata": {
        "tags": [],
        "id": "8391efa1-2e29-4ed3-9cd4-56fc20f3662b"
      },
      "outputs": [],
      "source": [
        "fig.savefig(fr\"{path_imagens}\\padrao_por_ano_ABSOLUTO(matplotlib).png\",\n",
        "            dpi=200,  bbox_inches=\"tight\")"
      ]
    },
    {
      "cell_type": "code",
      "execution_count": null,
      "id": "eb0bfef4-160d-4c52-93f3-50a9c9713ce7",
      "metadata": {
        "id": "eb0bfef4-160d-4c52-93f3-50a9c9713ce7"
      },
      "outputs": [],
      "source": []
    },
    {
      "cell_type": "code",
      "execution_count": null,
      "id": "b7307284-c770-4c15-b729-cf7e6dd6adfc",
      "metadata": {
        "scrolled": true,
        "tags": [],
        "id": "b7307284-c770-4c15-b729-cf7e6dd6adfc"
      },
      "outputs": [],
      "source": [
        "fig = px.bar(tab_unidades,\n",
        "               x = 'ano_entrega',\n",
        "               y = 'perct',\n",
        "               color = 'classificacao_do_tipo',\n",
        "              barmode = 'stack',\n",
        "              category_orders = category_orders)\n",
        "fig"
      ]
    },
    {
      "cell_type": "code",
      "execution_count": null,
      "id": "c4d16a92-ff09-4c3a-a746-3e5af02ed1d7",
      "metadata": {
        "tags": [],
        "id": "c4d16a92-ff09-4c3a-a746-3e5af02ed1d7"
      },
      "outputs": [],
      "source": [
        "fig.write_image(fr\"{path_imagens}\\padrao_por_ano_RELATIVO.png\")"
      ]
    },
    {
      "cell_type": "code",
      "execution_count": null,
      "id": "b61654c4-fe71-49f5-b384-c8f425b6acd6",
      "metadata": {
        "id": "b61654c4-fe71-49f5-b384-c8f425b6acd6"
      },
      "outputs": [],
      "source": []
    },
    {
      "cell_type": "markdown",
      "id": "c5005441-6564-47c7-b2fa-2510875a18f4",
      "metadata": {
        "id": "c5005441-6564-47c7-b2fa-2510875a18f4"
      },
      "source": [
        "## Quantidades"
      ]
    },
    {
      "cell_type": "code",
      "execution_count": null,
      "id": "73af7e25-33e9-4b3d-8e02-8570b92eda58",
      "metadata": {
        "tags": [],
        "id": "73af7e25-33e9-4b3d-8e02-8570b92eda58"
      },
      "outputs": [],
      "source": [
        "tab_qtdd_unidades = df.pivot_table(index=['ano_entrega', 'cidade'],\n",
        "                                   values= 'n_total_de_unidades',\n",
        "                                   aggfunc='sum')\n",
        "tab_qtdd_unidades.reset_index(inplace=True)\n",
        "tab_qtdd_unidades['perct'] = tab_qtdd_unidades.groupby(\n",
        "    'ano_entrega')['n_total_de_unidades'].apply(lambda x: 100 * x / x.sum()).values\n",
        "\n",
        "tab_qtdd_unidades.head(5)"
      ]
    },
    {
      "cell_type": "markdown",
      "id": "a1c02599-b53c-44af-9c27-ed22877e91fe",
      "metadata": {
        "id": "a1c02599-b53c-44af-9c27-ed22877e91fe"
      },
      "source": [
        "Matplotlib"
      ]
    },
    {
      "cell_type": "code",
      "execution_count": null,
      "id": "3954a3b2-c156-49c5-a619-c9522105aa9b",
      "metadata": {
        "tags": [],
        "id": "3954a3b2-c156-49c5-a619-c9522105aa9b"
      },
      "outputs": [],
      "source": [
        "category_orders = {'cidade': ['BELO HORIZONTE', 'CONTAGEM', 'BETIM', 'NOVA LIMA', 'LAGOA SANTA']}\n",
        "tab_qtdd_unidades['classificacao_do_tipo'] = pd.Categorical(tab_qtdd_unidades['cidade'],\n",
        "                                                       categories=category_orders['cidade'],\n",
        "                                                       ordered=True)\n",
        "tab_qtdd_unidades = tab_qtdd_unidades.sort_values(by=['ano_entrega', 'cidade'])"
      ]
    },
    {
      "cell_type": "code",
      "execution_count": null,
      "id": "9fb84723-0ee6-461d-bef6-f185e1ed92d0",
      "metadata": {
        "id": "9fb84723-0ee6-461d-bef6-f185e1ed92d0"
      },
      "outputs": [],
      "source": []
    },
    {
      "cell_type": "code",
      "execution_count": null,
      "id": "5de23ee3-f99b-48c2-8927-6c93bb657054",
      "metadata": {
        "tags": [],
        "id": "5de23ee3-f99b-48c2-8927-6c93bb657054"
      },
      "outputs": [],
      "source": [
        "fig, ax = plt.subplots()\n",
        "\n",
        "years = tab_qtdd_unidades['ano_entrega'].unique()\n",
        "categories = category_orders['cidade']\n",
        "\n",
        "bottom = pd.Series([0]*len(years), index=years)\n",
        "colors = plt.colormaps.get_cmap('Set1')\n",
        "for i, cat in enumerate(categories):\n",
        "    data = tab_qtdd_unidades[tab_qtdd_unidades['cidade'] == cat]\n",
        "    ax.bar(data['ano_entrega'],\n",
        "           data['n_total_de_unidades'],\n",
        "           bottom=bottom[data['ano_entrega']],\n",
        "           label=cat,\n",
        "           color=colors(i),\n",
        "           alpha=0.7)\n",
        "    bottom[data['ano_entrega']] += data['n_total_de_unidades'].values\n",
        "# ticks\n",
        "ax.xaxis.set_major_formatter(FuncFormatter(formatar_ano))\n",
        "ax.set_xticks(tab_qtdd_unidades['ano_entrega'].unique())\n",
        "ax.xaxis.set_tick_params(rotation=45)\n",
        "ax.yaxis.set_major_formatter(FuncFormatter(format_thousands))\n",
        "# #labels\n",
        "#ax.set_title('Número de Unidades Lançadas por Cidade', loc='center')\n",
        "# #legend\n",
        "leg = ax.legend(bbox_to_anchor=(0.5, -0.35),\n",
        "                ncol=len(finalidades))\n",
        "leg.get_frame().set_edgecolor('black')\n",
        "leg.get_frame().set_linewidth(0.4)\n",
        "\n",
        "ax.set_ylabel('Total de Unidades Lançadas') #ax.set_xlabel('Ano de Entrega')\n",
        "plt.show()"
      ]
    },
    {
      "cell_type": "code",
      "execution_count": null,
      "id": "29c7ee50-100a-4486-99fe-4702ac008c7e",
      "metadata": {
        "tags": [],
        "id": "29c7ee50-100a-4486-99fe-4702ac008c7e"
      },
      "outputs": [],
      "source": [
        "fig.savefig(fr\"{path_imagens}\\padrao_por_cidade_ABSOLUTO(matplotlib).png\",\n",
        "            dpi=200,  bbox_inches=\"tight\")"
      ]
    },
    {
      "cell_type": "markdown",
      "id": "77f70e8c-b9c9-46f5-9516-7bf6bcba9278",
      "metadata": {
        "id": "77f70e8c-b9c9-46f5-9516-7bf6bcba9278"
      },
      "source": [
        "Plotly"
      ]
    },
    {
      "cell_type": "code",
      "execution_count": null,
      "id": "b86439a8-93cc-4977-b12b-9d968029d3dd",
      "metadata": {
        "tags": [],
        "id": "b86439a8-93cc-4977-b12b-9d968029d3dd"
      },
      "outputs": [],
      "source": [
        "fig = px.bar(tab_qtdd_unidades,\n",
        "               x = 'ano_entrega',\n",
        "               y = 'n_total_de_unidades',\n",
        "               color = 'cidade',\n",
        "              barmode = 'stack',\n",
        "              category_orders = category_orders)\n",
        "fig"
      ]
    },
    {
      "cell_type": "code",
      "execution_count": null,
      "id": "86e24f9c-e1b3-4071-97d5-b219ca273fcd",
      "metadata": {
        "tags": [],
        "id": "86e24f9c-e1b3-4071-97d5-b219ca273fcd"
      },
      "outputs": [],
      "source": [
        "fig.write_image(fr\"{path_imagens}\\qtdd_unidades_por_ano_e_cidade.png\")"
      ]
    },
    {
      "cell_type": "code",
      "execution_count": null,
      "id": "a879e52c-bb52-4ada-96a9-700755e04a3f",
      "metadata": {
        "tags": [],
        "id": "a879e52c-bb52-4ada-96a9-700755e04a3f"
      },
      "outputs": [],
      "source": [
        "df['n_total_de_unidades'].sum()"
      ]
    },
    {
      "cell_type": "code",
      "execution_count": null,
      "id": "f96351d7-1b27-4e3c-b760-a1582f64c49d",
      "metadata": {
        "id": "f96351d7-1b27-4e3c-b760-a1582f64c49d"
      },
      "outputs": [],
      "source": []
    },
    {
      "cell_type": "markdown",
      "id": "9ac748e3-76ae-43b0-8e03-5b2a29f923db",
      "metadata": {
        "id": "9ac748e3-76ae-43b0-8e03-5b2a29f923db"
      },
      "source": [
        "## Preço"
      ]
    },
    {
      "cell_type": "code",
      "execution_count": null,
      "id": "624ec5f0-356c-45db-825f-2ba88b4aa785",
      "metadata": {
        "tags": [],
        "id": "624ec5f0-356c-45db-825f-2ba88b4aa785"
      },
      "outputs": [],
      "source": [
        "len(df)"
      ]
    },
    {
      "cell_type": "code",
      "execution_count": null,
      "id": "e175865a-0744-4df5-8b8d-be23b4804811",
      "metadata": {
        "tags": [],
        "id": "e175865a-0744-4df5-8b8d-be23b4804811"
      },
      "outputs": [],
      "source": [
        "len(df_explode)"
      ]
    },
    {
      "cell_type": "code",
      "execution_count": null,
      "id": "3732bb06-a7f0-43ce-a626-241d69b57c92",
      "metadata": {
        "tags": [],
        "id": "3732bb06-a7f0-43ce-a626-241d69b57c92"
      },
      "outputs": [],
      "source": [
        "df_explode['vuv_preco_m2_privativo_no_lancamento_def'] = (\n",
        "    df_explode['vmu_preco_de_venda_da_unidade_no_lancamento_def'] /\n",
        "    df_explode['area_privativa'])"
      ]
    },
    {
      "cell_type": "code",
      "execution_count": null,
      "id": "71f58497-9571-47db-96f2-ea1ddb5d4d03",
      "metadata": {
        "tags": [],
        "id": "71f58497-9571-47db-96f2-ea1ddb5d4d03"
      },
      "outputs": [],
      "source": [
        "df_explode.head(5)"
      ]
    },
    {
      "cell_type": "code",
      "execution_count": null,
      "id": "e26c6fee-ac11-4693-b8a9-d3ccf74231fa",
      "metadata": {
        "id": "e26c6fee-ac11-4693-b8a9-d3ccf74231fa"
      },
      "outputs": [],
      "source": []
    },
    {
      "cell_type": "code",
      "execution_count": null,
      "id": "d235446e-e742-4f3b-a603-132e39496a21",
      "metadata": {
        "id": "d235446e-e742-4f3b-a603-132e39496a21"
      },
      "outputs": [],
      "source": []
    },
    {
      "cell_type": "code",
      "execution_count": null,
      "id": "71cfd263-dc6e-418b-a58f-2744d322d8ec",
      "metadata": {
        "tags": [],
        "id": "71cfd263-dc6e-418b-a58f-2744d322d8ec"
      },
      "outputs": [],
      "source": [
        "df_explode['area_privativa'].describe()"
      ]
    },
    {
      "cell_type": "code",
      "execution_count": null,
      "id": "0fba1ef8-809c-45ef-a608-7e093f504f8c",
      "metadata": {
        "tags": [],
        "id": "0fba1ef8-809c-45ef-a608-7e093f504f8c"
      },
      "outputs": [],
      "source": [
        "media = round(df_explode['vuv_preco_m2_privativo_no_lancamento_def'].mean(), 2)\n",
        "mediana = round(df_explode['vuv_preco_m2_privativo_no_lancamento_def'].median(), 2)\n",
        "\n",
        "\n",
        "fig = px.histogram(df_explode,\n",
        "             x = ['vuv_preco_m2_privativo_no_lancamento_def'],\n",
        "             nbins=100)\n",
        "fig.add_vline(x = media,\n",
        "              line=dict(color=\"red\", width=3, dash=\"dashdot\"))\n",
        "fig.add_vline(x=mediana,\n",
        "              line=dict(color=\"green\", width=3, dash=\"dashdot\"))\n",
        "\n",
        "fig.add_annotation(#y=fig.data[0].y.max(),\n",
        "    x=media, text=f\"media = {media}\", showarrow=True, arrowhead=1, ax=20, ay=-80)\n",
        "fig.add_annotation(#y=fig.data[0].y.max(),\n",
        "    x=mediana, text=f\"mediana = {mediana}\", showarrow=True, arrowhead=1, ax=-20, ay=-50)\n",
        "\n",
        "\n",
        "fig.update_yaxes(title_text='Nº de Unidades')\n",
        "fig.update_xaxes(title_text='Preço m² - Área Privativa')"
      ]
    },
    {
      "cell_type": "code",
      "execution_count": null,
      "id": "3f72ee1b-f81a-4a1e-b40d-e2e71deda72e",
      "metadata": {
        "tags": [],
        "id": "3f72ee1b-f81a-4a1e-b40d-e2e71deda72e"
      },
      "outputs": [],
      "source": [
        "fig.write_image(fr\"{path_imagens}\\histograma_preco_m2.png\")"
      ]
    },
    {
      "cell_type": "markdown",
      "id": "120908d0-8dac-4ab3-bc70-27a701c37f48",
      "metadata": {
        "id": "120908d0-8dac-4ab3-bc70-27a701c37f48"
      },
      "source": [
        "Matplotlib"
      ]
    },
    {
      "cell_type": "code",
      "execution_count": null,
      "id": "e7e5460d-a12e-423d-a007-4bbcee3fb407",
      "metadata": {
        "tags": [],
        "id": "e7e5460d-a12e-423d-a007-4bbcee3fb407"
      },
      "outputs": [],
      "source": [
        "colors"
      ]
    },
    {
      "cell_type": "code",
      "execution_count": null,
      "id": "77deff9c-542d-46a7-bc0b-e4dd7f3f16bf",
      "metadata": {
        "tags": [],
        "id": "77deff9c-542d-46a7-bc0b-e4dd7f3f16bf"
      },
      "outputs": [],
      "source": [
        "alpha = 0.7\n",
        "\n",
        "media = round(df_explode['vuv_preco_m2_privativo_no_lancamento_def'].mean(), 2)\n",
        "mediana = round(df_explode['vuv_preco_m2_privativo_no_lancamento_def'].median(), 2)\n",
        "\n",
        "\n",
        "fig, ax = plt.subplots()\n",
        "\n",
        "\n",
        "ax.hist(df_explode['vuv_preco_m2_privativo_no_lancamento_def'],\n",
        "        bins=70,\n",
        "        alpha=alpha,\n",
        "        edgecolor='black',\n",
        "        color = colors(1))\n",
        "\n",
        "\n",
        "ax.axvline(media, color='red', linestyle='dashdot', linewidth=1.5, alpha=alpha)\n",
        "ax.axvline(mediana, color='green', linestyle='dashdot', linewidth=1.5,alpha=alpha)\n",
        "\n",
        "ax.annotate(f'média = {formatar_reais_e_centavos(media)}', xy=(media, ax.get_ylim()[1]/2), xytext=(20, -20),\n",
        "            textcoords='offset points', arrowprops=dict(arrowstyle=\"->\", lw=0.8),\n",
        "           fontsize=9, color = colors(0))\n",
        "ax.annotate(f'mediana = {formatar_reais_e_centavos(mediana)}', xy=(mediana, ax.get_ylim()[1]*0.9), xytext=(20, -50),\n",
        "            textcoords='offset points', arrowprops=dict(arrowstyle=\"->\", lw=0.8),\n",
        "           fontsize=9, color = colors(2))\n",
        "\n",
        "\n",
        "ax.set_xlabel('Preço m² real')\n",
        "ax.set_ylabel('Total de Unidades Lançadas')\n",
        "# ticks\n",
        "ax.xaxis.set_major_formatter(FuncFormatter(formatar_reais))\n",
        "ax.yaxis.set_major_formatter(FuncFormatter(format_thousands))\n",
        "\n",
        "ax.tick_params(axis='x', direction='out',\n",
        "               which='major', length=5, color='gray')\n",
        "# #labels\n",
        "#ax.set_title('Distribuição do preço deflacionado do m² \\n ano-base: 2023', loc='center')\n",
        "\n",
        "plt.show()"
      ]
    },
    {
      "cell_type": "code",
      "execution_count": null,
      "id": "1be1fa1e-1230-4e8b-b637-146e26f569e2",
      "metadata": {
        "tags": [],
        "id": "1be1fa1e-1230-4e8b-b637-146e26f569e2"
      },
      "outputs": [],
      "source": [
        "fig.savefig(fr\"{path_imagens}\\histograma_preco_m2_def(matplotlib).png\",\n",
        "            dpi=200,  bbox_inches=\"tight\")"
      ]
    },
    {
      "cell_type": "markdown",
      "id": "b92007ea-9748-4f26-bd2c-866b8ebcfd13",
      "metadata": {
        "id": "b92007ea-9748-4f26-bd2c-866b8ebcfd13"
      },
      "source": [
        "Preço por cidade"
      ]
    },
    {
      "cell_type": "code",
      "execution_count": null,
      "id": "b4da80e4-d559-4ea8-8219-052d74fea587",
      "metadata": {
        "tags": [],
        "id": "b4da80e4-d559-4ea8-8219-052d74fea587"
      },
      "outputs": [],
      "source": [
        "tab_preco = df_explode.pivot_table(index= ['ano_entrega', 'cidade'],\n",
        "                                   values = 'vuv_preco_m2_privativo_no_lancamento_def',\n",
        "                                   aggfunc = ['mean', 'median'])\n",
        "tab_preco.reset_index(inplace=True)\n",
        "tab_preco.head(3)"
      ]
    },
    {
      "cell_type": "code",
      "execution_count": null,
      "id": "5f6e07b0-44f4-47d5-a355-f702dbea2069",
      "metadata": {
        "tags": [],
        "id": "5f6e07b0-44f4-47d5-a355-f702dbea2069"
      },
      "outputs": [],
      "source": [
        "tab_preco.columns = ['ano_entrega', 'cidade', 'MEDIA_preco_m2', 'MEDIANA_preco_m2']"
      ]
    },
    {
      "cell_type": "code",
      "execution_count": null,
      "id": "ebcde0a3-739e-446e-877c-bad2c4208dcc",
      "metadata": {
        "tags": [],
        "id": "ebcde0a3-739e-446e-877c-bad2c4208dcc"
      },
      "outputs": [],
      "source": [
        "fig = px.line(tab_preco,\n",
        "                x='ano_entrega',\n",
        "                y = 'MEDIA_preco_m2',\n",
        "                color = 'cidade')\n",
        "\n",
        "fig.update_xaxes(title_text='Ano')\n",
        "fig.update_yaxes(title_text='Média Preço m² - Área Privativa')"
      ]
    },
    {
      "cell_type": "code",
      "execution_count": null,
      "id": "de27cf60-37b9-4ab2-94d4-6b7123428769",
      "metadata": {
        "id": "de27cf60-37b9-4ab2-94d4-6b7123428769"
      },
      "outputs": [],
      "source": [
        "fig.write_image(fr\"{path_imagens}\\media_preco_m2.png\")"
      ]
    },
    {
      "cell_type": "code",
      "execution_count": null,
      "id": "00ac0c99-f34a-4e05-b4fd-919cc5cd067d",
      "metadata": {
        "id": "00ac0c99-f34a-4e05-b4fd-919cc5cd067d"
      },
      "outputs": [],
      "source": [
        "fig = px.line(tab_preco,\n",
        "                x='ano_entrega',\n",
        "                y = 'MEDIANA_preco_m2',\n",
        "                color = 'cidade')\n",
        "fig.update_xaxes(title_text='Ano')\n",
        "fig.update_yaxes(title_text='Mediana Preço m² - Área Privativa')"
      ]
    },
    {
      "cell_type": "code",
      "execution_count": null,
      "id": "7b977111-2c84-4d52-abc3-ed4b24cd0c59",
      "metadata": {
        "id": "7b977111-2c84-4d52-abc3-ed4b24cd0c59"
      },
      "outputs": [],
      "source": [
        "fig.write_image(fr\"{path_imagens}\\mediana_preco_m2.png\")"
      ]
    },
    {
      "cell_type": "markdown",
      "id": "688fa31b-79c1-4c0b-bab3-ad2f64eee005",
      "metadata": {
        "id": "688fa31b-79c1-4c0b-bab3-ad2f64eee005"
      },
      "source": [
        "Matplotlib"
      ]
    },
    {
      "cell_type": "code",
      "execution_count": null,
      "id": "31ab9606-5b91-4926-bed5-8f0867318e87",
      "metadata": {
        "tags": [],
        "id": "31ab9606-5b91-4926-bed5-8f0867318e87"
      },
      "outputs": [],
      "source": [
        "fig, ax = plt.subplots()\n",
        "\n",
        "colors = plt.colormaps.get_cmap('Set1')\n",
        "\n",
        "for i, city in enumerate(tab_preco['cidade'].unique()):\n",
        "    city_data = tab_preco[tab_preco['cidade'] == city]\n",
        "    ax.plot(city_data['ano_entrega'], city_data['MEDIA_preco_m2'],\n",
        "            label=city, color = colors(i), alpha=alpha, marker = '.')\n",
        "\n",
        "# ticks\n",
        "ax.xaxis.set_major_formatter(FuncFormatter(formatar_ano))\n",
        "ax.set_xticks(tab_preco['ano_entrega'].unique())\n",
        "ax.xaxis.set_tick_params(rotation=45)\n",
        "ax.yaxis.set_major_formatter(FuncFormatter(formatar_reais))\n",
        "# #labels\n",
        "#ax.set_title('Evolução da média do preço do m² deflacionado por cidade \\n ano-base: 2023', loc='center')\n",
        "# #legend\n",
        "leg = ax.legend(bbox_to_anchor=(0.5, -0.35),\n",
        "                ncol=3)\n",
        "leg.get_frame().set_edgecolor('black')\n",
        "leg.get_frame().set_linewidth(0.4)\n",
        "\n",
        "ax.set_ylabel('Preço real do m²') #ax.set_xlabel('Ano de Entrega')\n",
        "\n",
        "plt.show()"
      ]
    },
    {
      "cell_type": "code",
      "execution_count": null,
      "id": "34fc4c9a-f6f6-4272-b5ba-687a576d3c2e",
      "metadata": {
        "tags": [],
        "id": "34fc4c9a-f6f6-4272-b5ba-687a576d3c2e"
      },
      "outputs": [],
      "source": [
        "fig.savefig(fr\"{path_imagens}\\evolucao_media_preco_m2(matplotlib).png\",\n",
        "            dpi=200,  bbox_inches=\"tight\")"
      ]
    },
    {
      "cell_type": "code",
      "execution_count": null,
      "id": "903b5c5b-1f3c-4b0f-b615-ef2cfa87a8aa",
      "metadata": {
        "id": "903b5c5b-1f3c-4b0f-b615-ef2cfa87a8aa"
      },
      "outputs": [],
      "source": [
        "fig, ax = plt.subplots()\n",
        "\n",
        "colors = plt.colormaps.get_cmap('Set1')\n",
        "\n",
        "for i, city in enumerate(tab_preco['cidade'].unique()):\n",
        "    city_data = tab_preco[tab_preco['cidade'] == city]\n",
        "    ax.plot(city_data['ano_entrega'], city_data['MEDIANA_preco_m2'],\n",
        "            label=city, color = colors(i), alpha=alpha, marker = '.')\n",
        "\n",
        "# ticks\n",
        "ax.xaxis.set_major_formatter(FuncFormatter(formatar_ano))\n",
        "ax.set_xticks(tab_preco['ano_entrega'].unique())\n",
        "ax.xaxis.set_tick_params(rotation=45)\n",
        "ax.yaxis.set_major_formatter(FuncFormatter(formatar_reais))\n",
        "# #labels\n",
        "#ax.set_title('Evolução da mediana preço do m² deflacionado por cidade \\n ano-base: 2023', loc='center')\n",
        "# #legend\n",
        "leg = ax.legend(bbox_to_anchor=(0.5, -0.35),\n",
        "                ncol=3)\n",
        "leg.get_frame().set_edgecolor('black')\n",
        "leg.get_frame().set_linewidth(0.4)\n",
        "\n",
        "ax.set_ylabel('Preço real do m²') #ax.set_xlabel('Ano de Entrega')\n",
        "\n",
        "plt.show()"
      ]
    },
    {
      "cell_type": "code",
      "execution_count": null,
      "id": "2483406b-7e96-4d2c-9eb3-18ef83edc60c",
      "metadata": {
        "id": "2483406b-7e96-4d2c-9eb3-18ef83edc60c"
      },
      "outputs": [],
      "source": [
        "fig.savefig(fr\"{path_imagens}\\evolucao_mediana_preco_m2(matplotlib).png\",\n",
        "            dpi=200,  bbox_inches=\"tight\")"
      ]
    },
    {
      "cell_type": "code",
      "execution_count": null,
      "id": "ddee28a7-cc84-40a0-95fe-ab0997654833",
      "metadata": {
        "id": "ddee28a7-cc84-40a0-95fe-ab0997654833"
      },
      "outputs": [],
      "source": []
    },
    {
      "cell_type": "markdown",
      "id": "7c9de3b3-3d3b-44f5-875a-ddcf1ec5e3a6",
      "metadata": {
        "id": "7c9de3b3-3d3b-44f5-875a-ddcf1ec5e3a6"
      },
      "source": [
        "## VGV"
      ]
    },
    {
      "cell_type": "code",
      "execution_count": null,
      "id": "1eb9bdfa-1d46-4870-a8df-37b0e63e68c2",
      "metadata": {
        "tags": [],
        "id": "1eb9bdfa-1d46-4870-a8df-37b0e63e68c2"
      },
      "outputs": [],
      "source": [
        "df['vgv_def'] = (df['vmu_preco_de_venda_da_unidade_no_lancamento_def']*df['n_total_de_unidades'])"
      ]
    },
    {
      "cell_type": "code",
      "execution_count": null,
      "id": "4b2a9b94-0c35-4716-9d03-20f61532b9b4",
      "metadata": {
        "id": "4b2a9b94-0c35-4716-9d03-20f61532b9b4"
      },
      "outputs": [],
      "source": [
        "tab_vgv = df.pivot_table(index = ['ano_entrega', 'cidade'],\n",
        "                       values = 'vgv_def',\n",
        "                       aggfunc = 'sum')\n",
        "tab_vgv.reset_index(inplace=True)\n",
        "tab_vgv.head(3)"
      ]
    },
    {
      "cell_type": "code",
      "execution_count": null,
      "id": "6138ba74-5bf3-4245-9aae-8dc932626130",
      "metadata": {
        "tags": [],
        "id": "6138ba74-5bf3-4245-9aae-8dc932626130"
      },
      "outputs": [],
      "source": [
        "category_orders = {'cidade': ['BELO HORIZONTE', 'CONTAGEM', 'BETIM', 'NOVA LIMA', 'LAGOA SANTA']}"
      ]
    },
    {
      "cell_type": "code",
      "execution_count": null,
      "id": "cc2430f4-e7c2-4679-a76c-37e81e822456",
      "metadata": {
        "id": "cc2430f4-e7c2-4679-a76c-37e81e822456"
      },
      "outputs": [],
      "source": [
        "fig = px.bar(tab_vgv,\n",
        "               x = 'ano_entrega',\n",
        "               y = 'vgv_def',\n",
        "               color = 'cidade',\n",
        "              barmode = 'stack',\n",
        "              category_orders = category_orders)\n",
        "fig"
      ]
    },
    {
      "cell_type": "code",
      "execution_count": null,
      "id": "a2d25e5c-9ac0-42e5-b09e-36e87daadb2b",
      "metadata": {
        "id": "a2d25e5c-9ac0-42e5-b09e-36e87daadb2b"
      },
      "outputs": [],
      "source": [
        "fig.write_image(fr\"{path_imagens}\\vgv_por_ano_e_cidade.png\")"
      ]
    },
    {
      "cell_type": "markdown",
      "id": "b035239a-029d-4cf1-8011-c5d6551f8cf0",
      "metadata": {
        "id": "b035239a-029d-4cf1-8011-c5d6551f8cf0"
      },
      "source": [
        "Matplotlib"
      ]
    },
    {
      "cell_type": "code",
      "execution_count": null,
      "id": "84dbc70b-6bbc-43a2-88e2-397b55b40cf8",
      "metadata": {
        "tags": [],
        "id": "84dbc70b-6bbc-43a2-88e2-397b55b40cf8"
      },
      "outputs": [],
      "source": [
        "def formatar_bilhoes(x, pos):\n",
        "    s = '{:.0f} B'.format(x*1e-9)\n",
        "    return s\n",
        "\n",
        "fig, ax = plt.subplots()\n",
        "\n",
        "years = tab_vgv['ano_entrega'].unique()\n",
        "categories = category_orders['cidade']\n",
        "\n",
        "bottom = pd.Series([0]*len(years), index=years)\n",
        "colors = plt.colormaps.get_cmap('Set1')\n",
        "for i, cat in enumerate(categories):\n",
        "    data = tab_vgv[tab_vgv['cidade'] == cat]\n",
        "    ax.bar(data['ano_entrega'],\n",
        "           data['vgv_def'],\n",
        "           bottom=bottom[data['ano_entrega']],\n",
        "           label=cat,\n",
        "           color=colors(i),\n",
        "           alpha=0.7)\n",
        "    bottom[data['ano_entrega']] += data['vgv_def'].values\n",
        "# ticks\n",
        "ax.xaxis.set_major_formatter(FuncFormatter(formatar_ano))\n",
        "ax.set_xticks(tab_qtdd_unidades['ano_entrega'].unique())\n",
        "ax.xaxis.set_tick_params(rotation=45)\n",
        "ax.yaxis.set_major_formatter(FuncFormatter(formatar_bilhoes))\n",
        "# #labels\n",
        "#ax.set_title('Valor Geral de Vendas (VGV) deflacionado por cidade \\n ano-base: 2023', loc='center')\n",
        "# #legend\n",
        "leg = ax.legend(bbox_to_anchor=(0.5, -0.35),\n",
        "                ncol=len(finalidades))\n",
        "leg.get_frame().set_edgecolor('black')\n",
        "leg.get_frame().set_linewidth(0.4)\n",
        "\n",
        "ax.set_ylabel('VGV real (em bilhões R$)') #ax.set_xlabel('Ano de Entrega')\n",
        "plt.show()"
      ]
    },
    {
      "cell_type": "code",
      "execution_count": null,
      "id": "6a9d5259-1205-4410-8d0b-587f8ad2a12e",
      "metadata": {
        "tags": [],
        "id": "6a9d5259-1205-4410-8d0b-587f8ad2a12e"
      },
      "outputs": [],
      "source": [
        "fig.savefig(fr\"{path_imagens}\\evolucao_vgv_def(matplotlib).png\",\n",
        "            dpi=200,  bbox_inches=\"tight\")"
      ]
    },
    {
      "cell_type": "code",
      "execution_count": null,
      "id": "50132f40-a087-4299-8c09-ac5cac0fdce0",
      "metadata": {
        "id": "50132f40-a087-4299-8c09-ac5cac0fdce0"
      },
      "outputs": [],
      "source": []
    },
    {
      "cell_type": "markdown",
      "id": "e4af9059-1a51-40f8-b58d-aa860308953e",
      "metadata": {
        "id": "e4af9059-1a51-40f8-b58d-aa860308953e"
      },
      "source": [
        "## Agentes\n",
        "\n",
        "Incorporadores, construtores e vendedores"
      ]
    },
    {
      "cell_type": "markdown",
      "id": "56a3476b-c434-44bb-9e67-b193f433d809",
      "metadata": {
        "id": "56a3476b-c434-44bb-9e67-b193f433d809"
      },
      "source": [
        "### Incorporação"
      ]
    },
    {
      "cell_type": "markdown",
      "id": "4ef4737b-4fea-44d2-af05-e7a0d41e7544",
      "metadata": {
        "id": "4ef4737b-4fea-44d2-af05-e7a0d41e7544"
      },
      "source": [
        "#### unidades"
      ]
    },
    {
      "cell_type": "code",
      "execution_count": null,
      "id": "64db7fd4-d00c-4ae5-97b4-f59f0ef2e22c",
      "metadata": {
        "id": "64db7fd4-d00c-4ae5-97b4-f59f0ef2e22c"
      },
      "outputs": [],
      "source": [
        "df['incorporadora_1'].value_counts(normalize=True) # no df, não no nº de unidades"
      ]
    },
    {
      "cell_type": "code",
      "execution_count": null,
      "id": "b4c012b3-908e-4351-9765-4178647cb997",
      "metadata": {
        "id": "b4c012b3-908e-4351-9765-4178647cb997"
      },
      "outputs": [],
      "source": [
        "unid_por_incorp = df.pivot_table(index = 'incorporadora_1',\n",
        "                                   values = 'n_total_de_unidades',\n",
        "                                   aggfunc = 'sum')\n",
        "unid_por_incorp.reset_index(inplace=True)\n",
        "unid_por_incorp['participacao_no_total'] = (\n",
        "    unid_por_incorp['n_total_de_unidades']/unid_por_incorp['n_total_de_unidades'].sum())\n",
        "unid_por_incorp.sort_values(by='participacao_no_total', ascending=False, inplace=True)\n",
        "unid_por_incorp['participacao_acumulada \\n (concentração de mercado)'] = (\n",
        "    unid_por_incorp['participacao_no_total'].cumsum())"
      ]
    },
    {
      "cell_type": "code",
      "execution_count": null,
      "id": "753cc9bc-a8b2-43d5-b43b-ebaa9228c245",
      "metadata": {
        "id": "753cc9bc-a8b2-43d5-b43b-ebaa9228c245"
      },
      "outputs": [],
      "source": [
        "unid_por_incorp.head(10)"
      ]
    },
    {
      "cell_type": "code",
      "execution_count": null,
      "id": "21a8a191-7c24-49d4-b423-f45ee5d4c535",
      "metadata": {
        "id": "21a8a191-7c24-49d4-b423-f45ee5d4c535"
      },
      "outputs": [],
      "source": [
        "unid_por_incorp.to_excel(fr'{path_imagens}\\unidades_por_principais_incorporadoras.xlsx', index=False)"
      ]
    },
    {
      "cell_type": "markdown",
      "id": "dececaa7-22e6-4afc-8202-c47364a836b5",
      "metadata": {
        "id": "dececaa7-22e6-4afc-8202-c47364a836b5"
      },
      "source": [
        "#### VGV"
      ]
    },
    {
      "cell_type": "code",
      "execution_count": null,
      "id": "c4e49dfd-246f-45d1-a571-b23f1f7965e5",
      "metadata": {
        "id": "c4e49dfd-246f-45d1-a571-b23f1f7965e5"
      },
      "outputs": [],
      "source": [
        "vgv_por_incorp = df.pivot_table(index = 'incorporadora_1',\n",
        "                                   values = 'vgv',\n",
        "                                   aggfunc = 'sum')\n",
        "vgv_por_incorp.reset_index(inplace=True)\n",
        "vgv_por_incorp['participacao_no_total'] = (\n",
        "    vgv_por_incorp['vgv']/vgv_por_incorp['vgv'].sum())\n",
        "vgv_por_incorp.sort_values(by='participacao_no_total', ascending=False, inplace=True)\n",
        "vgv_por_incorp['participacao_acumulada \\n (concentração de mercado)'] = (\n",
        "    vgv_por_incorp['participacao_no_total'].cumsum())"
      ]
    },
    {
      "cell_type": "code",
      "execution_count": null,
      "id": "b68e14cb-4753-488b-9835-1b3a79ff6118",
      "metadata": {
        "id": "b68e14cb-4753-488b-9835-1b3a79ff6118"
      },
      "outputs": [],
      "source": [
        "vgv_por_incorp.head(10)"
      ]
    },
    {
      "cell_type": "code",
      "execution_count": null,
      "id": "4a89fcf6-5de3-4360-8c0d-e01b7d8b29dc",
      "metadata": {
        "id": "4a89fcf6-5de3-4360-8c0d-e01b7d8b29dc"
      },
      "outputs": [],
      "source": [
        "vgv_por_incorp.to_excel(fr'{path_imagens}\\vgv_por_principais_incorporadoras.xlsx', index=False)"
      ]
    },
    {
      "cell_type": "markdown",
      "id": "49d0a967-0c7f-49cd-b84e-17147a26e808",
      "metadata": {
        "id": "49d0a967-0c7f-49cd-b84e-17147a26e808"
      },
      "source": [
        "## Construtora"
      ]
    },
    {
      "cell_type": "markdown",
      "id": "f7534665-61a4-4221-8cb1-9a8a992e2928",
      "metadata": {
        "id": "f7534665-61a4-4221-8cb1-9a8a992e2928"
      },
      "source": [
        "#### unidades"
      ]
    },
    {
      "cell_type": "code",
      "execution_count": null,
      "id": "6b6fdc1a-f846-450d-9e86-66a54a803a1a",
      "metadata": {
        "id": "6b6fdc1a-f846-450d-9e86-66a54a803a1a"
      },
      "outputs": [],
      "source": [
        "unid_por_const = df.pivot_table(index = 'construtora_1',\n",
        "                                   values = 'n_total_de_unidades',\n",
        "                                   aggfunc = 'sum')\n",
        "unid_por_const.reset_index(inplace=True)\n",
        "unid_por_const['participacao_no_total'] = (\n",
        "    unid_por_const['n_total_de_unidades']/unid_por_const['n_total_de_unidades'].sum())\n",
        "unid_por_const.sort_values(by='participacao_no_total', ascending=False, inplace=True)\n",
        "unid_por_const['participacao_acumulada \\n (concentração de mercado)'] = (\n",
        "    unid_por_const['participacao_no_total'].cumsum())"
      ]
    },
    {
      "cell_type": "code",
      "execution_count": null,
      "id": "3bbdc599-fe98-4f20-8037-722b71b900d5",
      "metadata": {
        "id": "3bbdc599-fe98-4f20-8037-722b71b900d5"
      },
      "outputs": [],
      "source": [
        "unid_por_const.head(10)"
      ]
    },
    {
      "cell_type": "code",
      "execution_count": null,
      "id": "c226c656-c39b-43a5-aa25-c0c91df6f124",
      "metadata": {
        "id": "c226c656-c39b-43a5-aa25-c0c91df6f124"
      },
      "outputs": [],
      "source": [
        "unid_por_const.to_excel(fr'{path_imagens}\\unidades_por_principais_construtoras.xlsx', index=False)"
      ]
    },
    {
      "cell_type": "markdown",
      "id": "3ed3d5ff-3a0d-4e76-9a1a-7312ddcdf6ac",
      "metadata": {
        "id": "3ed3d5ff-3a0d-4e76-9a1a-7312ddcdf6ac"
      },
      "source": [
        "#### VGV"
      ]
    },
    {
      "cell_type": "code",
      "execution_count": null,
      "id": "4971aaee-d779-488b-805e-21237ee99035",
      "metadata": {
        "id": "4971aaee-d779-488b-805e-21237ee99035"
      },
      "outputs": [],
      "source": [
        "vgv_por_const = df.pivot_table(index = 'construtora_1',\n",
        "                                   values = 'vgv',\n",
        "                                   aggfunc = 'sum')\n",
        "vgv_por_const.reset_index(inplace=True)\n",
        "vgv_por_const['participacao_no_total'] = (\n",
        "    vgv_por_const['vgv']/vgv_por_const['vgv'].sum())\n",
        "vgv_por_const.sort_values(by='participacao_no_total', ascending=False, inplace=True)\n",
        "vgv_por_const['participacao_acumulada \\n (concentração de mercado)'] = (\n",
        "    vgv_por_const['participacao_no_total'].cumsum())"
      ]
    },
    {
      "cell_type": "code",
      "execution_count": null,
      "id": "fecc5fcc-2de8-442a-901d-0bf17ffd0309",
      "metadata": {
        "id": "fecc5fcc-2de8-442a-901d-0bf17ffd0309"
      },
      "outputs": [],
      "source": [
        "vgv_por_const.head(10)"
      ]
    },
    {
      "cell_type": "code",
      "execution_count": null,
      "id": "315165b0-6964-4665-ae1a-faea7b19cb1a",
      "metadata": {
        "id": "315165b0-6964-4665-ae1a-faea7b19cb1a"
      },
      "outputs": [],
      "source": [
        "vgv_por_const.to_excel(fr'{path_imagens}\\vgv_por_principais_construtoras.xlsx', index=False)"
      ]
    },
    {
      "cell_type": "markdown",
      "id": "814c69f5-3440-4c8b-8045-38252f836d54",
      "metadata": {
        "id": "814c69f5-3440-4c8b-8045-38252f836d54"
      },
      "source": [
        "## Vendedora"
      ]
    },
    {
      "cell_type": "markdown",
      "id": "1409a09a-dbcb-40b3-ab5b-82446555a477",
      "metadata": {
        "id": "1409a09a-dbcb-40b3-ab5b-82446555a477"
      },
      "source": [
        "### unidades"
      ]
    },
    {
      "cell_type": "code",
      "execution_count": null,
      "id": "37a2fb7f-cd23-4a1d-b023-35380fb7d1df",
      "metadata": {
        "id": "37a2fb7f-cd23-4a1d-b023-35380fb7d1df"
      },
      "outputs": [],
      "source": [
        "unid_por_vend = df.pivot_table(index = 'vendedora_1',\n",
        "                                   values = 'n_total_de_unidades',\n",
        "                                   aggfunc = 'sum')\n",
        "unid_por_vend.reset_index(inplace=True)\n",
        "unid_por_vend['participacao_no_total'] = (\n",
        "    unid_por_vend['n_total_de_unidades']/unid_por_vend['n_total_de_unidades'].sum())\n",
        "unid_por_vend.sort_values(by='participacao_no_total', ascending=False, inplace=True)\n",
        "unid_por_vend['participacao_acumulada \\n (concentração de mercado)'] = (\n",
        "    unid_por_vend['participacao_no_total'].cumsum())"
      ]
    },
    {
      "cell_type": "code",
      "execution_count": null,
      "id": "b3196270-ba77-437a-ac84-c952d62bc71b",
      "metadata": {
        "id": "b3196270-ba77-437a-ac84-c952d62bc71b"
      },
      "outputs": [],
      "source": [
        "unid_por_vend.head(10)"
      ]
    },
    {
      "cell_type": "code",
      "execution_count": null,
      "id": "76259b23-24a4-4f38-be42-698d8d7572b0",
      "metadata": {
        "id": "76259b23-24a4-4f38-be42-698d8d7572b0"
      },
      "outputs": [],
      "source": [
        "unid_por_vend.to_excel(fr'{path_imagens}\\unidades_por_principais_vendedoras.xlsx', index=False)"
      ]
    },
    {
      "cell_type": "markdown",
      "id": "00e16e59-1364-4f93-9beb-ea2d6c977bce",
      "metadata": {
        "id": "00e16e59-1364-4f93-9beb-ea2d6c977bce"
      },
      "source": [
        "### VGV"
      ]
    },
    {
      "cell_type": "code",
      "execution_count": null,
      "id": "2e6be7ec-b095-42c7-9580-2dd6910c8d93",
      "metadata": {
        "id": "2e6be7ec-b095-42c7-9580-2dd6910c8d93"
      },
      "outputs": [],
      "source": [
        "vgv_por_vend = df.pivot_table(index = 'vendedora_1',\n",
        "                                   values = 'vgv',\n",
        "                                   aggfunc = 'sum')\n",
        "vgv_por_vend.reset_index(inplace=True)\n",
        "vgv_por_vend['participacao_no_total'] = (\n",
        "    vgv_por_vend['vgv']/vgv_por_vend['vgv'].sum())\n",
        "vgv_por_vend.sort_values(by='participacao_no_total', ascending=False, inplace=True)\n",
        "vgv_por_vend['participacao_acumulada \\n (concentração de mercado)'] = (\n",
        "    vgv_por_vend['participacao_no_total'].cumsum())"
      ]
    },
    {
      "cell_type": "code",
      "execution_count": null,
      "id": "71a176d6-ab3d-416a-b9c7-f84a83d37779",
      "metadata": {
        "id": "71a176d6-ab3d-416a-b9c7-f84a83d37779"
      },
      "outputs": [],
      "source": [
        "vgv_por_vend.head(10)"
      ]
    },
    {
      "cell_type": "code",
      "execution_count": null,
      "id": "0836e523-a21c-4378-bd6f-5f835e038103",
      "metadata": {
        "id": "0836e523-a21c-4378-bd6f-5f835e038103"
      },
      "outputs": [],
      "source": [
        "vgv_por_vend.to_excel(fr'{path_imagens}\\vgv_por_principais_vendedoras.xlsx', index=False)"
      ]
    },
    {
      "cell_type": "code",
      "execution_count": null,
      "id": "1735c312-6053-4c98-9f88-d0f5413e37d1",
      "metadata": {
        "id": "1735c312-6053-4c98-9f88-d0f5413e37d1"
      },
      "outputs": [],
      "source": []
    },
    {
      "cell_type": "markdown",
      "id": "8ed30584-0f31-4ad5-9ffc-dbc1044c4fa3",
      "metadata": {
        "id": "8ed30584-0f31-4ad5-9ffc-dbc1044c4fa3"
      },
      "source": [
        "# Geodataframes"
      ]
    },
    {
      "cell_type": "markdown",
      "id": "ffca58b3-64e6-46e5-8fc2-0f50329e1a7b",
      "metadata": {
        "id": "ffca58b3-64e6-46e5-8fc2-0f50329e1a7b"
      },
      "source": [
        "## Empreendimentos\n",
        "\n",
        "queremos montar um dataframe em que observação base (linhas) é o empreendimento"
      ]
    },
    {
      "cell_type": "code",
      "execution_count": null,
      "id": "0fcae6b4-650b-44a6-a8a9-d5aae1780382",
      "metadata": {
        "id": "0fcae6b4-650b-44a6-a8a9-d5aae1780382"
      },
      "outputs": [],
      "source": [
        "from pykml import parser\n",
        "from shapely.geometry import Point, Polygon, LineString\n",
        "import geopandas as gpd\n",
        "import pandas as pd\n",
        "from bs4 import BeautifulSoup\n",
        "\n",
        "\n",
        "def parse_kml_to_gdf(kml_file):\n",
        "    with open(kml_file, 'r') as f:\n",
        "        root = parser.parse(f).getroot()\n",
        "\n",
        "    features = []\n",
        "    for placemark in root.Placemark:\n",
        "        feature = {}\n",
        "\n",
        "\n",
        "        feature['name'] = placemark.name.text if hasattr(placemark, 'name') else 'Unnamed'\n",
        "\n",
        "\n",
        "        if hasattr(placemark, 'description'):\n",
        "            description_html = placemark.description.text\n",
        "            soup = BeautifulSoup(description_html, 'html.parser')\n",
        "            tables = soup.find_all('table')\n",
        "\n",
        "            if tables:\n",
        "                for table in tables:\n",
        "                    rows = table.find_all('tr')\n",
        "                    for row in rows:\n",
        "                        cols = row.find_all('td')\n",
        "                        cols = [ele.text.strip() for ele in cols]\n",
        "                        if len(cols) == 2:\n",
        "                            key = cols[0].replace(' ', '_').replace(':', '').lower()\n",
        "                            value = cols[1]\n",
        "                            feature[key] = value\n",
        "\n",
        "\n",
        "        if hasattr(placemark, 'Point'):\n",
        "            coords = placemark.Point.coordinates.text.strip().split(',')\n",
        "            geom = Point(float(coords[0]), float(coords[1]))\n",
        "        elif hasattr(placemark, 'LineString'):\n",
        "            coords = [tuple(map(float, coord.strip().split(','))) for coord in placemark.LineString.coordinates.text.strip().split()]\n",
        "            geom = LineString(coords)\n",
        "        elif hasattr(placemark, 'Polygon'):\n",
        "            coords = [tuple(map(float, coord.strip().split(','))) for coord in placemark.Polygon.outerBoundaryIs.LinearRing.coordinates.text.strip().split()]\n",
        "            geom = Polygon(coords)\n",
        "        else:\n",
        "            continue\n",
        "\n",
        "        feature['geometry'] = geom\n",
        "        features.append(feature)\n",
        "\n",
        "    gdf = gpd.GeoDataFrame(features)\n",
        "    return gdf"
      ]
    },
    {
      "cell_type": "markdown",
      "id": "34f9d094-ec93-4e3c-9551-507ccde29bfb",
      "metadata": {
        "id": "34f9d094-ec93-4e3c-9551-507ccde29bfb"
      },
      "source": [
        "# Importar outras cidades também"
      ]
    },
    {
      "cell_type": "code",
      "execution_count": null,
      "id": "67d67aaf-c559-46c7-834a-0f601cc4b9bb",
      "metadata": {
        "id": "67d67aaf-c559-46c7-834a-0f601cc4b9bb"
      },
      "outputs": [],
      "source": [
        "kml_file_bh = 'BH.kml'\n",
        "gdf_bh = parse_kml_to_gdf(kml_file_bh)\n",
        "gdf_bh['cidade'] = 'BELO HORIZONTE'"
      ]
    },
    {
      "cell_type": "code",
      "execution_count": null,
      "id": "31bdd068-1c7f-46e2-bd96-f1fa476f70d7",
      "metadata": {
        "id": "31bdd068-1c7f-46e2-bd96-f1fa476f70d7"
      },
      "outputs": [],
      "source": [
        "kml_file_nova_lima = 'Nova Lima.kml'\n",
        "gdf_nova_lima = parse_kml_to_gdf(kml_file_nova_lima)\n",
        "gdf_nova_lima['cidade'] = 'NOVA LIMA'\n",
        "kml_file_contagem = 'Contagem.kml'\n",
        "gdf_contagem = parse_kml_to_gdf(kml_file_contagem)\n",
        "gdf_contagem['cidade'] = 'CONTAGEM'\n",
        "kml_file_betim = 'Betim.kml'\n",
        "gdf_betim = parse_kml_to_gdf(kml_file_betim)\n",
        "gdf_betim['cidade'] = 'BETIM'\n",
        "kml_file_lagoa_santa = 'Lagoa Santa.kml'\n",
        "gdf_lagoa_santa = parse_kml_to_gdf(kml_file_lagoa_santa)\n",
        "gdf_lagoa_santa['cidade'] = 'LAGOA SANTA'"
      ]
    },
    {
      "cell_type": "code",
      "execution_count": null,
      "id": "521e9154-5bba-44dd-a440-e12fef6567f0",
      "metadata": {
        "id": "521e9154-5bba-44dd-a440-e12fef6567f0"
      },
      "outputs": [],
      "source": [
        "gdf = pd.concat([gdf_bh, gdf_nova_lima, gdf_contagem, gdf_betim, gdf_lagoa_santa])"
      ]
    },
    {
      "cell_type": "code",
      "execution_count": null,
      "id": "c6b59f54-0254-48a1-b037-d3f8ec671cb8",
      "metadata": {
        "id": "c6b59f54-0254-48a1-b037-d3f8ec671cb8"
      },
      "outputs": [],
      "source": [
        "gdf['cidade'].value_counts()"
      ]
    },
    {
      "cell_type": "code",
      "execution_count": null,
      "id": "cfef553d-048b-43df-adbd-410477e09818",
      "metadata": {
        "id": "cfef553d-048b-43df-adbd-410477e09818"
      },
      "outputs": [],
      "source": [
        "len(df), df['codigo_no_mapa'].nunique(), len(gdf)"
      ]
    },
    {
      "cell_type": "code",
      "execution_count": null,
      "id": "0235c100-6f40-42ee-b235-ee9b236a5c50",
      "metadata": {
        "id": "0235c100-6f40-42ee-b235-ee9b236a5c50"
      },
      "outputs": [],
      "source": [
        "# muitas obs irao ter coodernadas\n",
        "len(df[df['empreendimento'].isin(gdf['name'].unique())])"
      ]
    },
    {
      "cell_type": "code",
      "execution_count": null,
      "id": "e64ac385-c07a-4e40-8fee-84aa7bae0335",
      "metadata": {
        "id": "e64ac385-c07a-4e40-8fee-84aa7bae0335"
      },
      "outputs": [],
      "source": [
        "len(gdf), gdf['name'].nunique()\n",
        "# isso vai dar problema no merge\n",
        "# eu tenho mais de uma coordenada por empreendimento"
      ]
    },
    {
      "cell_type": "code",
      "execution_count": null,
      "id": "9271767f-a0d6-44fa-b0f1-2448f8598b06",
      "metadata": {
        "id": "9271767f-a0d6-44fa-b0f1-2448f8598b06"
      },
      "outputs": [],
      "source": [
        "df_rgi = df.pivot_table(index='rgi',\n",
        "                       values = ['n_total_de_unidades', 'vgv'],\n",
        "                       aggfunc='sum')\n",
        "\n",
        "df_rgi.reset_index(inplace=True)\n",
        "df_rgi.columns = ['rgi', 'n_total_de_unidades_empreendimento', 'vgv']\n",
        "len(df_rgi), df_rgi.head(2)"
      ]
    },
    {
      "cell_type": "code",
      "execution_count": null,
      "id": "1b1e8a8c-b400-4725-86b5-b75fc80886f8",
      "metadata": {
        "id": "1b1e8a8c-b400-4725-86b5-b75fc80886f8"
      },
      "outputs": [],
      "source": [
        "colunas_de_interesse = ['rgi', 'data_lancamento', 'data_entrega', 'empreendimento',\n",
        "                        'endereco', 'bairro', 'cidade',\n",
        "                        'classificacao_do_tipo', 'incorporadora_1', 'construtora_1',\n",
        "                        'vendedora_1', 'finalidade', 'tipologia', 'ano_entrega']"
      ]
    },
    {
      "cell_type": "code",
      "execution_count": null,
      "id": "551ea153-90cd-479d-9eae-ae0aa818347d",
      "metadata": {
        "id": "551ea153-90cd-479d-9eae-ae0aa818347d"
      },
      "outputs": [],
      "source": [
        "df_rgi = df_rgi.merge(df.drop_duplicates('rgi')[colunas_de_interesse],\n",
        "                     how = 'left',\n",
        "                     on = 'rgi')"
      ]
    },
    {
      "cell_type": "code",
      "execution_count": null,
      "id": "e001960d-51f1-4578-b729-d96bada87473",
      "metadata": {
        "id": "e001960d-51f1-4578-b729-d96bada87473"
      },
      "outputs": [],
      "source": [
        "df_rgi.head(2)"
      ]
    },
    {
      "cell_type": "code",
      "execution_count": null,
      "id": "a2d1052f-d044-42d3-a802-e8d6a8320bf5",
      "metadata": {
        "id": "a2d1052f-d044-42d3-a802-e8d6a8320bf5"
      },
      "outputs": [],
      "source": [
        "len(df_rgi)"
      ]
    },
    {
      "cell_type": "code",
      "execution_count": null,
      "id": "fbaea336-1d4a-4171-81a4-78ffa6b2aa83",
      "metadata": {
        "id": "fbaea336-1d4a-4171-81a4-78ffa6b2aa83"
      },
      "outputs": [],
      "source": [
        "len(gdf)"
      ]
    },
    {
      "cell_type": "code",
      "execution_count": null,
      "id": "97da27d3-faf8-4793-930e-16eb2acaff6b",
      "metadata": {
        "id": "97da27d3-faf8-4793-930e-16eb2acaff6b"
      },
      "outputs": [],
      "source": [
        "len(gdf.drop_duplicates(subset=['name', 'lançamento', 'total_de_unidades']))"
      ]
    },
    {
      "cell_type": "code",
      "execution_count": null,
      "id": "3578b2be-2cec-4a0f-9f3d-84ef72c6741e",
      "metadata": {
        "id": "3578b2be-2cec-4a0f-9f3d-84ef72c6741e"
      },
      "outputs": [],
      "source": [
        "for a, b in [('Jan/', '01-'), ('Fev/', '02-'), ('Mar/', '03-'), ('Abr/', '04-'),\n",
        "             ('Mai/', '05-'), ('Jun/', '06-'), ('Jul/', '07-'), ('Ago/', '08-'),\n",
        "             ('Set/', '09-'), ('Out/', '10-'), ('Nov/', '11-'), ('Dez/', '12-')]:\n",
        "    gdf['lançamento'] = gdf['lançamento'].str.replace(a,b)"
      ]
    },
    {
      "cell_type": "code",
      "execution_count": null,
      "id": "409492c2-947b-417d-b886-172c4832773a",
      "metadata": {
        "id": "409492c2-947b-417d-b886-172c4832773a"
      },
      "outputs": [],
      "source": [
        "gdf['lançamento'] = pd.to_datetime(gdf['lançamento'])"
      ]
    },
    {
      "cell_type": "code",
      "execution_count": null,
      "id": "13198330-7142-4216-93cb-65f16173e4e5",
      "metadata": {
        "id": "13198330-7142-4216-93cb-65f16173e4e5"
      },
      "outputs": [],
      "source": [
        "df_rgi.head(1)"
      ]
    },
    {
      "cell_type": "code",
      "execution_count": null,
      "id": "a99881d4-d083-453b-887a-e0bef9587f3e",
      "metadata": {
        "id": "a99881d4-d083-453b-887a-e0bef9587f3e"
      },
      "outputs": [],
      "source": [
        "df_rgi['identifier'] = (df_rgi['empreendimento'] +\n",
        "                        df_rgi['n_total_de_unidades_empreendimento'].astype(int).astype(str) +\n",
        "                        df_rgi['data_lancamento'].astype(str))\n",
        "gdf['identifier'] = (gdf['name'] +\n",
        "                    gdf['total_de_unidades'].astype(str) +\n",
        "                    gdf['lançamento'].astype(str))\n",
        "gdf.drop_duplicates(subset='identifier', inplace=True) # 4 drops\n",
        "len(df_rgi), df_rgi['rgi'].nunique(), len(gdf), gdf['identifier'].nunique()"
      ]
    },
    {
      "cell_type": "code",
      "execution_count": null,
      "id": "63b402fd-8eed-445e-aada-36931972758e",
      "metadata": {
        "id": "63b402fd-8eed-445e-aada-36931972758e"
      },
      "outputs": [],
      "source": [
        "df_rgi = df_rgi.merge(gdf[['identifier', 'geometry']],\n",
        "                         how='left',\n",
        "                         on = 'identifier')"
      ]
    },
    {
      "cell_type": "markdown",
      "id": "0005da61-100a-4bf0-91ec-5426ea7c4f4d",
      "metadata": {
        "id": "0005da61-100a-4bf0-91ec-5426ea7c4f4d"
      },
      "source": [
        "ATENÇÃO: lembrar que muitos imóveis em df_rgi foram filtrados por isso nem todos os pontos em gdf serão transferidos para o df_rgi"
      ]
    },
    {
      "cell_type": "code",
      "execution_count": null,
      "id": "a6aba577-804a-420c-8637-d2d5a57b0713",
      "metadata": {
        "scrolled": true,
        "id": "a6aba577-804a-420c-8637-d2d5a57b0713"
      },
      "outputs": [],
      "source": [
        "len(df_rgi)"
      ]
    },
    {
      "cell_type": "code",
      "execution_count": null,
      "id": "eb931454-a690-4e64-ae05-68c6730db987",
      "metadata": {
        "id": "eb931454-a690-4e64-ae05-68c6730db987"
      },
      "outputs": [],
      "source": [
        "df_rgi = df_rgi[df_rgi['geometry'].notnull()]"
      ]
    },
    {
      "cell_type": "code",
      "execution_count": null,
      "id": "28bd7909-a96e-4dfe-98b1-1382cf400623",
      "metadata": {
        "id": "28bd7909-a96e-4dfe-98b1-1382cf400623"
      },
      "outputs": [],
      "source": [
        "geometrias_validas = df_rgi.geometry.dropna()\n",
        "\n",
        "df_rgi['x'] = geometrias_validas.apply(lambda geom: geom.x)\n",
        "df_rgi['y'] = geometrias_validas.apply(lambda geom: geom.y)"
      ]
    },
    {
      "cell_type": "code",
      "execution_count": null,
      "id": "cb5a16b2-05f7-4211-acd4-c08d88a439a3",
      "metadata": {
        "id": "cb5a16b2-05f7-4211-acd4-c08d88a439a3"
      },
      "outputs": [],
      "source": [
        "df_rgi.head(1)"
      ]
    },
    {
      "cell_type": "code",
      "execution_count": null,
      "id": "0895de46-90ac-4dd8-b512-b8944c5c2141",
      "metadata": {
        "id": "0895de46-90ac-4dd8-b512-b8944c5c2141"
      },
      "outputs": [],
      "source": [
        "df_rgi.info()"
      ]
    },
    {
      "cell_type": "code",
      "execution_count": null,
      "id": "70007c7b-7449-41fe-be05-51eca6942126",
      "metadata": {
        "id": "70007c7b-7449-41fe-be05-51eca6942126"
      },
      "outputs": [],
      "source": [
        "plt.scatter(df_rgi['x'],\n",
        "            df_rgi['y'],\n",
        "            s=df_rgi['n_total_de_unidades_empreendimento'],\n",
        "            alpha=0.5,\n",
        "            c=df_rgi['n_total_de_unidades_empreendimento'],\n",
        "            cmap='viridis')"
      ]
    },
    {
      "cell_type": "code",
      "execution_count": null,
      "id": "8278767e-9170-481a-ae96-2e3ef659c7e5",
      "metadata": {
        "id": "8278767e-9170-481a-ae96-2e3ef659c7e5"
      },
      "outputs": [],
      "source": []
    },
    {
      "cell_type": "markdown",
      "id": "3da7483f-fb71-40c7-9cc9-e83f6439336c",
      "metadata": {
        "id": "3da7483f-fb71-40c7-9cc9-e83f6439336c"
      },
      "source": [
        "## Malha Municipios"
      ]
    },
    {
      "cell_type": "code",
      "execution_count": null,
      "id": "34fc988a-ee05-4e7c-80ba-3be8bca5650a",
      "metadata": {
        "id": "34fc988a-ee05-4e7c-80ba-3be8bca5650a"
      },
      "outputs": [],
      "source": [
        "path_malha_municipios = r'D:\\OneDrive\\DADOS\\outros dados\\malhas\\dados_ibge_br_municipios_2022'\n",
        "#path_malha_municipios = r'C:\\Users\\Lord-\\OneDrive\\DADOS\\outros dados\\malhas\\dados_ibge_br_municipios_2022'\n",
        "malha_mun = gpd.read_file(fr\"{path_malha_municipios}\\BR_Municipios_2022.shp\")\n",
        "malha_mun.columns = malha_mun.columns.str.lower()\n",
        "malha_mun = malha_mun[malha_mun['sigla_uf'] == 'MG']\n",
        "rmbh = ['3106200', # bh\n",
        "        '3105004', #baldim\n",
        "        '3106705', #betim\n",
        "        '3109006', #brumadinho\n",
        "        '3110004', #caete\n",
        "        '3112505', #capim branco\n",
        "        '3117876', #confins\n",
        "        '3118601', #contagem\n",
        "        '3124104', #esmeralda\n",
        "        '3126000', #florestal\n",
        "        '3129806', #ibirite\n",
        "        '3130101', #igarape\n",
        "        '3132206', #itaguara\n",
        "        '3133709', #itatiaiucu\n",
        "        '3134608', #jaboticatubas\n",
        "        '3136604', #nova uniao\n",
        "        '3136652', #juatuba\n",
        "        '3137601', #lagoa santa\n",
        "        '3140159', #mario campos\n",
        "        '3140704', #mateus leme\n",
        "        '3141108', #matozinhos\n",
        "        '3144805', #novalima\n",
        "        '3149309', #pedro leopoldo\n",
        "        '3153905', #raposos\n",
        "        '3154606', #ribeirao das neves\n",
        "        '3154804', #rio acima\n",
        "        '3155306', #rio manso\n",
        "        '3156700', #sabara\n",
        "        '3157807', #santa luzia\n",
        "        '3162922', #sao joaquim de bicas\n",
        "        '3165537', #sarzedo\n",
        "        '3168309', #taquaraçu\n",
        "        '3171204', #vespasian#\n",
        "        '3162955' # são jose da lapa\n",
        "       ]\n",
        "malha_dados = malha_mun[malha_mun['nm_mun'].isin(['Belo Horizonte', 'Lagoa Santa', 'Nova Lima',\n",
        "                                                'Contagem', 'Betim'])]\n",
        "malha_dados['nm_mun'] = malha_dados['nm_mun'].str.upper()\n",
        "malha_mun['cd_mun'] = malha_mun['cd_mun'].astype(str)\n",
        "malha_rmbh = malha_mun[malha_mun['cd_mun'].isin(rmbh)]"
      ]
    },
    {
      "cell_type": "code",
      "execution_count": null,
      "id": "87abfe37-baa7-4a3a-a705-e2a58fe5ff49",
      "metadata": {
        "id": "87abfe37-baa7-4a3a-a705-e2a58fe5ff49"
      },
      "outputs": [],
      "source": [
        "malha_rmbh.plot()"
      ]
    },
    {
      "cell_type": "markdown",
      "id": "ef6c4408-38ff-4e15-84af-59bbd8f1aede",
      "metadata": {
        "id": "ef6c4408-38ff-4e15-84af-59bbd8f1aede"
      },
      "source": [
        "## Malha regionais"
      ]
    },
    {
      "cell_type": "code",
      "execution_count": null,
      "id": "3ba95cfc-e323-45aa-add5-76904a194792",
      "metadata": {
        "id": "3ba95cfc-e323-45aa-add5-76904a194792"
      },
      "outputs": [],
      "source": [
        "path_malha_regionais_bh = r'D:\\OneDrive\\DADOS\\outros dados\\malhas\\malha_bh_regionais'\n",
        "malha_regionais = gpd.read_file(fr\"{path_malha_regionais_bh}\\REGIONAL.shp\")\n",
        "malha_regionais = malha_regionais.to_crs(4674)\n",
        "malha_regionais.columns = malha_regionais.columns.str.lower()"
      ]
    },
    {
      "cell_type": "code",
      "execution_count": null,
      "id": "7ff5d88a-addd-4669-bf65-228da003b422",
      "metadata": {
        "id": "7ff5d88a-addd-4669-bf65-228da003b422"
      },
      "outputs": [],
      "source": [
        "malha_regionais.rename(columns={'nome':'nome_regional'}, inplace=True)"
      ]
    },
    {
      "cell_type": "code",
      "execution_count": null,
      "id": "be455ca0-1b7a-4da5-8988-4c95f4fdd98a",
      "metadata": {
        "id": "be455ca0-1b7a-4da5-8988-4c95f4fdd98a"
      },
      "outputs": [],
      "source": [
        "malha_regionais.plot()"
      ]
    },
    {
      "cell_type": "code",
      "execution_count": null,
      "id": "cc940e52-2fdc-4ff0-adf3-3bcbc4aa29ed",
      "metadata": {
        "id": "cc940e52-2fdc-4ff0-adf3-3bcbc4aa29ed"
      },
      "outputs": [],
      "source": []
    },
    {
      "cell_type": "markdown",
      "id": "5c3b1d99-cd2b-43a2-96e6-f1a504083801",
      "metadata": {
        "id": "5c3b1d99-cd2b-43a2-96e6-f1a504083801"
      },
      "source": [
        "## Joining Layers"
      ]
    },
    {
      "cell_type": "code",
      "execution_count": null,
      "id": "a9605ae6-da75-46b7-bb6f-76c0a79c03ce",
      "metadata": {
        "id": "a9605ae6-da75-46b7-bb6f-76c0a79c03ce"
      },
      "outputs": [],
      "source": [
        "bounding_box = malha_dados.geometry.bounds\n",
        "xmin = bounding_box['minx'].min()\n",
        "xmax = bounding_box['maxx'].max()\n",
        "ymin = bounding_box['miny'].min()\n",
        "ymax = bounding_box['maxy'].max()"
      ]
    },
    {
      "cell_type": "code",
      "execution_count": null,
      "id": "13eecea3-3bb6-4ef7-b077-7a1a536d8d58",
      "metadata": {
        "scrolled": true,
        "id": "13eecea3-3bb6-4ef7-b077-7a1a536d8d58"
      },
      "outputs": [],
      "source": [
        "fig, ax = plt.subplots(figsize=(8, 5))\n",
        "\n",
        "malha_rmbh.plot(ax=ax, color='blue', alpha = 0.1,\n",
        "               edgecolor='black', linewidths=0.4)\n",
        "\n",
        "malha_dados.plot(ax=ax, color='blue', alpha = 0.2,\n",
        "               edgecolor='black', linewidths=0.8) # linewidths só funciona com edgecolor\n",
        "\n",
        "malha_regionais.plot(ax=ax, color='blue', alpha = 0.2,\n",
        "                     edgecolor='black', linewidths=1)\n",
        "\n",
        "plt.scatter(df_rgi['x'],\n",
        "            df_rgi['y'],\n",
        "            s = 1, # size, df_rgi['n_total_de_unidades_empreendimento'],\n",
        "            alpha=0.3,\n",
        "            #c=df_rgi['n_total_de_unidades_empreendimento'], # cor\n",
        "            #cmap='Reds' # escala de cores\n",
        "           )\n",
        "plt.xlim(xmin, xmax)\n",
        "plt.ylim(ymin, ymax)"
      ]
    },
    {
      "cell_type": "code",
      "execution_count": null,
      "id": "617c8814-ef60-474c-ba44-684900e83c30",
      "metadata": {
        "id": "617c8814-ef60-474c-ba44-684900e83c30"
      },
      "outputs": [],
      "source": [
        "fig.savefig(fr'{path_imagens}\\empreendimentos.png',\n",
        "           dpi=300, bbox_inches='tight', format='png')"
      ]
    },
    {
      "cell_type": "markdown",
      "id": "4d3d4e9e-89d3-4b5d-a217-083a3f2886d3",
      "metadata": {
        "id": "4d3d4e9e-89d3-4b5d-a217-083a3f2886d3"
      },
      "source": [
        "# Analise georreferenciada"
      ]
    },
    {
      "cell_type": "markdown",
      "id": "809c47e6-a780-4740-a540-bf7629bcbf91",
      "metadata": {
        "id": "809c47e6-a780-4740-a540-bf7629bcbf91"
      },
      "source": [
        "## Matplotlib Style (Maps)"
      ]
    },
    {
      "cell_type": "code",
      "execution_count": null,
      "id": "e752068c-3b9f-4a1c-9a14-5dd318cb2a84",
      "metadata": {
        "tags": [],
        "id": "e752068c-3b9f-4a1c-9a14-5dd318cb2a84"
      },
      "outputs": [],
      "source": [
        "print(plt.style.available)"
      ]
    },
    {
      "cell_type": "code",
      "execution_count": null,
      "id": "b095ddad-51fd-4fcf-b8ca-b03e2c866f7e",
      "metadata": {
        "tags": [],
        "id": "b095ddad-51fd-4fcf-b8ca-b03e2c866f7e"
      },
      "outputs": [],
      "source": [
        "plt.style.use('seaborn-v0_8')\n",
        "plt.rc('figure', figsize=(5,10), titlesize=15)\n",
        "plt.rc('lines', linewidth=2)\n",
        "plt.rc('axes', labelsize=8, titlesize=8, titleweight='bold', titley=1.05, labelpad=6, grid=False) # vai mudar do x e do y\n",
        "plt.rc('xtick', labelsize=8)\n",
        "plt.rc('ytick', labelsize=8)\n",
        "plt.rc('legend', loc='lower center', fontsize=8, frameon=True, framealpha=0.8)\n",
        "colors = plt.colormaps.get_cmap('Set1') # bom para qualitativo\n",
        "plt.colormaps.get_cmap('Set1') # melhor porque distingue melhor as primeiras cores"
      ]
    },
    {
      "cell_type": "markdown",
      "id": "41492359-8165-42ee-814d-3c8ebc05d577",
      "metadata": {
        "id": "41492359-8165-42ee-814d-3c8ebc05d577"
      },
      "source": [
        "## Periodização"
      ]
    },
    {
      "cell_type": "code",
      "execution_count": null,
      "id": "42f316f1-7685-4999-8a62-dcb5db9c72db",
      "metadata": {
        "id": "42f316f1-7685-4999-8a62-dcb5db9c72db"
      },
      "outputs": [],
      "source": [
        "conditions = [#(df_rgi['ano_entrega'] <= 2009),\n",
        "              (df_rgi['ano_entrega'] > 2009) & (df_rgi['ano_entrega'] <= 2014),\n",
        "              (df_rgi['ano_entrega'] > 2014) & (df_rgi['ano_entrega'] <= 2020),\n",
        "              (df_rgi['ano_entrega'] > 2020)]\n",
        "\n",
        "values = [#'-2009', # nao tem para esse filtro\n",
        "          '2010-2014', '2015-2020', '2020-2023']\n",
        "df_rgi['periodo'] = np.select(conditions,values)"
      ]
    },
    {
      "cell_type": "code",
      "execution_count": null,
      "id": "33b1e05f-3861-4027-b5ab-4c2390865fc3",
      "metadata": {
        "id": "33b1e05f-3861-4027-b5ab-4c2390865fc3"
      },
      "outputs": [],
      "source": [
        "df_rgi['periodo'].value_counts()"
      ]
    },
    {
      "cell_type": "code",
      "execution_count": null,
      "id": "682a7a43-5b9d-462d-a27c-a4906f9f9bdb",
      "metadata": {
        "tags": [],
        "id": "682a7a43-5b9d-462d-a27c-a4906f9f9bdb"
      },
      "outputs": [],
      "source": [
        "malha_rmbh.head(1)"
      ]
    },
    {
      "cell_type": "code",
      "execution_count": null,
      "id": "2925e06f-9b2a-4cdf-b81e-43a23d1da313",
      "metadata": {
        "tags": [],
        "id": "2925e06f-9b2a-4cdf-b81e-43a23d1da313"
      },
      "outputs": [],
      "source": [
        "# for scale bar we need to calculate the pixel/distance relation\n",
        "# https://geopandas.org/en/stable/gallery/matplotlib_scalebar.html\n",
        "from shapely.geometry.point import Point\n",
        "points = gpd.GeoSeries(\n",
        "    [Point(-73.5, 40.5), Point(-74.5, 40.5)], crs=4326\n",
        ")  # Geographic WGS 84 - degrees\n",
        "points = points.to_crs(32619)  # Projected WGS 84 - meters\n",
        "distance_meters = points[0].distance(points[1])"
      ]
    },
    {
      "cell_type": "code",
      "execution_count": null,
      "id": "f3a608f3-7a31-46f5-86cc-0abf510bac83",
      "metadata": {
        "tags": [],
        "id": "f3a608f3-7a31-46f5-86cc-0abf510bac83"
      },
      "outputs": [],
      "source": [
        "distance_meters"
      ]
    },
    {
      "cell_type": "code",
      "execution_count": null,
      "id": "e0a71c5c-6ca8-4612-a042-3a2b9d310507",
      "metadata": {
        "id": "e0a71c5c-6ca8-4612-a042-3a2b9d310507"
      },
      "outputs": [],
      "source": [
        "fig, ax = plt.subplots()\n",
        "malha_rmbh.plot(ax=ax, color='blue', alpha = 0.1, edgecolor='black', linewidths=0.4)\n",
        "malha_dados.plot(ax=ax, color='blue', alpha = 0.2, edgecolor='black', linewidths=0.8) # linewidths só funciona com edgecolor\n",
        "malha_regionais.plot(ax=ax, color='blue', alpha = 0.2, edgecolor='black', linewidths=1)\n",
        "\n",
        "hue_order = ['2010-2014', '2015-2020', '2020-2023']\n",
        "sns.scatterplot(data=df_rgi,\n",
        "                x='x', y='y',\n",
        "                hue='periodo', hue_order=hue_order,\n",
        "                alpha=0.4,\n",
        "                palette= {'2010-2014': 'blue',\n",
        "                          '2015-2020': 'red',\n",
        "                          '2020-2023': 'yellow'},\n",
        "                size = 1,\n",
        "                sizes = (5, 100))\n",
        "# alterar localização dos nomes dos municipios\n",
        "for idx, row in malha_rmbh.iterrows():\n",
        "    centroid = row['geometry'].centroid\n",
        "    centroid_x = centroid.x\n",
        "    centroid_y = centroid.y\n",
        "    nome_municipio = row['nm_mun']\n",
        "    if nome_municipio == 'Sabará':\n",
        "        centroid_x = centroid_x*1.001\n",
        "        centroid_y = centroid_y*1.002\n",
        "    if nome_municipio == 'Esmeraldas':\n",
        "        centroid_x = centroid_x*0.999\n",
        "    if nome_municipio == 'São Joaquim de Bicas':\n",
        "        nome_municipio = 'São Joaquim \\n de Bicas'\n",
        "    if nome_municipio == 'Raposos':\n",
        "        centroid_x = centroid_x*1.0005\n",
        "        centroid_y = centroid_y*0.9998\n",
        "    # add o nome\n",
        "    if xmin <= centroid_x <= xmax and ymin <= centroid_y <= ymax:\n",
        "        ax.text(centroid_x, centroid_y, nome_municipio, fontsize=6, ha='center', color='black')\n",
        "\n",
        "#ax.set_title('Localização dos empreendimentos \\n de acordo com a periodização', loc='center')\n",
        "# #legend\n",
        "handles, labels = ax.get_legend_handles_labels()\n",
        "leg = ax.legend(handles[0:-1], labels[0:-1],\n",
        "                loc = 'center',\n",
        "                bbox_to_anchor=(1.2, 0.5),\n",
        "                title = 'Periodização',\n",
        "                ncol=1)\n",
        "leg.get_frame().set_edgecolor('black')\n",
        "leg.get_frame().set_linewidth(0.4)\n",
        "\n",
        "#scalebar = ScaleBar(distance_meters, #units=\"km\", dimension=\"si-length\",\n",
        "#                    length_fraction=0.25, location=\"lower right\", scale_loc=\"top\", box_alpha=0.0)\n",
        "#ax.add_artist(scalebar)\n",
        "\n",
        "plt.xlim(xmin, xmax)\n",
        "plt.ylim(ymin, ymax)\n",
        "plt.show()"
      ]
    },
    {
      "cell_type": "code",
      "execution_count": null,
      "id": "1e447d41-b8fc-41f6-b096-0c6b82b4a00e",
      "metadata": {
        "tags": [],
        "id": "1e447d41-b8fc-41f6-b096-0c6b82b4a00e"
      },
      "outputs": [],
      "source": [
        "labels"
      ]
    },
    {
      "cell_type": "code",
      "execution_count": null,
      "id": "f5d884e4-42a1-411d-a64f-874cac1bf37c",
      "metadata": {
        "id": "f5d884e4-42a1-411d-a64f-874cac1bf37c"
      },
      "outputs": [],
      "source": [
        "fig.savefig(fr'{path_imagens}\\2.empreendimentos_periodizacao.png',\n",
        "            dpi=300, bbox_inches='tight', format='png')"
      ]
    },
    {
      "cell_type": "code",
      "execution_count": null,
      "id": "12e72a77-de50-4860-8524-32ec6f8848a3",
      "metadata": {
        "id": "12e72a77-de50-4860-8524-32ec6f8848a3"
      },
      "outputs": [],
      "source": [
        "df_rgi.head(1)"
      ]
    },
    {
      "cell_type": "markdown",
      "id": "700c6003-17aa-4017-9ba9-151d48256b53",
      "metadata": {
        "id": "700c6003-17aa-4017-9ba9-151d48256b53"
      },
      "source": [
        "## Nº Unidades"
      ]
    },
    {
      "cell_type": "code",
      "execution_count": null,
      "id": "30a5d594-b495-48b7-bd7e-e2897ed337ef",
      "metadata": {
        "id": "30a5d594-b495-48b7-bd7e-e2897ed337ef"
      },
      "outputs": [],
      "source": [
        "fig, ax = plt.subplots(figsize=(5, 6))\n",
        "malha_rmbh.plot(ax=ax, color='blue', alpha = 0.1,\n",
        "               edgecolor='black', linewidths=0.4)\n",
        "malha_dados.plot(ax=ax, color='blue', alpha = 0.2,\n",
        "               edgecolor='black', linewidths=0.8) # linewidths só funciona com edgecolor\n",
        "malha_regionais.plot(ax=ax, color='blue', alpha = 0.2,\n",
        "                     edgecolor='black', linewidths=1)\n",
        "\n",
        "sns.scatterplot(data=df_rgi,\n",
        "                x='x', y='y',\n",
        "                alpha=0.4,\n",
        "                size = 'n_total_de_unidades_empreendimento',\n",
        "                sizes = (1, 200))\n",
        "ax.legend(loc='right', bbox_to_anchor=(-0.15, 0.5), title='Period')\n",
        "plt.xlim(xmin, xmax)\n",
        "plt.ylim(ymin, ymax)"
      ]
    },
    {
      "cell_type": "code",
      "execution_count": null,
      "id": "559dfbbe-e91f-42a1-b594-9c0b335f1e48",
      "metadata": {
        "id": "559dfbbe-e91f-42a1-b594-9c0b335f1e48"
      },
      "outputs": [],
      "source": [
        "df_rgi.to_csv('empreendimentos.csv', index=False)"
      ]
    },
    {
      "cell_type": "code",
      "execution_count": null,
      "id": "6f1a4d04-9b44-44c6-a1cd-9a8556afce6f",
      "metadata": {
        "id": "6f1a4d04-9b44-44c6-a1cd-9a8556afce6f"
      },
      "outputs": [],
      "source": [
        "df_rgi"
      ]
    },
    {
      "cell_type": "code",
      "execution_count": null,
      "id": "0def1c33-71c3-40ce-9fd5-0cec3a564a4d",
      "metadata": {
        "id": "0def1c33-71c3-40ce-9fd5-0cec3a564a4d"
      },
      "outputs": [],
      "source": [
        "fig.savefig(fr'{path_imagens}\\3.empreendimentos_volume_unidades.png',\n",
        "            dpi=300, bbox_inches='tight', format='png')"
      ]
    },
    {
      "cell_type": "markdown",
      "id": "39b72229-95c0-4f0c-ba6e-394e5792411e",
      "metadata": {
        "id": "39b72229-95c0-4f0c-ba6e-394e5792411e"
      },
      "source": [
        "## Agentes"
      ]
    },
    {
      "cell_type": "code",
      "execution_count": null,
      "id": "d4305661-2650-4368-a585-ed3c261c4b82",
      "metadata": {
        "id": "d4305661-2650-4368-a585-ed3c261c4b82"
      },
      "outputs": [],
      "source": [
        "top_5_incorporadoras = df_rgi['incorporadora_1'].value_counts().head(5).index"
      ]
    },
    {
      "cell_type": "code",
      "execution_count": null,
      "id": "250bca29-ad07-4b39-96f0-70405309bd5b",
      "metadata": {
        "id": "250bca29-ad07-4b39-96f0-70405309bd5b"
      },
      "outputs": [],
      "source": [
        "df_rgi.head(1)"
      ]
    },
    {
      "cell_type": "code",
      "execution_count": null,
      "id": "271f8484-a0cf-425b-927e-b2a712eff5c5",
      "metadata": {
        "id": "271f8484-a0cf-425b-927e-b2a712eff5c5"
      },
      "outputs": [],
      "source": [
        "fig, ax = plt.subplots(figsize=(5, 6))\n",
        "malha_rmbh.plot(ax=ax, color='blue', alpha = 0.1,\n",
        "               edgecolor='black', linewidths=0.4)\n",
        "malha_dados.plot(ax=ax, color='blue', alpha = 0.2,\n",
        "               edgecolor='black', linewidths=0.8) # linewidths só funciona com edgecolor\n",
        "malha_regionais.plot(ax=ax, color='blue', alpha = 0.2,\n",
        "                     edgecolor='black', linewidths=1)\n",
        "\n",
        "hue_order = top_5_incorporadoras\n",
        "\n",
        "sns.scatterplot(data=df_rgi[df_rgi['incorporadora_1'].isin(top_5_incorporadoras)],\n",
        "                x='x', y='y',\n",
        "                hue='incorporadora_1', hue_order=hue_order,\n",
        "                alpha=0.4,\n",
        "                #palette= {'2010-2014': 'blue','2015-2020': 'red','2020-2023': 'yellow'},\n",
        "                size = 'n_total_de_unidades_empreendimento',\n",
        "                sizes = (1, 200))\n",
        "ax.legend(loc='right', bbox_to_anchor=(-0.15, 0.5), title='Period')\n",
        "plt.xlim(xmin, xmax)\n",
        "plt.ylim(ymin, ymax)"
      ]
    },
    {
      "cell_type": "code",
      "execution_count": null,
      "id": "72df1a7f-2710-4403-b5dc-c54fd33cee08",
      "metadata": {
        "id": "72df1a7f-2710-4403-b5dc-c54fd33cee08"
      },
      "outputs": [],
      "source": [
        "fig.savefig(fr'{path_imagens}\\3.empreendimentos_volume_e_construtora.png',\n",
        "           dpi=300, bbox_inches='tight', format='png')"
      ]
    },
    {
      "cell_type": "markdown",
      "id": "2a5414d3-c55f-4836-ae43-3982e5fefeff",
      "metadata": {
        "id": "2a5414d3-c55f-4836-ae43-3982e5fefeff"
      },
      "source": [
        "## Agregado Municipio e Regional BH"
      ]
    },
    {
      "cell_type": "markdown",
      "id": "dd8d7fe5-07b4-4c94-b95a-ad5c081dd4af",
      "metadata": {
        "id": "dd8d7fe5-07b4-4c94-b95a-ad5c081dd4af"
      },
      "source": [
        "### Regionais BH"
      ]
    },
    {
      "cell_type": "code",
      "execution_count": null,
      "id": "c2624828-bac3-4a85-8f34-9fc7778c8da9",
      "metadata": {
        "id": "c2624828-bac3-4a85-8f34-9fc7778c8da9"
      },
      "outputs": [],
      "source": [
        "df_rgi_bh = df_rgi[df_rgi['cidade'] == 'BELO HORIZONTE'].copy()\n",
        "df_rgi_bh = gpd.GeoDataFrame(df_rgi_bh, geometry='geometry')\n",
        "df_rgi_bh = df_rgi_bh.set_crs(4674)\n",
        "len(df_rgi_bh)"
      ]
    },
    {
      "cell_type": "code",
      "execution_count": null,
      "id": "f333cbcc-e4be-4131-bb05-85da1d37dcf1",
      "metadata": {
        "id": "f333cbcc-e4be-4131-bb05-85da1d37dcf1"
      },
      "outputs": [],
      "source": [
        "df_rgi_bh = gpd.sjoin(df_rgi_bh, malha_regionais[['nome_regional', 'geometry']],\n",
        "                       how='left',\n",
        "                       predicate='within')"
      ]
    },
    {
      "cell_type": "code",
      "execution_count": null,
      "id": "c9b65782-65ff-48e2-8aed-3f905d0fc444",
      "metadata": {
        "id": "c9b65782-65ff-48e2-8aed-3f905d0fc444"
      },
      "outputs": [],
      "source": [
        "len(df_rgi_bh[df_rgi_bh['nome_regional'].isnull()])"
      ]
    },
    {
      "cell_type": "code",
      "execution_count": null,
      "id": "63e4d74c-1208-4ba3-9243-ac3405a930b0",
      "metadata": {
        "id": "63e4d74c-1208-4ba3-9243-ac3405a930b0"
      },
      "outputs": [],
      "source": [
        "df_rgi_bh = df_rgi_bh[df_rgi_bh['nome_regional'].notnull()]"
      ]
    },
    {
      "cell_type": "code",
      "execution_count": null,
      "id": "68780c3b-b1f2-4263-9d9d-18e01d4d402c",
      "metadata": {
        "id": "68780c3b-b1f2-4263-9d9d-18e01d4d402c"
      },
      "outputs": [],
      "source": [
        "tab_regional = df_rgi_bh.pivot_table(index='nome_regional',\n",
        "                                      values = ['n_total_de_unidades_empreendimento',\n",
        "                                                'vgv'],\n",
        "                                      aggfunc = 'sum')\n",
        "tab_regional.reset_index(inplace=True)"
      ]
    },
    {
      "cell_type": "code",
      "execution_count": null,
      "id": "f0af300d-9c3a-4621-be78-d28771073a46",
      "metadata": {
        "id": "f0af300d-9c3a-4621-be78-d28771073a46"
      },
      "outputs": [],
      "source": [
        "malha_regionais = malha_regionais.merge(tab_regional, how='left', on = 'nome_regional')"
      ]
    },
    {
      "cell_type": "markdown",
      "id": "cafebe36-4c13-4986-b8ec-5ce1dc599ef3",
      "metadata": {
        "id": "cafebe36-4c13-4986-b8ec-5ce1dc599ef3"
      },
      "source": [
        "### Outros Municipios"
      ]
    },
    {
      "cell_type": "code",
      "execution_count": null,
      "id": "986c6e4d-2d66-44e4-88aa-758b370b7008",
      "metadata": {
        "id": "986c6e4d-2d66-44e4-88aa-758b370b7008"
      },
      "outputs": [],
      "source": [
        "df_rgi_not_bh = df_rgi[df_rgi['cidade'] != 'BELO HORIZONTE'].copy()\n",
        "df_rgi_not_bh = gpd.GeoDataFrame(df_rgi_not_bh, geometry='geometry')\n",
        "df_rgi_not_bh = df_rgi_not_bh.set_crs(4674)\n",
        "len(df_rgi_not_bh)"
      ]
    },
    {
      "cell_type": "code",
      "execution_count": null,
      "id": "121d6a89-48eb-49f4-b249-cb97df32bdc2",
      "metadata": {
        "id": "121d6a89-48eb-49f4-b249-cb97df32bdc2"
      },
      "outputs": [],
      "source": [
        "tab_municipios = df_rgi_not_bh.pivot_table(index='cidade',\n",
        "                          values = ['n_total_de_unidades_empreendimento',\n",
        "                                                'vgv'],\n",
        "                                      aggfunc = 'sum')\n",
        "tab_municipios.reset_index(inplace=True)"
      ]
    },
    {
      "cell_type": "code",
      "execution_count": null,
      "id": "0fc3eb08-5cef-4987-9fef-29f19000751c",
      "metadata": {
        "id": "0fc3eb08-5cef-4987-9fef-29f19000751c"
      },
      "outputs": [],
      "source": [
        "tab_municipios"
      ]
    },
    {
      "cell_type": "code",
      "execution_count": null,
      "id": "5db136b8-d2c7-4638-a125-dba66c49d204",
      "metadata": {
        "id": "5db136b8-d2c7-4638-a125-dba66c49d204"
      },
      "outputs": [],
      "source": [
        "malha_dados = malha_dados.merge(tab_municipios,\n",
        "                                how='left',\n",
        "                                left_on = 'nm_mun',\n",
        "                                right_on = 'cidade')"
      ]
    },
    {
      "cell_type": "code",
      "execution_count": null,
      "id": "8ec37a3d-89c1-4e00-bbec-e4837f5464de",
      "metadata": {
        "id": "8ec37a3d-89c1-4e00-bbec-e4837f5464de"
      },
      "outputs": [],
      "source": [
        "malha_dados_sem_bh = malha_dados[malha_dados['nm_mun']!='BELO HORIZONTE'].copy()"
      ]
    },
    {
      "cell_type": "code",
      "execution_count": null,
      "id": "0bdd1b12-5a18-406b-808e-7359a727679c",
      "metadata": {
        "id": "0bdd1b12-5a18-406b-808e-7359a727679c"
      },
      "outputs": [],
      "source": [
        "malha_regionais.head(1)"
      ]
    },
    {
      "cell_type": "markdown",
      "id": "cbf6ce66-83f6-4f70-a175-8af727c4788d",
      "metadata": {
        "id": "cbf6ce66-83f6-4f70-a175-8af727c4788d"
      },
      "source": [
        "### Agregating"
      ]
    },
    {
      "cell_type": "code",
      "execution_count": null,
      "id": "f3630ec8-ceab-4cff-acbb-77f56b7f81d5",
      "metadata": {
        "id": "f3630ec8-ceab-4cff-acbb-77f56b7f81d5"
      },
      "outputs": [],
      "source": [
        "mun_e_regionais = pd.concat([malha_dados_sem_bh,malha_regionais])\n",
        "mun_e_regionais = mun_e_regionais[['cidade', 'nome_regional',\n",
        "                                 'geometry',\n",
        "                                 'n_total_de_unidades_empreendimento',\n",
        "                                 'vgv']]\n",
        "mun_e_regionais.reset_index(drop=True, inplace=True)"
      ]
    },
    {
      "cell_type": "code",
      "execution_count": null,
      "id": "c86ba9c1-6095-439a-8d38-123f20cfacd3",
      "metadata": {
        "tags": [],
        "id": "c86ba9c1-6095-439a-8d38-123f20cfacd3"
      },
      "outputs": [],
      "source": [
        "mun_e_regionais.head(2)"
      ]
    },
    {
      "cell_type": "code",
      "execution_count": null,
      "id": "6952e0d6-dc09-47e9-a32e-0da62f829293",
      "metadata": {
        "tags": [],
        "id": "6952e0d6-dc09-47e9-a32e-0da62f829293"
      },
      "outputs": [],
      "source": [
        "mun_e_regionais['cidade_ou_regional'] = (\n",
        "    mun_e_regionais['cidade'].combine_first(mun_e_regionais['nome_regional']))"
      ]
    },
    {
      "cell_type": "code",
      "execution_count": null,
      "id": "2e1cc07f-b1a8-4863-9a1c-b97ff9097609",
      "metadata": {
        "id": "2e1cc07f-b1a8-4863-9a1c-b97ff9097609"
      },
      "outputs": [],
      "source": [
        "mun_e_regionais.drop(['cidade', 'nome_regional'], axis=1, inplace=True)"
      ]
    },
    {
      "cell_type": "code",
      "execution_count": null,
      "id": "355fdf07-da57-4ac7-a80b-fcec19361f12",
      "metadata": {
        "id": "355fdf07-da57-4ac7-a80b-fcec19361f12"
      },
      "outputs": [],
      "source": [
        "mun_e_regionais.head(1)"
      ]
    },
    {
      "cell_type": "code",
      "execution_count": null,
      "id": "97f03c81-a0c9-410f-ac78-552680ebeee4",
      "metadata": {
        "id": "97f03c81-a0c9-410f-ac78-552680ebeee4"
      },
      "outputs": [],
      "source": [
        "mun_e_regionais['y'] = mun_e_regionais['geometry'].centroid.y\n",
        "mun_e_regionais['x'] = mun_e_regionais['geometry'].centroid.x"
      ]
    },
    {
      "cell_type": "markdown",
      "id": "ef9ea1c3-9bbb-47c8-b1e7-7d2f3a91791e",
      "metadata": {
        "id": "ef9ea1c3-9bbb-47c8-b1e7-7d2f3a91791e"
      },
      "source": [
        "### Plot"
      ]
    },
    {
      "cell_type": "code",
      "execution_count": null,
      "id": "95525620-d4de-4d4b-9f17-950d05254715",
      "metadata": {
        "id": "95525620-d4de-4d4b-9f17-950d05254715"
      },
      "outputs": [],
      "source": [
        "mun_e_regionais.head(1)"
      ]
    },
    {
      "cell_type": "code",
      "execution_count": null,
      "id": "da1aadda-3101-4395-bf34-638412b250cf",
      "metadata": {
        "id": "da1aadda-3101-4395-bf34-638412b250cf"
      },
      "outputs": [],
      "source": [
        "fig, ax = plt.subplots(figsize=(5, 6))\n",
        "malha_rmbh.plot(ax=ax, color='blue', alpha = 0.1,\n",
        "               edgecolor='black', linewidths=0.4)\n",
        "malha_dados.plot(ax=ax, color='blue', alpha = 0.2,\n",
        "               edgecolor='black', linewidths=0.8) # linewidths só funciona com edgecolor\n",
        "malha_regionais.plot(ax=ax, color='blue', alpha = 0.2,\n",
        "                     edgecolor='black', linewidths=1)\n",
        "sns.scatterplot(data=mun_e_regionais,\n",
        "                x='x', y='y',\n",
        "                #hue='incorporadora_1', hue_order=hue_order,\n",
        "                alpha=0.4,\n",
        "                #palette= {'2010-2014': 'blue','2015-2020': 'red','2020-2023': 'yellow'},\n",
        "                size = 'n_total_de_unidades_empreendimento',\n",
        "                sizes = (10, 300))\n",
        "ax.legend(loc='right', bbox_to_anchor=(-0.15, 0.5), title='Period')\n",
        "plt.xlim(xmin, xmax)\n",
        "plt.ylim(ymin, ymax)"
      ]
    },
    {
      "cell_type": "code",
      "execution_count": null,
      "id": "fa98376c-0d59-4210-9f56-56b3e0f7b036",
      "metadata": {
        "id": "fa98376c-0d59-4210-9f56-56b3e0f7b036"
      },
      "outputs": [],
      "source": [
        "fig.savefig(fr'{path_imagens}\\4.empreendimentos_agregado_regional_e_municipio.png',\n",
        "           dpi=300, bbox_inches='tight', format='png')"
      ]
    },
    {
      "cell_type": "markdown",
      "id": "bbf392f4-dee8-44ca-bec4-0a46897fc1ac",
      "metadata": {
        "id": "bbf392f4-dee8-44ca-bec4-0a46897fc1ac"
      },
      "source": [
        "# Duvidas\n",
        "\n",
        "1) O que cada linha representa?\n",
        "2) o que é rgi\n",
        "3) Qual a relação do rgi com o código no Mapa e os empreendimentos?"
      ]
    },
    {
      "cell_type": "code",
      "execution_count": null,
      "id": "24a14b5d-12ba-46e5-85fe-2047b83f7426",
      "metadata": {
        "id": "24a14b5d-12ba-46e5-85fe-2047b83f7426"
      },
      "outputs": [],
      "source": [
        "df_rgi"
      ]
    },
    {
      "cell_type": "code",
      "execution_count": null,
      "id": "5f275248-e210-4411-b15e-b8ed7f6daaa4",
      "metadata": {
        "id": "5f275248-e210-4411-b15e-b8ed7f6daaa4"
      },
      "outputs": [],
      "source": [
        "df_rgi.to_excel(fr'empreendimentos.xlsx', index=False)"
      ]
    },
    {
      "cell_type": "code",
      "execution_count": null,
      "id": "78e45ccc-b8e0-4f91-bdf1-625ef92f9a62",
      "metadata": {
        "id": "78e45ccc-b8e0-4f91-bdf1-625ef92f9a62"
      },
      "outputs": [],
      "source": [
        "print('sucesso')"
      ]
    },
    {
      "cell_type": "code",
      "execution_count": null,
      "id": "c35f310c-bac5-413c-9aac-e897e99a6f82",
      "metadata": {
        "id": "c35f310c-bac5-413c-9aac-e897e99a6f82"
      },
      "outputs": [],
      "source": []
    },
    {
      "cell_type": "code",
      "execution_count": null,
      "id": "123d7b8a-efd3-4628-a018-910f90067f09",
      "metadata": {
        "id": "123d7b8a-efd3-4628-a018-910f90067f09"
      },
      "outputs": [],
      "source": []
    },
    {
      "cell_type": "code",
      "execution_count": null,
      "id": "4edf5106-df79-46d9-96d9-91e4141e0be4",
      "metadata": {
        "id": "4edf5106-df79-46d9-96d9-91e4141e0be4"
      },
      "outputs": [],
      "source": []
    }
  ],
  "metadata": {
    "kernelspec": {
      "display_name": "Python 3 (ipykernel)",
      "language": "python",
      "name": "python3"
    },
    "language_info": {
      "codemirror_mode": {
        "name": "ipython",
        "version": 3
      },
      "file_extension": ".py",
      "mimetype": "text/x-python",
      "name": "python",
      "nbconvert_exporter": "python",
      "pygments_lexer": "ipython3",
      "version": "3.9.10"
    },
    "toc-autonumbering": true,
    "toc-showcode": false,
    "toc-showtags": false,
    "colab": {
      "provenance": [],
      "toc_visible": true,
      "include_colab_link": true
    }
  },
  "nbformat": 4,
  "nbformat_minor": 5
}