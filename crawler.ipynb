{
  "cells": [
    {
      "cell_type": "markdown",
      "metadata": {
        "id": "view-in-github",
        "colab_type": "text"
      },
      "source": [
        "<a href=\"https://colab.research.google.com/github/rsnatorres/analise_dados_ramon/blob/main/crawler.ipynb\" target=\"_parent\"><img src=\"https://colab.research.google.com/assets/colab-badge.svg\" alt=\"Open In Colab\"/></a>"
      ]
    },
    {
      "cell_type": "markdown",
      "id": "2bf0aadb-5c2b-4a89-bfe6-49129bb54e68",
      "metadata": {
        "id": "2bf0aadb-5c2b-4a89-bfe6-49129bb54e68"
      },
      "source": [
        "# Improving Tasks"
      ]
    },
    {
      "cell_type": "markdown",
      "id": "d5ba066c-5aac-4edf-9cc6-9eae7f90a8e9",
      "metadata": {
        "id": "d5ba066c-5aac-4edf-9cc6-9eae7f90a8e9"
      },
      "source": [
        "1. VPN switcher still malfunctioning: not always connecting to random choice\n"
      ]
    },
    {
      "cell_type": "markdown",
      "id": "65066c50-a21f-46be-9671-5da24a4b8741",
      "metadata": {
        "id": "65066c50-a21f-46be-9671-5da24a4b8741"
      },
      "source": [
        "Using Cached google Data\n",
        "\n",
        "http://webcache.googleusercontent.com/search?q=cache:URL(URL of the website you want to scrape)."
      ]
    },
    {
      "cell_type": "markdown",
      "id": "31ddcbdb-ece8-4a58-9c6d-f3a604b0d231",
      "metadata": {
        "toc-hr-collapsed": true,
        "id": "31ddcbdb-ece8-4a58-9c6d-f3a604b0d231"
      },
      "source": [
        "# Importing and config"
      ]
    },
    {
      "cell_type": "markdown",
      "id": "a0a822de-0f53-4b22-98ba-367149556495",
      "metadata": {
        "id": "a0a822de-0f53-4b22-98ba-367149556495"
      },
      "source": [
        "## Packages"
      ]
    },
    {
      "cell_type": "code",
      "execution_count": null,
      "id": "5763a064",
      "metadata": {
        "tags": [],
        "id": "5763a064"
      },
      "outputs": [],
      "source": [
        "# get html\n",
        "from bs4 import BeautifulSoup as soup\n",
        "# simulating human interaction\n",
        "from selenium import webdriver\n",
        "from selenium.webdriver.common.by import By\n",
        "from selenium.webdriver.common.keys import Keys\n",
        "from selenium.webdriver.support.ui import WebDriverWait\n",
        "from selenium.webdriver.support import expected_conditions as EC\n",
        "from selenium.webdriver.chrome.options import Options\n",
        "# as duas importações a baixo são para lidar com o stop no meio do crawler\n",
        "from selenium.common.exceptions import NoSuchElementException\n",
        "from selenium.common.exceptions import StaleElementReferenceException\n",
        "# third party webdriver manager --> so dont need to download webdriver everytime\n",
        "from selenium.webdriver.chrome.service import Service as ChromeService\n",
        "from selenium.webdriver.common.action_chains import ActionChains\n",
        "from webdriver_manager.chrome import ChromeDriverManager\n",
        "# handle  swichting servers via nordvpn\n",
        "import subprocess\n",
        "from subprocess import check_output, DEVNULL\n",
        "import psutil\n",
        "import json\n",
        "import requests\n",
        "# other\n",
        "import os.path # to know if a file already exists --> append or write file\n",
        "import pandas as pd\n",
        "import numpy as np\n",
        "from datetime import datetime, timedelta\n",
        "import re # regular expressions\n",
        "import random\n",
        "import time\n",
        "import os\n",
        "from scipy.stats import powerlaw"
      ]
    },
    {
      "cell_type": "markdown",
      "id": "0dc91a00-9c01-4f5a-8f55-af986394ac6e",
      "metadata": {
        "id": "0dc91a00-9c01-4f5a-8f55-af986394ac6e"
      },
      "source": [
        "## Configs"
      ]
    },
    {
      "cell_type": "code",
      "execution_count": null,
      "id": "8a6f06ae-9d07-493e-8cd8-403f726883e5",
      "metadata": {
        "tags": [],
        "id": "8a6f06ae-9d07-493e-8cd8-403f726883e5"
      },
      "outputs": [],
      "source": [
        "ignored_exceptions = (NoSuchElementException,StaleElementReferenceException)"
      ]
    },
    {
      "cell_type": "code",
      "execution_count": null,
      "id": "d2dba908-9fbd-4c7e-913a-ce7698077e84",
      "metadata": {
        "tags": [],
        "id": "d2dba908-9fbd-4c7e-913a-ce7698077e84",
        "outputId": "d0d3c012-7483-4f32-bc79-01b877f8d9b0"
      },
      "outputs": [
        {
          "data": {
            "text/plain": [
              "'D:\\\\OneDrive\\\\0 - Torres Consultoria\\\\projetos\\\\Crawlers projects'"
            ]
          },
          "execution_count": 4,
          "metadata": {},
          "output_type": "execute_result"
        }
      ],
      "source": [
        "cwd = os.getcwd()\n",
        "cwd"
      ]
    },
    {
      "cell_type": "markdown",
      "id": "dad441ca-c27b-4125-9c17-eed2ee3b78a3",
      "metadata": {
        "tags": [],
        "id": "dad441ca-c27b-4125-9c17-eed2ee3b78a3"
      },
      "source": [
        "# Functions"
      ]
    },
    {
      "cell_type": "markdown",
      "id": "a871a992-fee9-48f8-b809-b982ef82de22",
      "metadata": {
        "id": "a871a992-fee9-48f8-b809-b982ef82de22"
      },
      "source": [
        "## Conn with usable IP"
      ]
    },
    {
      "cell_type": "code",
      "execution_count": null,
      "id": "16bc6060-9847-4003-80ba-9e270c1c1bd7",
      "metadata": {
        "tags": [],
        "id": "16bc6060-9847-4003-80ba-9e270c1c1bd7"
      },
      "outputs": [],
      "source": [
        "# VPN Funcion\n",
        "# sample code based on nordvpn switcher (discontinued package)\n",
        "#https://github.com/kboghe/NordVPN-switcher/blob/master/nordvpn_switcher/nordvpn_switch.py\n",
        "# Switching VPNs\n",
        "def get_nordvpn_servers():\n",
        "    print('Getting NordVpn Servers')\n",
        "    serverlist =  soup(requests.get(\"https://nordvpn.com/api/server\").content,\"html.parser\")\n",
        "    site_json = json.loads(serverlist.text)\n",
        "\n",
        "    global filtered_servers_win\n",
        "    filtered_servers_win = [] #windows\n",
        "    for specific_dict in site_json:\n",
        "        try:\n",
        "            if specific_dict['categories'][0]['name'] == 'Standard VPN servers':\n",
        "                filtered_servers_win.append(specific_dict['name'])\n",
        "            else:\n",
        "                pass\n",
        "        except IndexError:\n",
        "            pass\n",
        "    return filtered_servers_win\n",
        "\n",
        "def connect_nordvpn_server(cwd_path = 'C:/Program Files/NordVPN', country = 'Brazil'):\n",
        "    print('Establishing NordVPN Connection')\n",
        "    try:\n",
        "        country_servers = [x for x in filtered_servers_win if country in x]\n",
        "    except:\n",
        "        country_servers = [x for x in get_nordvpn_servers() if country in x]\n",
        "    global random_choice_server\n",
        "    random_choice_server = random.choice(country_servers)\n",
        "    print(f\"Connecting to '{random_choice_server}' server\")\n",
        "    open_nord_win = subprocess.Popen(\n",
        "        [\"nordvpn\", \"-c\", \"-n\", random_choice_server],\n",
        "         shell=True, cwd=cwd_path,stdout=DEVNULL)\n",
        "    return open_nord_win\n",
        "\n",
        "# connect_nordvpn_server() must run twice to work properly\n",
        "def try_nordvpn_connection_until_connected():\n",
        "    #trying_list = []\n",
        "    try:\n",
        "        connect_nordvpn_server()\n",
        "        print('Waiting for NordVPN app to open')\n",
        "        time.sleep(20)\n",
        "        try:\n",
        "            connect_nordvpn_server() # break point: server connection successful\n",
        "        except:\n",
        "            try_nordvpn_connection_until_connected()\n",
        "            print(f'Trying open nordvpn again')\n",
        "    except:\n",
        "        print(f'Trying open nordvpn again')\n",
        "        try_nordvpn_connection_until_connected()\n",
        "    print(f'Connection established')\n",
        "\n",
        "def request_until_get_ip():\n",
        "    try:\n",
        "        global ip\n",
        "        ip = requests.get('https://api.ipify.org').text\n",
        "    except:\n",
        "        print('requesting ip again...')\n",
        "        request_until_get_ip()\n",
        "\n",
        "def try_nordvpn_conn_usable_ip(days_blocked = 180):\n",
        "    # 1. connects with nordvpn\n",
        "    try_nordvpn_connection_until_connected()\n",
        "    print('Waitting until Ip request')\n",
        "    time.sleep(20) # time for ip change?\n",
        "    print('Getting IP')\n",
        "    #global ip\n",
        "    #ip = get_external_ip()\n",
        "    # ip = requests.get('https://api.ipify.org').text\n",
        "    request_until_get_ip()\n",
        "    global df_blocked_ips\n",
        "    if os.path.exists(FILE_BLOCKED_IPS): # file\n",
        "        df_blocked_ips = pd.read_csv(FILE_BLOCKED_IPS,\n",
        "                                 sep = ';',\n",
        "                                 parse_dates=['date_time'])\n",
        "        six_months_ago = datetime.now() - timedelta(days_blocked)\n",
        "        blocked_ips = df_blocked_ips[df_blocked_ips['date_time'] >= six_months_ago]['ip'].unique()\n",
        "\n",
        "        if ip in blocked_ips:\n",
        "            print(f'{ip} was recently blocked in {URL}')\n",
        "            try_nordvpn_conn_usable_ip()\n",
        "    else:\n",
        "        pass"
      ]
    },
    {
      "cell_type": "markdown",
      "id": "8d0873ac-742c-4862-ba11-ff6ab6cc4b1a",
      "metadata": {
        "id": "8d0873ac-742c-4862-ba11-ff6ab6cc4b1a"
      },
      "source": [
        "After connection with URL"
      ]
    },
    {
      "cell_type": "code",
      "execution_count": null,
      "id": "67f646c2-f149-4cca-9fad-7985ab730e6c",
      "metadata": {
        "tags": [],
        "id": "67f646c2-f149-4cca-9fad-7985ab730e6c"
      },
      "outputs": [],
      "source": [
        "def update_ips_block_list(file_blocked_ips = 'file_blocked_ips.csv'):\n",
        "    if os.path.isfile(file_blocked_ips):\n",
        "        f = open(file_blocked_ips, \"a\", encoding='utf-8\\n')\n",
        "        f.write(TODAY + ';' + ip + ';' + random_choice_server + '\\n')\n",
        "        f.close()\n",
        "        print(f'Ip {ip} inserted into blocked_file')\n",
        "    else:\n",
        "        f = open(file_blocked_ips, \"w\", encoding='utf-8\\n')\n",
        "        f.write('date_time' + ';' + 'ip' + ';' + 'server' + '\\n')\n",
        "        f.write(TODAY + ';' + ip + '\\n')\n",
        "        f.close()\n",
        "        print(f'Creating blocked_files: Ip {ip} inserted into blocked_file')\n",
        "\n",
        "def check_if_ip_blocked():\n",
        "    # checking if ip is blocked in URL page\n",
        "    if \"Sorry, you have been blocked\" in driver.page_source:\n",
        "        update_ips_block_list(file_blocked_ips = 'file_blocked_ips.csv')\n",
        "        return True\n",
        "    else:\n",
        "        print(f'{ip} is not blocked and request to URL was successful')\n",
        "        return False"
      ]
    },
    {
      "cell_type": "code",
      "execution_count": null,
      "id": "22d54d87-cac8-4949-b73a-55da488ff4e1",
      "metadata": {
        "tags": [],
        "id": "22d54d87-cac8-4949-b73a-55da488ff4e1"
      },
      "outputs": [],
      "source": [
        "# final function\n",
        "def try_url_conn_with_usable_ip(url,\n",
        "                                trying_list = [],\n",
        "                                days_blocked = 180):\n",
        "        # connects with a usable ip BASED ON HISTORIC BLOCKED IPS\n",
        "    try_nordvpn_conn_usable_ip(days_blocked = 180)\n",
        "        # connect with URL\n",
        "    global driver\n",
        "    driver = webdriver.Chrome(\n",
        "        service=ChromeService(ChromeDriverManager().install()))\n",
        "    driver.get(url)\n",
        "    time.sleep(5)\n",
        "    if check_if_ip_blocked() == True:\n",
        "        driver.quit()\n",
        "        print('current ip is blocked, quitting driver and start again')\n",
        "        try_url_conn_with_usable_ip()\n",
        "    driver.maximize_window()\n",
        "    print(f'Connection Successful with ip: \"{ip}\" & server: \"{random_choice_server}\"')"
      ]
    },
    {
      "cell_type": "code",
      "execution_count": null,
      "id": "2247865c-514d-4684-9895-88b6bfac2c56",
      "metadata": {
        "tags": [],
        "id": "2247865c-514d-4684-9895-88b6bfac2c56"
      },
      "outputs": [],
      "source": [
        "def try_url(url):\n",
        "    global driver\n",
        "    driver = webdriver.Chrome(service=ChromeService(ChromeDriverManager().install()))\n",
        "    driver.get(url)\n",
        "    driver.maximize_window()\n",
        "    time.sleep(5)"
      ]
    },
    {
      "cell_type": "code",
      "execution_count": null,
      "id": "9d1a6f2c-f6a1-4fe6-b965-0a014fb165fb",
      "metadata": {
        "tags": [],
        "id": "9d1a6f2c-f6a1-4fe6-b965-0a014fb165fb"
      },
      "outputs": [],
      "source": [
        "#try_url(url = URL)"
      ]
    },
    {
      "cell_type": "code",
      "execution_count": null,
      "id": "021a6178-9d2e-4792-a8be-37e6e4caae7d",
      "metadata": {
        "id": "021a6178-9d2e-4792-a8be-37e6e4caae7d"
      },
      "outputs": [],
      "source": []
    },
    {
      "cell_type": "markdown",
      "id": "9e379f4f-79f0-40c7-882e-1a7b31beb41d",
      "metadata": {
        "tags": [],
        "toc-hr-collapsed": true,
        "id": "9e379f4f-79f0-40c7-882e-1a7b31beb41d"
      },
      "source": [
        "## Mimic users behaviour\n",
        "\n",
        "Functions that mimics users behaviour"
      ]
    },
    {
      "cell_type": "code",
      "execution_count": null,
      "id": "b29fa5cd-730a-4797-b68e-444f18993741",
      "metadata": {
        "tags": [],
        "id": "b29fa5cd-730a-4797-b68e-444f18993741"
      },
      "outputs": [],
      "source": [
        "# Interaction Functions (webdriver/selenium functions)\n",
        "def find_element_by_xpath(xpath):\n",
        "    return WebDriverWait(driver, 10, ignored_exceptions=ignored_exceptions).until(\n",
        "                            EC.presence_of_element_located((By.XPATH, xpath)))\n",
        "def find_element_by_css(css_selector):\n",
        "    return WebDriverWait(driver, 10, ignored_exceptions=ignored_exceptions).until(\n",
        "                            EC.presence_of_element_located((By.CSS_SELECTOR, css_selector)))\n",
        "def find_all_elements(xpath):\n",
        "    return WebDriverWait(driver, 10, ignored_exceptions=ignored_exceptions).until(\n",
        "                            EC.presence_of_all_elements_located((By.XPATH,  xpath)))\n",
        "# robust alternative if element.click() fails\n",
        "def click_button(button):\n",
        "    time.sleep(np.random.randint(2,4))\n",
        "    return driver.execute_script(\"arguments[0].click();\", button)\n",
        "\n",
        "def scroll_until_visible(button):\n",
        "    current_position = driver.execute_script(\"return window.scrollY\")\n",
        "    target_position = button.location['y']\n",
        "\n",
        "    while current_position < target_position:\n",
        "        step = 70\n",
        "\n",
        "        driver.execute_script(f\"window.scrollBy(0, {step});\")\n",
        "        current_position += step\n",
        "        time.sleep(powerlaw.rvs(0.07, # the higher --> less concentration in corner\n",
        "                   scale = 2.5, # maximum value -> 3 seconds\n",
        "                   size = 1)[0])"
      ]
    },
    {
      "cell_type": "code",
      "execution_count": null,
      "id": "d551fed6-ea6f-42dc-b097-7171d9520337",
      "metadata": {
        "id": "d551fed6-ea6f-42dc-b097-7171d9520337"
      },
      "outputs": [],
      "source": []
    },
    {
      "cell_type": "code",
      "execution_count": null,
      "id": "a4ea4022-db71-43ea-9797-82cbfbdf9d79",
      "metadata": {
        "id": "a4ea4022-db71-43ea-9797-82cbfbdf9d79"
      },
      "outputs": [],
      "source": []
    },
    {
      "cell_type": "markdown",
      "id": "8516fd8b",
      "metadata": {
        "id": "8516fd8b"
      },
      "source": [
        "## Site Crawling"
      ]
    },
    {
      "cell_type": "markdown",
      "id": "09cf6e2a-2973-43ac-bc05-bdb574875ad0",
      "metadata": {
        "id": "09cf6e2a-2973-43ac-bc05-bdb574875ad0"
      },
      "source": [
        "## Setting Ambient Vars"
      ]
    },
    {
      "cell_type": "markdown",
      "id": "ee03191d",
      "metadata": {
        "tags": [],
        "id": "ee03191d"
      },
      "source": [
        "### Home Search\n",
        "\n",
        "Mostly sites we must specify with 3 things:\n",
        "1. COMPRAR_OU_ALUGAR\n",
        "2. TIPO_IMOVEL\n",
        "3. city"
      ]
    },
    {
      "cell_type": "markdown",
      "id": "5242d54c-914a-4ca9-ab27-606a808bc215",
      "metadata": {
        "tags": [],
        "id": "5242d54c-914a-4ca9-ab27-606a808bc215"
      },
      "source": [
        "COMPRAR_OU_ALUGAR"
      ]
    },
    {
      "cell_type": "code",
      "execution_count": null,
      "id": "13f353ea-675f-4acd-a3f0-930c568e439a",
      "metadata": {
        "tags": [],
        "id": "13f353ea-675f-4acd-a3f0-930c568e439a"
      },
      "outputs": [],
      "source": [
        "# Find and click option based on condition\n",
        "#COMPRAR_OU_ALUGAR = \"'Comprar'\" # double so can enter in .format() like 'word'"
      ]
    },
    {
      "cell_type": "code",
      "execution_count": null,
      "id": "22559d9f-576a-469d-8f63-7217f7ff2f41",
      "metadata": {
        "tags": [],
        "id": "22559d9f-576a-469d-8f63-7217f7ff2f41"
      },
      "outputs": [],
      "source": [
        "def define_buy_or_rent(comprar_ou_alugar = 'Comprar'):\n",
        "    button_comprar_ou_alugar = find_element_by_xpath(\n",
        "                f\"//button[text() = '{comprar_ou_alugar}']\")\n",
        "    #button_comprar_ou_alugar.text\n",
        "    click_button(button_comprar_ou_alugar)"
      ]
    },
    {
      "cell_type": "markdown",
      "id": "e8b260dd-222d-4523-85e7-d8cb04b6a234",
      "metadata": {
        "id": "e8b260dd-222d-4523-85e7-d8cb04b6a234"
      },
      "source": [
        "TIPO_IMOVEL"
      ]
    },
    {
      "cell_type": "code",
      "execution_count": null,
      "id": "574b7b20-bde3-46b1-b587-20dc4bd343d4",
      "metadata": {
        "tags": [],
        "id": "574b7b20-bde3-46b1-b587-20dc4bd343d4"
      },
      "outputs": [],
      "source": [
        "def define_real_estate_tipology_and_use(residencial_e_ou_comercial = ['Residencial'],\n",
        "                                        tipo_imovel = ['Apartamento']):\n",
        "    # find and click dropdown botton --> Tipos de Imóveis\n",
        "    dropdown_button = find_element_by_xpath(\n",
        "                    \"//button[contains(descendant::*/text(), 'Todos os imóveis')]\")\n",
        "    click_button(dropdown_button)\n",
        "    # select box options\n",
        "    for finalidade in residencial_e_ou_comercial:\n",
        "        for tipo in tipo_imovel:\n",
        "            time.sleep(np.random.randint(1,3))\n",
        "            #print(finalidade, tipo)\n",
        "            try:\n",
        "                option_dropdown_button = find_element_by_xpath(\n",
        "                f\"\"\"//div[@class='l-multiselect__item']\n",
        "                    //p[contains(text(), '{finalidade}')]\n",
        "                    /..\n",
        "                    //div[@class='l-multiselect__input']\n",
        "                    //*[text() = '{tipo}']\"\"\")\n",
        "                scroll_until_visible(option_dropdown_button)\n",
        "                time.sleep(np.random.randint(1,3))\n",
        "                click_button(option_dropdown_button)\n",
        "            except:\n",
        "                pass"
      ]
    },
    {
      "cell_type": "markdown",
      "id": "2ee79e63-af81-4186-baee-f0204011bdea",
      "metadata": {
        "id": "2ee79e63-af81-4186-baee-f0204011bdea"
      },
      "source": [
        "city"
      ]
    },
    {
      "cell_type": "code",
      "execution_count": null,
      "id": "c192f209-3e49-4b4e-9037-a21f91453e26",
      "metadata": {
        "tags": [],
        "id": "c192f209-3e49-4b4e-9037-a21f91453e26"
      },
      "outputs": [],
      "source": [
        "def define_locality(city = 'Belo Horizonte', bairro = None):\n",
        "    \"\"\"city must be a city!!!\"\"\"\n",
        "    # dropdown button\n",
        "    dropdown_button = find_element_by_xpath(\"//input[@placeholder= 'Digite o nome da rua, bairro ou cidade']\")\n",
        "    scroll_until_visible(dropdown_button)\n",
        "    click_button(dropdown_button)\n",
        "    # write and click options\n",
        "    try:\n",
        "        if bairro == None:\n",
        "            locality = city\n",
        "            for letter in locality:\n",
        "                time.sleep(random.randint(0,1))\n",
        "                dropdown_button.send_keys(letter)\n",
        "            time.sleep(3)\n",
        "            # mark options\n",
        "            option_dropdown_button = find_element_by_xpath(\n",
        "                        f\"\"\"//div[@data-cy='locations-item']\n",
        "                            //p[contains(text(), 'Cidades')]\n",
        "                            /..\n",
        "                            //div[@class='l-multiselect__input']\n",
        "                            //*[contains(translate(text(), 'ABCDEFGHIJKLMNOPQRSTUVWXYZ', 'abcdefghijklmnopqrstuvwxyz'),\n",
        "                                                    '{city.lower()}')]\n",
        "                            /..\"\"\")\n",
        "            click_button(option_dropdown_button)\n",
        "        else:\n",
        "            locality = city + ' ' + bairro\n",
        "            for letter in locality:\n",
        "                time.sleep(random.randint(0,1))\n",
        "                dropdown_button.send_keys(letter)\n",
        "            time.sleep(3)\n",
        "            # mark options\n",
        "            option_dropdown_button = find_element_by_xpath(\n",
        "                f\"\"\"//div[@data-cy='locations-item']\n",
        "                    //p[contains(text(), 'Bairros')]\n",
        "                    /..\n",
        "                    //div[@class='l-multiselect__input']\n",
        "                    //*[contains(translate(text(), 'ABCDEFGHIJKLMNOPQRSTUVWXYZ', 'abcdefghijklmnopqrstuvwxyz'),\n",
        "                                '{city.lower()}')\n",
        "                    and contains(translate(text(), 'ABCDEFGHIJKLMNOPQRSTUVWXYZ', 'abcdefghijklmnopqrstuvwxyz'),\n",
        "                                '{bairro.lower()}')]\n",
        "                    /..\"\"\")\n",
        "            click_button(option_dropdown_button)\n",
        "    except:\n",
        "        time.sleep(10)\n",
        "        for _ in len(locality):\n",
        "            dropdown_button.send_keys(Keys.BACKSPACE)\n",
        "        define_locality(city = city, bairro = bairro)"
      ]
    },
    {
      "cell_type": "markdown",
      "id": "ac7e95ae-1478-423a-9a32-aa8e67e51368",
      "metadata": {
        "tags": [],
        "id": "ac7e95ae-1478-423a-9a32-aa8e67e51368"
      },
      "source": [
        "SUBMIT"
      ]
    },
    {
      "cell_type": "code",
      "execution_count": null,
      "id": "ea9f759e-db26-4270-8ff9-e0f6e536911d",
      "metadata": {
        "tags": [],
        "id": "ea9f759e-db26-4270-8ff9-e0f6e536911d"
      },
      "outputs": [],
      "source": [
        "def submit_search():\n",
        "    button_submit_search = find_element_by_xpath(\"//button[@type= 'submit']\")\n",
        "    click_button(button_submit_search)"
      ]
    },
    {
      "cell_type": "markdown",
      "id": "2ed51f16-8d37-4ea5-8806-ce2796a85e96",
      "metadata": {
        "id": "2ed51f16-8d37-4ea5-8806-ce2796a85e96"
      },
      "source": [
        "Home Search (FINAL)"
      ]
    },
    {
      "cell_type": "code",
      "execution_count": null,
      "id": "9f2b61cd-34f0-4e77-9390-a011994154ff",
      "metadata": {
        "tags": [],
        "id": "9f2b61cd-34f0-4e77-9390-a011994154ff"
      },
      "outputs": [],
      "source": [
        "def home_search(comprar_ou_alugar = 'Comprar',\n",
        "                residencial_e_ou_comercial = ['Residencial'],\n",
        "                tipo_imovel = ['Apartamento'],\n",
        "                city = 'Belo Horizonte',\n",
        "                bairro = None):\n",
        "\n",
        "    define_buy_or_rent(comprar_ou_alugar = comprar_ou_alugar)\n",
        "    define_real_estate_tipology_and_use(residencial_e_ou_comercial = residencial_e_ou_comercial,\n",
        "                                        tipo_imovel = tipo_imovel)\n",
        "    define_locality(city = city, bairro = bairro)\n",
        "    submit_search()"
      ]
    },
    {
      "cell_type": "markdown",
      "id": "7e6a6db5-3dfd-40b3-b616-0743f16fa637",
      "metadata": {
        "id": "7e6a6db5-3dfd-40b3-b616-0743f16fa637"
      },
      "source": [
        "## Open Csv"
      ]
    },
    {
      "cell_type": "code",
      "execution_count": null,
      "id": "64618818-0b3d-4076-a72b-d8478818cdec",
      "metadata": {
        "id": "64618818-0b3d-4076-a72b-d8478818cdec"
      },
      "outputs": [],
      "source": [
        "def open_csv(FILE_NAME, mode = \"w\"):# if a csv file already exists\n",
        "    global f\n",
        "    if mode == \"a\":#os.path.isfile(FILE_NAME):\n",
        "        try:\n",
        "            global last_page_number\n",
        "            last_page_number = int(pd.read_csv(FILE_NAME, sep=';')['page'].max()) # last page mined\n",
        "        except Exception as e:\n",
        "            print(f\"Error: {e}\")\n",
        "        finally:\n",
        "            f = open(FILE_NAME, \"a\", encoding='utf-8\\n') # APPEND\n",
        "    elif mode == \"w\":\n",
        "        f = open(FILE_NAME, \"w\", encoding='utf-8\\n') # WRITE a NEW file\n",
        "        headers = \"\"\"TODAY;COMPRAR_OU_ALUGAR;RESIDENCIAL_E_OU_COMERCIAL;TIPO_IMOVEL;city;title;address;area;rooms;bathroom;garag;price;condo_price;amenities;id_;href;page;\\n\"\"\"\n",
        "        f.write(headers)\n",
        "    else:\n",
        "        return \"Error in conditions\""
      ]
    },
    {
      "cell_type": "markdown",
      "id": "dda0f0f3-6916-47c4-951d-9e9de4011d07",
      "metadata": {
        "id": "dda0f0f3-6916-47c4-951d-9e9de4011d07"
      },
      "source": [
        "## Feature Extraction"
      ]
    },
    {
      "cell_type": "code",
      "execution_count": null,
      "id": "a6043788-3922-495b-9c5f-bb67bad203d4",
      "metadata": {
        "tags": [],
        "id": "a6043788-3922-495b-9c5f-bb67bad203d4"
      },
      "outputs": [],
      "source": [
        "#search_results = find_element_by_xpath(\"//div[@class= 'results-list js-results-list']\")\n",
        "#n_search_results = find_element_by_xpath(\"//strong[@class= 'results-summary__count js-total-records']\")"
      ]
    },
    {
      "cell_type": "code",
      "execution_count": null,
      "id": "dea0ae5f-15aa-425e-8fc1-712569242230",
      "metadata": {
        "tags": [],
        "id": "dea0ae5f-15aa-425e-8fc1-712569242230"
      },
      "outputs": [],
      "source": [
        "# ALL PAGES: results quantity for search scattered along\n",
        "#n_search_results.text"
      ]
    },
    {
      "cell_type": "code",
      "execution_count": null,
      "id": "92f83d6d-caa6-4e3e-8ccb-eeb5cc236f5f",
      "metadata": {
        "tags": [],
        "id": "92f83d6d-caa6-4e3e-8ccb-eeb5cc236f5f"
      },
      "outputs": [],
      "source": [
        "# getting html\n",
        "def get_containers_in_html_by_div_xpath(div_xpath = \"//div[@class= 'results-list js-results-list']\"):\n",
        "    search_results = find_element_by_xpath(div_xpath)\n",
        "    html_content = search_results.get_attribute('outerHTML')\n",
        "    page_soup = soup(html_content, \"html.parser\")\n",
        "    containers = page_soup.findAll('article', 'class' == 'property-card__container js-property-card')\n",
        "    global n_containers\n",
        "    n_containers = len(containers)\n",
        "    #len(containers) # len of containers should always match len of cards in each page\n",
        "    # we should always use the xpath that leads to this result\n",
        "    return containers"
      ]
    },
    {
      "cell_type": "code",
      "execution_count": null,
      "id": "513d9a3a-261a-4ad8-b6af-9f9406ac8705",
      "metadata": {
        "tags": [],
        "id": "513d9a3a-261a-4ad8-b6af-9f9406ac8705"
      },
      "outputs": [],
      "source": [
        "# specific function for extration of text features\n",
        "def feature_text_extraction(xpath, container):\n",
        "    # transforma xpath to specific input formats needed by bsp find()\n",
        "    combined_pattern = re.compile(r\"//(\\w+)\\[@([^']+) = '([^']+)'\")\n",
        "\n",
        "    tag            = combined_pattern.match(xpath).group(1)\n",
        "    attribute_name = combined_pattern.match(xpath).group(2)\n",
        "    atribute_value = combined_pattern.match(xpath).group(3)\n",
        "\n",
        "    try:\n",
        "        text = container.find(tag, {attribute_name : atribute_value}).get_text().strip()\n",
        "        text = re.sub(r'\\s+', ' ', text)\n",
        "        return text\n",
        "    except:\n",
        "        return np.nan # f.write('Nan' + ';')"
      ]
    },
    {
      "cell_type": "code",
      "execution_count": null,
      "id": "cf0bf6d1-c60a-4208-aacc-21f8f63e365e",
      "metadata": {
        "tags": [],
        "id": "cf0bf6d1-c60a-4208-aacc-21f8f63e365e"
      },
      "outputs": [],
      "source": [
        "def attribute_text_extraction(xpath, attribute, data_index):\n",
        "     try:\n",
        "        text = find_element_by_xpath(xpath).get_attribute(attribute)\n",
        "        return text\n",
        "     except:\n",
        "        return np.nan"
      ]
    },
    {
      "cell_type": "code",
      "execution_count": null,
      "id": "728dd6f0-1670-49f7-a41b-5d12196875b3",
      "metadata": {
        "tags": [],
        "id": "728dd6f0-1670-49f7-a41b-5d12196875b3"
      },
      "outputs": [],
      "source": [
        "def get_and_write_page_features_for_each_container(containers):\n",
        "    page = find_element_by_css('button.js-change-page[data-active]').text\n",
        "    for i, container in enumerate(containers):\n",
        "        # features using soup\n",
        "        title       = feature_text_extraction(\"//span[@class = 'property-card__title js-cardLink js-card-title']\",\n",
        "                                        container = container)\n",
        "        address     = feature_text_extraction(\"//span[@class = 'property-card__address']\",\n",
        "                                        container = container)\n",
        "        area        = feature_text_extraction(\"//span[@class = 'property-card__detail-value js-property-card-value property-card__detail-area js-property-card-detail-area']\",\n",
        "                                        container = container)\n",
        "        rooms       = feature_text_extraction(\"//span[@class = 'property-card__detail-value js-property-card-value']\",\n",
        "                                        container = container)\n",
        "        bathroom    = feature_text_extraction(\"//span[@class = 'property-card__detail-value js-property-card-value']\",\n",
        "                                        container = container)\n",
        "        garage      = feature_text_extraction(\"//span[@class = 'property-card__detail-value js-property-card-value']\",\n",
        "                                        container = container)\n",
        "        price       = feature_text_extraction(\"//div[@class = 'property-card__price js-property-card-prices js-property-card__price-small']\",\n",
        "                                        container = container)\n",
        "        condo_price = feature_text_extraction(\"//strong[@class = 'js-condo-price']\",\n",
        "                                        container = container)\n",
        "        amenities   = '/'.join(i.text.strip() for i in container.findAll('li', {'class': 'amenities__item'}))\n",
        "        # using selenium --> these are not texts but attributes of html\n",
        "        id_    = attribute_text_extraction(\n",
        "                    #f\"\"\"//div[@data-type='property' and @data-index='{i}']\"\"\",\n",
        "                    f\"\"\"//div[@id and (@data-type ='property' or @data-index = '{i}')]\"\"\",\n",
        "                    data_index = i,\n",
        "                    attribute = 'id')\n",
        "        href   = attribute_text_extraction(\n",
        "                    #f\"\"\"//div[@data-type='property' and @data-index='{i}']//a\"\"\",\n",
        "                   f\"\"\"//div[@id and (@data-type ='property' or @data-index = '{i}')]//a\"\"\",\n",
        "                   data_index = i,\n",
        "                   attribute = 'href')\n",
        "        # storing AMBIENT VAR for log purposes\n",
        "        today = TODAY\n",
        "        #comprar_ou_alugar = COMPRAR_OU_ALUGAR\n",
        "        residencial_e_ou_comercial = RESIDENCIAL_E_OU_COMERCIAL\n",
        "        tipo_imovel = TIPO_IMOVEL\n",
        "        #city = city\n",
        "        # gettin all together for writing\n",
        "        variables = [today, comprar_ou_alugar, residencial_e_ou_comercial, tipo_imovel,\n",
        "                     city, title, address, area, rooms, bathroom, garage, price,\n",
        "                     condo_price, amenities, id_, href, page]\n",
        "        for var in variables:\n",
        "            f.write(str(var) + ';')\n",
        "        f.write('\\n')"
      ]
    },
    {
      "cell_type": "code",
      "execution_count": null,
      "id": "b7086cb9-09b5-4c95-8f52-aa325aaad113",
      "metadata": {
        "id": "b7086cb9-09b5-4c95-8f52-aa325aaad113"
      },
      "outputs": [],
      "source": []
    },
    {
      "cell_type": "markdown",
      "id": "1e898637-5176-456b-8ebd-9c05491a81f6",
      "metadata": {
        "id": "1e898637-5176-456b-8ebd-9c05491a81f6"
      },
      "source": [
        "# Crawl"
      ]
    },
    {
      "cell_type": "markdown",
      "id": "22e54709-fd74-42a9-a395-c4f0cbbc0fd2",
      "metadata": {
        "id": "22e54709-fd74-42a9-a395-c4f0cbbc0fd2"
      },
      "source": [
        "## Ambient Vars"
      ]
    },
    {
      "cell_type": "code",
      "execution_count": null,
      "id": "6dbf117f-1222-4254-95fc-ab94ce67ed1d",
      "metadata": {
        "id": "6dbf117f-1222-4254-95fc-ab94ce67ed1d"
      },
      "outputs": [],
      "source": [
        "df_bairros_bh = pd.read_csv('df_bairros_com_mais_imoveis_bh.csv')\n",
        "array_bairros_com_mais_imoveis_bh = df_bairros_bh.sort_values(\n",
        "    by='ano', ascending=False)['bairro'].str.lower().unique()"
      ]
    },
    {
      "cell_type": "code",
      "execution_count": null,
      "id": "3b657fb2-3776-4ec3-82a8-0884b1f65dcf",
      "metadata": {
        "tags": [],
        "id": "3b657fb2-3776-4ec3-82a8-0884b1f65dcf"
      },
      "outputs": [],
      "source": [
        "#USUARIO = ''\n",
        "#SENHA = ''\n",
        "URL = 'https://www.vivareal.com.br/'\n",
        "FILE_BLOCKED_IPS = 'file_blocked_ips_viva_real.csv' # columns: ['TODAY', 'blocked_ip', 'blocked_server']\n",
        "TODAY = pd.to_datetime('today') # Is this an ambient var?\n",
        "\n",
        "CITIES = ['Contagem', 'Lagoa Santa'] # for more cities, filename should be changed\n",
        "#BAIRROS = ['Boa Vista', 'Santa Inês', 'São Geraldo', 'Horto', 'Sagrada Família']\n",
        "COMPRAR_OU_ALUGAR = [\"'Comprar'\"]\n",
        "RESIDENCIAL_E_OU_COMERCIAL = ['Residencial']\n",
        "TIPO_IMOVEL = ['Apartamento', 'Casa']"
      ]
    },
    {
      "cell_type": "markdown",
      "id": "3971a472-039f-4436-8e33-6459692813ca",
      "metadata": {
        "tags": [],
        "id": "3971a472-039f-4436-8e33-6459692813ca"
      },
      "source": [
        "## Run\n",
        "\n",
        "The part which contains the architecture and STRATEGY of the webscraping\n",
        "\n",
        "How we activate each function, where and when"
      ]
    },
    {
      "cell_type": "code",
      "execution_count": null,
      "id": "ea829b2f-9cb4-41b5-8f7a-8831bdeabd24",
      "metadata": {
        "tags": [],
        "id": "ea829b2f-9cb4-41b5-8f7a-8831bdeabd24"
      },
      "outputs": [],
      "source": [
        "# test\n",
        "CITY = 'Vespasiano'\n",
        "opcao = 'Comprar'\n",
        "try_url(url = URL)"
      ]
    },
    {
      "cell_type": "code",
      "execution_count": null,
      "id": "06678bd8-a4c9-47b3-8012-e8c7930cbeef",
      "metadata": {
        "tags": [],
        "id": "06678bd8-a4c9-47b3-8012-e8c7930cbeef"
      },
      "outputs": [],
      "source": [
        "home_search(comprar_ou_alugar = opcao,\n",
        "                city = CITY,\n",
        "                #bairro = bairro,\n",
        "                residencial_e_ou_comercial = RESIDENCIAL_E_OU_COMERCIAL,\n",
        "                tipo_imovel = TIPO_IMOVEL)"
      ]
    },
    {
      "cell_type": "code",
      "execution_count": null,
      "id": "2e1d927f-c2aa-4615-9cb3-d3f6acb14642",
      "metadata": {
        "tags": [],
        "id": "2e1d927f-c2aa-4615-9cb3-d3f6acb14642"
      },
      "outputs": [],
      "source": [
        "for opcao in COMPRAR_OU_ALUGAR:\n",
        "    for CITY in CITIES:\n",
        "        FILE_NAME = f'viva_real_{CITY}_{TODAY.strftime(\"%m-%d-%Y\")}.csv'\n",
        "        #for bairro in BAIRROS:\n",
        "        # open file\n",
        "        #try:\n",
        "        open_csv(FILE_NAME, #mode='w'\n",
        "                ) # open csv_file\n",
        "        # enter site with an unblocked ip\n",
        "        #try_url_conn_with_usable_ip(url = URL)\n",
        "        try_url(url = URL) # for fast & manual vpn connection\n",
        "        # fill home search boxes with ambient vars and submit search\n",
        "        home_search(comprar_ou_alugar = opcao,\n",
        "                    city = CITY,\n",
        "                    #bairro = bairro,\n",
        "                    residencial_e_ou_comercial = RESIDENCIAL_E_OU_COMERCIAL,\n",
        "                    tipo_imovel = TIPO_IMOVEL)\n",
        "        time.sleep(2) # wait for results page to load\n",
        "        # SubSearch\n",
        "        # get the number of results (containers or cards)\n",
        "        n_search_results = int(\n",
        "                        find_element_by_xpath(\n",
        "                            \"//strong[@class= 'results-summary__count js-total-records']\").text.replace('.',''))\n",
        "        n = 0\n",
        "        while n < n_search_results:\n",
        "            time.sleep(2)\n",
        "            # scroll all page\n",
        "            button_next_page = find_element_by_xpath(\"//button[@title = 'Próxima página']\")\n",
        "            #scroll_until_visible(button_next_page)\n",
        "            # get containers\n",
        "            containers = get_containers_in_html_by_div_xpath(\n",
        "                            div_xpath = \"//div[@class= 'results-list js-results-list']\")\n",
        "            # write containers into csv\n",
        "            get_and_write_page_features_for_each_container(containers = containers)\n",
        "            # go to next page\n",
        "            click_button(button_next_page)\n",
        "            n += n_containers # global var\n",
        "            print(f\"{opcao}: {CITY}: {bairro}: {n} results mined\")\n",
        "        f.close()\n",
        "        driver.quit()\n",
        "        #except Exception as e:\n",
        "        #    print(f\"ERROR: {e}\")\n",
        "        #    f.close()\n",
        "        #    break\n",
        "            #drive.quit() # let it be open for browse investigation for a while"
      ]
    },
    {
      "cell_type": "code",
      "execution_count": null,
      "id": "809eb075-576e-42cc-a094-9b3b2ad7966b",
      "metadata": {
        "tags": [],
        "id": "809eb075-576e-42cc-a094-9b3b2ad7966b"
      },
      "outputs": [],
      "source": [
        "#driver.quit()"
      ]
    },
    {
      "cell_type": "code",
      "execution_count": null,
      "id": "c5a54847-f164-4831-af35-3bb3c5f8b5ad",
      "metadata": {
        "tags": [],
        "id": "c5a54847-f164-4831-af35-3bb3c5f8b5ad"
      },
      "outputs": [],
      "source": [
        "button_next_page = find_element_by_xpath(\"//button[@title = 'Próxima página']\")"
      ]
    },
    {
      "cell_type": "code",
      "execution_count": null,
      "id": "a024b516-6a59-446e-89f6-1ff3e361f176",
      "metadata": {
        "id": "a024b516-6a59-446e-89f6-1ff3e361f176"
      },
      "outputs": [],
      "source": [
        "click_button(button_next_page)"
      ]
    },
    {
      "cell_type": "code",
      "execution_count": null,
      "id": "4d1130f3-3942-4ef6-a1d0-434e05753cb2",
      "metadata": {
        "id": "4d1130f3-3942-4ef6-a1d0-434e05753cb2"
      },
      "outputs": [],
      "source": []
    },
    {
      "cell_type": "markdown",
      "id": "25b86e0f-f4ca-4502-9c90-7452ff814391",
      "metadata": {
        "id": "25b86e0f-f4ca-4502-9c90-7452ff814391"
      },
      "source": [
        "# Analysis"
      ]
    },
    {
      "cell_type": "code",
      "execution_count": null,
      "id": "63207a25-fbbe-4890-8a8a-f01824bd242c",
      "metadata": {
        "tags": [],
        "id": "63207a25-fbbe-4890-8a8a-f01824bd242c"
      },
      "outputs": [],
      "source": [
        "df = pd.read_csv(FILE_NAME, sep=';')"
      ]
    },
    {
      "cell_type": "code",
      "execution_count": null,
      "id": "2edf41e7-cd13-4ab5-b80b-77c9b78f62d5",
      "metadata": {
        "id": "2edf41e7-cd13-4ab5-b80b-77c9b78f62d5"
      },
      "outputs": [],
      "source": [
        "len(df), df['id_'].nunique()"
      ]
    },
    {
      "cell_type": "code",
      "execution_count": null,
      "id": "b94ef28f-1a06-440b-9f35-57c35afc10f2",
      "metadata": {
        "id": "b94ef28f-1a06-440b-9f35-57c35afc10f2"
      },
      "outputs": [],
      "source": [
        "df"
      ]
    },
    {
      "cell_type": "code",
      "execution_count": null,
      "id": "47b614a4-8510-4c86-bee6-96eb47b27fd3",
      "metadata": {
        "id": "47b614a4-8510-4c86-bee6-96eb47b27fd3"
      },
      "outputs": [],
      "source": []
    },
    {
      "cell_type": "code",
      "execution_count": null,
      "id": "18ab7329-8db7-452e-9421-e6b2c994c7d2",
      "metadata": {
        "id": "18ab7329-8db7-452e-9421-e6b2c994c7d2"
      },
      "outputs": [],
      "source": []
    },
    {
      "cell_type": "code",
      "execution_count": null,
      "id": "96267d63-e0be-4985-a377-88a455e447c4",
      "metadata": {
        "id": "96267d63-e0be-4985-a377-88a455e447c4"
      },
      "outputs": [],
      "source": []
    },
    {
      "cell_type": "code",
      "execution_count": null,
      "id": "78e2352c",
      "metadata": {
        "scrolled": true,
        "tags": [],
        "id": "78e2352c"
      },
      "outputs": [],
      "source": []
    },
    {
      "cell_type": "code",
      "execution_count": null,
      "id": "16a1c710",
      "metadata": {
        "id": "16a1c710"
      },
      "outputs": [],
      "source": []
    }
  ],
  "metadata": {
    "kernelspec": {
      "display_name": "Python 3 (ipykernel)",
      "language": "python",
      "name": "python3"
    },
    "language_info": {
      "codemirror_mode": {
        "name": "ipython",
        "version": 3
      },
      "file_extension": ".py",
      "mimetype": "text/x-python",
      "name": "python",
      "nbconvert_exporter": "python",
      "pygments_lexer": "ipython3",
      "version": "3.9.10"
    },
    "toc-autonumbering": true,
    "toc-showcode": false,
    "toc-showmarkdowntxt": false,
    "toc-showtags": false,
    "colab": {
      "provenance": [],
      "toc_visible": true,
      "include_colab_link": true
    }
  },
  "nbformat": 4,
  "nbformat_minor": 5
}